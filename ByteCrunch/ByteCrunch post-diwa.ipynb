{
 "cells": [
  {
   "cell_type": "code",
   "execution_count": 1,
   "id": "0ca3e7aa",
   "metadata": {},
   "outputs": [],
   "source": [
    "import pandas as pd\n",
    "import seaborn as sns\n",
    "import matplotlib.pyplot as plt\n",
    "import numpy as np\n",
    "\n",
    "%matplotlib inline"
   ]
  },
  {
   "cell_type": "code",
   "execution_count": 2,
   "id": "99e7c870",
   "metadata": {},
   "outputs": [
    {
     "data": {
      "text/html": [
       "<div>\n",
       "<style scoped>\n",
       "    .dataframe tbody tr th:only-of-type {\n",
       "        vertical-align: middle;\n",
       "    }\n",
       "\n",
       "    .dataframe tbody tr th {\n",
       "        vertical-align: top;\n",
       "    }\n",
       "\n",
       "    .dataframe thead th {\n",
       "        text-align: right;\n",
       "    }\n",
       "</style>\n",
       "<table border=\"1\" class=\"dataframe\">\n",
       "  <thead>\n",
       "    <tr style=\"text-align: right;\">\n",
       "      <th></th>\n",
       "      <th>DATE</th>\n",
       "      <th>SHOP_ID</th>\n",
       "      <th>PINCODE</th>\n",
       "      <th>SHOP</th>\n",
       "      <th>ITEM_ID</th>\n",
       "      <th>HR of the day</th>\n",
       "      <th>ORDERS</th>\n",
       "      <th>QTY</th>\n",
       "      <th>ITEM_GMV</th>\n",
       "      <th>CATEGORY</th>\n",
       "    </tr>\n",
       "  </thead>\n",
       "  <tbody>\n",
       "    <tr>\n",
       "      <th>0</th>\n",
       "      <td>2019-10-25</td>\n",
       "      <td>59264.0</td>\n",
       "      <td>400058.0</td>\n",
       "      <td>Bhikharam Chandmal</td>\n",
       "      <td>28489567.0</td>\n",
       "      <td>252.0</td>\n",
       "      <td>1.0</td>\n",
       "      <td>1.0</td>\n",
       "      <td>600.0</td>\n",
       "      <td>Mobiles</td>\n",
       "    </tr>\n",
       "    <tr>\n",
       "      <th>1</th>\n",
       "      <td>2019-10-26</td>\n",
       "      <td>185364.0</td>\n",
       "      <td>400144.0</td>\n",
       "      <td>SHRI KHANDELWAL LAPTOP Shop</td>\n",
       "      <td>40969708.0</td>\n",
       "      <td>231.0</td>\n",
       "      <td>1.0</td>\n",
       "      <td>1.0</td>\n",
       "      <td>400.0</td>\n",
       "      <td>Mobiles</td>\n",
       "    </tr>\n",
       "    <tr>\n",
       "      <th>2</th>\n",
       "      <td>2019-10-22</td>\n",
       "      <td>188886.0</td>\n",
       "      <td>411094.0</td>\n",
       "      <td>Trupthi KLK ELECTRONICS</td>\n",
       "      <td>41344294.0</td>\n",
       "      <td>252.0</td>\n",
       "      <td>1.0</td>\n",
       "      <td>1.0</td>\n",
       "      <td>150.0</td>\n",
       "      <td>Tablets</td>\n",
       "    </tr>\n",
       "    <tr>\n",
       "      <th>3</th>\n",
       "      <td>2019-10-21</td>\n",
       "      <td>185364.0</td>\n",
       "      <td>400144.0</td>\n",
       "      <td>SHRI KHANDELWAL LAPTOP Shop</td>\n",
       "      <td>40969716.0</td>\n",
       "      <td>378.0</td>\n",
       "      <td>2.0</td>\n",
       "      <td>4.0</td>\n",
       "      <td>800.0</td>\n",
       "      <td>TV</td>\n",
       "    </tr>\n",
       "    <tr>\n",
       "      <th>4</th>\n",
       "      <td>2019-10-18</td>\n",
       "      <td>186348.0</td>\n",
       "      <td>413849.0</td>\n",
       "      <td>New Gokul Cell phones</td>\n",
       "      <td>40970957.0</td>\n",
       "      <td>231.0</td>\n",
       "      <td>1.0</td>\n",
       "      <td>1.0</td>\n",
       "      <td>450.0</td>\n",
       "      <td>Tablets</td>\n",
       "    </tr>\n",
       "  </tbody>\n",
       "</table>\n",
       "</div>"
      ],
      "text/plain": [
       "        DATE   SHOP_ID   PINCODE                         SHOP     ITEM_ID  \\\n",
       "0 2019-10-25   59264.0  400058.0           Bhikharam Chandmal  28489567.0   \n",
       "1 2019-10-26  185364.0  400144.0  SHRI KHANDELWAL LAPTOP Shop  40969708.0   \n",
       "2 2019-10-22  188886.0  411094.0      Trupthi KLK ELECTRONICS  41344294.0   \n",
       "3 2019-10-21  185364.0  400144.0  SHRI KHANDELWAL LAPTOP Shop  40969716.0   \n",
       "4 2019-10-18  186348.0  413849.0        New Gokul Cell phones  40970957.0   \n",
       "\n",
       "   HR of the day  ORDERS  QTY  ITEM_GMV CATEGORY  \n",
       "0          252.0     1.0  1.0     600.0  Mobiles  \n",
       "1          231.0     1.0  1.0     400.0  Mobiles  \n",
       "2          252.0     1.0  1.0     150.0  Tablets  \n",
       "3          378.0     2.0  4.0     800.0       TV  \n",
       "4          231.0     1.0  1.0     450.0  Tablets  "
      ]
     },
     "execution_count": 2,
     "metadata": {},
     "output_type": "execute_result"
    }
   ],
   "source": [
    "df = pd.read_pickle(\"post-diwali-pickled\")\n",
    "df.head()"
   ]
  },
  {
   "cell_type": "code",
   "execution_count": 3,
   "id": "e52f9e5f",
   "metadata": {},
   "outputs": [
    {
     "name": "stdout",
     "output_type": "stream",
     "text": [
      "<class 'pandas.core.frame.DataFrame'>\n",
      "RangeIndex: 267431 entries, 0 to 267430\n",
      "Data columns (total 10 columns):\n",
      " #   Column         Non-Null Count   Dtype         \n",
      "---  ------         --------------   -----         \n",
      " 0   DATE           267430 non-null  datetime64[ns]\n",
      " 1   SHOP_ID        267430 non-null  float64       \n",
      " 2   PINCODE        267430 non-null  float64       \n",
      " 3   SHOP           267430 non-null  object        \n",
      " 4   ITEM_ID        267430 non-null  float64       \n",
      " 5   HR of the day  267430 non-null  float64       \n",
      " 6   ORDERS         267430 non-null  float64       \n",
      " 7   QTY            267430 non-null  float64       \n",
      " 8   ITEM_GMV       267431 non-null  float64       \n",
      " 9   CATEGORY       267430 non-null  object        \n",
      "dtypes: datetime64[ns](1), float64(7), object(2)\n",
      "memory usage: 20.4+ MB\n"
     ]
    }
   ],
   "source": [
    "df.info()"
   ]
  },
  {
   "cell_type": "code",
   "execution_count": 4,
   "id": "47bf52d8",
   "metadata": {},
   "outputs": [
    {
     "data": {
      "text/html": [
       "<div>\n",
       "<style scoped>\n",
       "    .dataframe tbody tr th:only-of-type {\n",
       "        vertical-align: middle;\n",
       "    }\n",
       "\n",
       "    .dataframe tbody tr th {\n",
       "        vertical-align: top;\n",
       "    }\n",
       "\n",
       "    .dataframe thead th {\n",
       "        text-align: right;\n",
       "    }\n",
       "</style>\n",
       "<table border=\"1\" class=\"dataframe\">\n",
       "  <thead>\n",
       "    <tr style=\"text-align: right;\">\n",
       "      <th></th>\n",
       "      <th>DATE</th>\n",
       "      <th>SHOP_ID</th>\n",
       "      <th>PINCODE</th>\n",
       "      <th>SHOP</th>\n",
       "      <th>ITEM_ID</th>\n",
       "      <th>HR of the day</th>\n",
       "      <th>ORDERS</th>\n",
       "      <th>QTY</th>\n",
       "      <th>ITEM_GMV</th>\n",
       "      <th>CATEGORY</th>\n",
       "    </tr>\n",
       "  </thead>\n",
       "  <tbody>\n",
       "    <tr>\n",
       "      <th>267430</th>\n",
       "      <td>NaT</td>\n",
       "      <td>NaN</td>\n",
       "      <td>NaN</td>\n",
       "      <td>NaN</td>\n",
       "      <td>NaN</td>\n",
       "      <td>NaN</td>\n",
       "      <td>NaN</td>\n",
       "      <td>NaN</td>\n",
       "      <td>5.805996e+08</td>\n",
       "      <td>NaN</td>\n",
       "    </tr>\n",
       "  </tbody>\n",
       "</table>\n",
       "</div>"
      ],
      "text/plain": [
       "       DATE  SHOP_ID  PINCODE SHOP  ITEM_ID  HR of the day  ORDERS  QTY  \\\n",
       "267430  NaT      NaN      NaN  NaN      NaN            NaN     NaN  NaN   \n",
       "\n",
       "            ITEM_GMV CATEGORY  \n",
       "267430  5.805996e+08      NaN  "
      ]
     },
     "execution_count": 4,
     "metadata": {},
     "output_type": "execute_result"
    }
   ],
   "source": [
    "df[df['DATE'].isnull()]"
   ]
  },
  {
   "cell_type": "code",
   "execution_count": 5,
   "id": "1d9e2dfc",
   "metadata": {},
   "outputs": [],
   "source": [
    "df.dropna(inplace=True)"
   ]
  },
  {
   "cell_type": "code",
   "execution_count": 6,
   "id": "0baab12d",
   "metadata": {},
   "outputs": [
    {
     "name": "stdout",
     "output_type": "stream",
     "text": [
      "Total orders: 363445 \n",
      "Total GMV of: 58.059956 crores\n"
     ]
    }
   ],
   "source": [
    "tot_ord = df['ORDERS'].sum()\n",
    "tot_gmv = df['ITEM_GMV'].sum()\n",
    "\n",
    "print(\"Total orders: %d \" % int(tot_ord))\n",
    "print(\"Total GMV of: %f crores\" % (tot_gmv/10000000))"
   ]
  },
  {
   "cell_type": "code",
   "execution_count": 7,
   "id": "27dedaed",
   "metadata": {},
   "outputs": [
    {
     "name": "stdout",
     "output_type": "stream",
     "text": [
      "PINCODE - 256 unique values\n",
      "SHOP_ID - 1094 unique values\n",
      "SHOP - 942 unique values\n"
     ]
    }
   ],
   "source": [
    "loc = ['PINCODE','SHOP_ID','SHOP']\n",
    "\n",
    "for i in loc:\n",
    "    val = df[i].nunique()\n",
    "    print(\"{} - {} unique values\".format(i,val))"
   ]
  },
  {
   "cell_type": "code",
   "execution_count": 8,
   "id": "31387426",
   "metadata": {},
   "outputs": [
    {
     "data": {
      "text/plain": [
       "Mobiles              38.958086\n",
       "Earphones            33.652419\n",
       "Tablets              12.617460\n",
       "Speakers              5.558069\n",
       "Laptops               3.924751\n",
       "Charger               2.198698\n",
       "TV                    2.041274\n",
       "Other Electronics     1.048869\n",
       "Name: CATEGORY, dtype: float64"
      ]
     },
     "execution_count": 8,
     "metadata": {},
     "output_type": "execute_result"
    }
   ],
   "source": [
    "df['CATEGORY'].value_counts()/2674.31"
   ]
  },
  {
   "cell_type": "markdown",
   "id": "17d70709",
   "metadata": {},
   "source": [
    "## Date wise comparison"
   ]
  },
  {
   "cell_type": "code",
   "execution_count": 9,
   "id": "9ce567b1",
   "metadata": {},
   "outputs": [
    {
     "data": {
      "text/html": [
       "<div>\n",
       "<style scoped>\n",
       "    .dataframe tbody tr th:only-of-type {\n",
       "        vertical-align: middle;\n",
       "    }\n",
       "\n",
       "    .dataframe tbody tr th {\n",
       "        vertical-align: top;\n",
       "    }\n",
       "\n",
       "    .dataframe thead th {\n",
       "        text-align: right;\n",
       "    }\n",
       "</style>\n",
       "<table border=\"1\" class=\"dataframe\">\n",
       "  <thead>\n",
       "    <tr style=\"text-align: right;\">\n",
       "      <th></th>\n",
       "      <th>ITEM_GMV (crores)</th>\n",
       "      <th>% TOT ORD</th>\n",
       "      <th>% TOT GMV</th>\n",
       "    </tr>\n",
       "    <tr>\n",
       "      <th>DATE</th>\n",
       "      <th></th>\n",
       "      <th></th>\n",
       "      <th></th>\n",
       "    </tr>\n",
       "  </thead>\n",
       "  <tbody>\n",
       "    <tr>\n",
       "      <th>2019-10-18</th>\n",
       "      <td>3.410</td>\n",
       "      <td>10.96</td>\n",
       "      <td>5.87</td>\n",
       "    </tr>\n",
       "    <tr>\n",
       "      <th>2019-10-19</th>\n",
       "      <td>4.062</td>\n",
       "      <td>13.05</td>\n",
       "      <td>7.00</td>\n",
       "    </tr>\n",
       "    <tr>\n",
       "      <th>2019-10-20</th>\n",
       "      <td>4.889</td>\n",
       "      <td>15.66</td>\n",
       "      <td>8.42</td>\n",
       "    </tr>\n",
       "    <tr>\n",
       "      <th>2019-10-21</th>\n",
       "      <td>3.693</td>\n",
       "      <td>11.33</td>\n",
       "      <td>6.36</td>\n",
       "    </tr>\n",
       "    <tr>\n",
       "      <th>2019-10-22</th>\n",
       "      <td>4.024</td>\n",
       "      <td>11.97</td>\n",
       "      <td>6.93</td>\n",
       "    </tr>\n",
       "    <tr>\n",
       "      <th>2019-10-23</th>\n",
       "      <td>4.265</td>\n",
       "      <td>11.73</td>\n",
       "      <td>7.35</td>\n",
       "    </tr>\n",
       "    <tr>\n",
       "      <th>2019-10-24</th>\n",
       "      <td>5.379</td>\n",
       "      <td>13.42</td>\n",
       "      <td>9.26</td>\n",
       "    </tr>\n",
       "    <tr>\n",
       "      <th>2019-10-25</th>\n",
       "      <td>6.658</td>\n",
       "      <td>14.13</td>\n",
       "      <td>11.47</td>\n",
       "    </tr>\n",
       "    <tr>\n",
       "      <th>2019-10-26</th>\n",
       "      <td>8.909</td>\n",
       "      <td>18.40</td>\n",
       "      <td>15.35</td>\n",
       "    </tr>\n",
       "    <tr>\n",
       "      <th>2019-10-27</th>\n",
       "      <td>8.715</td>\n",
       "      <td>19.19</td>\n",
       "      <td>15.01</td>\n",
       "    </tr>\n",
       "    <tr>\n",
       "      <th>2019-10-28</th>\n",
       "      <td>4.055</td>\n",
       "      <td>10.60</td>\n",
       "      <td>6.98</td>\n",
       "    </tr>\n",
       "  </tbody>\n",
       "</table>\n",
       "</div>"
      ],
      "text/plain": [
       "            ITEM_GMV (crores)  % TOT ORD  % TOT GMV\n",
       "DATE                                               \n",
       "2019-10-18              3.410      10.96       5.87\n",
       "2019-10-19              4.062      13.05       7.00\n",
       "2019-10-20              4.889      15.66       8.42\n",
       "2019-10-21              3.693      11.33       6.36\n",
       "2019-10-22              4.024      11.97       6.93\n",
       "2019-10-23              4.265      11.73       7.35\n",
       "2019-10-24              5.379      13.42       9.26\n",
       "2019-10-25              6.658      14.13      11.47\n",
       "2019-10-26              8.909      18.40      15.35\n",
       "2019-10-27              8.715      19.19      15.01\n",
       "2019-10-28              4.055      10.60       6.98"
      ]
     },
     "execution_count": 9,
     "metadata": {},
     "output_type": "execute_result"
    }
   ],
   "source": [
    "by_date = df.groupby('DATE').sum()[['ORDERS','ITEM_GMV']]\n",
    "by_date['ITEM_GMV (crores)'] = np.round(by_date['ITEM_GMV']/10000000,decimals=3)\n",
    "by_date['% TOT ORD'] = np.round(by_date['ORDERS']/2415.85,decimals=2)\n",
    "by_date['% TOT GMV'] = np.round(by_date['ITEM_GMV']*100/df['ITEM_GMV'].sum(),decimals=2)\n",
    "by_date.drop(['ORDERS','ITEM_GMV'],axis=1)"
   ]
  },
  {
   "cell_type": "code",
   "execution_count": 10,
   "id": "c9060100",
   "metadata": {},
   "outputs": [
    {
     "data": {
      "text/plain": [
       "'10-18'"
      ]
     },
     "execution_count": 10,
     "metadata": {},
     "output_type": "execute_result"
    }
   ],
   "source": [
    "dates = []\n",
    "\n",
    "for date in by_date.index :\n",
    "    dates.append(str(date)[-14:-9])\n",
    "    \n",
    "dates[0]"
   ]
  },
  {
   "cell_type": "code",
   "execution_count": 11,
   "id": "6660f875",
   "metadata": {},
   "outputs": [
    {
     "data": {
      "text/plain": [
       "<AxesSubplot:ylabel='ITEM_GMV'>"
      ]
     },
     "execution_count": 11,
     "metadata": {},
     "output_type": "execute_result"
    },
    {
     "data": {
      "image/png": "[encoded data removed]",
      "text/plain": [
       "<Figure size 1000x600 with 1 Axes>"
      ]
     },
     "metadata": {},
     "output_type": "display_data"
    }
   ],
   "source": [
    "plt.figure(figsize=(10,6))\n",
    "sns.barplot(x=dates,y=by_date.ITEM_GMV)"
   ]
  },
  {
   "cell_type": "code",
   "execution_count": 12,
   "id": "4ed4439c",
   "metadata": {},
   "outputs": [
    {
     "data": {
      "text/plain": [
       "<AxesSubplot:ylabel='ORDERS'>"
      ]
     },
     "execution_count": 12,
     "metadata": {},
     "output_type": "execute_result"
    },
    {
     "data": {
      "image/png": "[encoded data removed]",
      "text/plain": [
       "<Figure size 1000x600 with 1 Axes>"
      ]
     },
     "metadata": {},
     "output_type": "display_data"
    }
   ],
   "source": [
    "plt.figure(figsize=(10,6))\n",
    "sns.barplot(x=dates,y=by_date.ORDERS)"
   ]
  },
  {
   "cell_type": "markdown",
   "id": "c45c22f9",
   "metadata": {},
   "source": [
    "## Category wise comparison"
   ]
  },
  {
   "cell_type": "code",
   "execution_count": 13,
   "id": "fb883ca8",
   "metadata": {},
   "outputs": [
    {
     "data": {
      "text/html": [
       "<div>\n",
       "<style scoped>\n",
       "    .dataframe tbody tr th:only-of-type {\n",
       "        vertical-align: middle;\n",
       "    }\n",
       "\n",
       "    .dataframe tbody tr th {\n",
       "        vertical-align: top;\n",
       "    }\n",
       "\n",
       "    .dataframe thead th {\n",
       "        text-align: right;\n",
       "    }\n",
       "</style>\n",
       "<table border=\"1\" class=\"dataframe\">\n",
       "  <thead>\n",
       "    <tr style=\"text-align: right;\">\n",
       "      <th></th>\n",
       "      <th>ITEM_GMV (crores)</th>\n",
       "      <th>% Total ORD</th>\n",
       "      <th>% TOT GMV</th>\n",
       "    </tr>\n",
       "    <tr>\n",
       "      <th>CATEGORY</th>\n",
       "      <th></th>\n",
       "      <th></th>\n",
       "      <th></th>\n",
       "    </tr>\n",
       "  </thead>\n",
       "  <tbody>\n",
       "    <tr>\n",
       "      <th>Earphones</th>\n",
       "      <td>25.671</td>\n",
       "      <td>36.517</td>\n",
       "      <td>44.214461</td>\n",
       "    </tr>\n",
       "    <tr>\n",
       "      <th>Mobiles</th>\n",
       "      <td>16.336</td>\n",
       "      <td>37.208</td>\n",
       "      <td>28.136897</td>\n",
       "    </tr>\n",
       "    <tr>\n",
       "      <th>Tablets</th>\n",
       "      <td>6.280</td>\n",
       "      <td>11.879</td>\n",
       "      <td>10.816585</td>\n",
       "    </tr>\n",
       "    <tr>\n",
       "      <th>Speakers</th>\n",
       "      <td>3.955</td>\n",
       "      <td>5.538</td>\n",
       "      <td>6.812702</td>\n",
       "    </tr>\n",
       "    <tr>\n",
       "      <th>Laptops</th>\n",
       "      <td>2.586</td>\n",
       "      <td>3.748</td>\n",
       "      <td>4.454290</td>\n",
       "    </tr>\n",
       "    <tr>\n",
       "      <th>Other Electronics</th>\n",
       "      <td>1.213</td>\n",
       "      <td>1.138</td>\n",
       "      <td>2.089683</td>\n",
       "    </tr>\n",
       "    <tr>\n",
       "      <th>Charger</th>\n",
       "      <td>1.018</td>\n",
       "      <td>2.075</td>\n",
       "      <td>1.753931</td>\n",
       "    </tr>\n",
       "    <tr>\n",
       "      <th>TV</th>\n",
       "      <td>0.999</td>\n",
       "      <td>1.898</td>\n",
       "      <td>1.721450</td>\n",
       "    </tr>\n",
       "  </tbody>\n",
       "</table>\n",
       "</div>"
      ],
      "text/plain": [
       "                   ITEM_GMV (crores)  % Total ORD  % TOT GMV\n",
       "CATEGORY                                                    \n",
       "Earphones                     25.671       36.517  44.214461\n",
       "Mobiles                       16.336       37.208  28.136897\n",
       "Tablets                        6.280       11.879  10.816585\n",
       "Speakers                       3.955        5.538   6.812702\n",
       "Laptops                        2.586        3.748   4.454290\n",
       "Other Electronics              1.213        1.138   2.089683\n",
       "Charger                        1.018        2.075   1.753931\n",
       "TV                             0.999        1.898   1.721450"
      ]
     },
     "execution_count": 13,
     "metadata": {},
     "output_type": "execute_result"
    }
   ],
   "source": [
    "by_cat = df.groupby('CATEGORY').sum()[['ORDERS','ITEM_GMV']].sort_values(['ITEM_GMV'],ascending=False)\n",
    "by_cat['ITEM_GMV (crores)'] = np.round(by_cat['ITEM_GMV']/10000000,decimals=3)\n",
    "by_cat['% Total ORD'] = np.round(by_cat['ORDERS']/3634.45,decimals=3)\n",
    "by_cat['% TOT GMV'] = np.round(by_cat['ITEM_GMV']*100/df['ITEM_GMV'].sum(),decimals=6)\n",
    "by_cat.drop(['ORDERS','ITEM_GMV'],axis=1)"
   ]
  },
  {
   "cell_type": "code",
   "execution_count": 26,
   "id": "e3c11cf2",
   "metadata": {},
   "outputs": [
    {
     "data": {
      "text/plain": [
       "<AxesSubplot:title={'center':'Post-Diwali Sales'}, ylabel='% TOT GMV'>"
      ]
     },
     "execution_count": 26,
     "metadata": {},
     "output_type": "execute_result"
    },
    {
     "data": {
      "image/png": "[encoded data removed]",
      "text/plain": [
       "<Figure size 800x800 with 1 Axes>"
      ]
     },
     "metadata": {},
     "output_type": "display_data"
    }
   ],
   "source": [
    "by_cat.plot(kind='pie',y='% TOT GMV',legend=False,autopct='%1.0f%%', figsize=(8,8), title='Post-Diwali Sales')"
   ]
  },
  {
   "cell_type": "markdown",
   "id": "4af5471c",
   "metadata": {},
   "source": [
    "## Shop wise comparison"
   ]
  },
  {
   "cell_type": "code",
   "execution_count": 15,
   "id": "5f785166",
   "metadata": {},
   "outputs": [
    {
     "data": {
      "text/html": [
       "<div>\n",
       "<style scoped>\n",
       "    .dataframe tbody tr th:only-of-type {\n",
       "        vertical-align: middle;\n",
       "    }\n",
       "\n",
       "    .dataframe tbody tr th {\n",
       "        vertical-align: top;\n",
       "    }\n",
       "\n",
       "    .dataframe thead th {\n",
       "        text-align: right;\n",
       "    }\n",
       "</style>\n",
       "<table border=\"1\" class=\"dataframe\">\n",
       "  <thead>\n",
       "    <tr style=\"text-align: right;\">\n",
       "      <th></th>\n",
       "      <th>ORDERS</th>\n",
       "      <th>ITEM_GMV</th>\n",
       "      <th>% TOT ORD</th>\n",
       "      <th>% TOT GMV</th>\n",
       "      <th>GMV CUM</th>\n",
       "    </tr>\n",
       "    <tr>\n",
       "      <th>SHOP</th>\n",
       "      <th></th>\n",
       "      <th></th>\n",
       "      <th></th>\n",
       "      <th></th>\n",
       "      <th></th>\n",
       "    </tr>\n",
       "  </thead>\n",
       "  <tbody>\n",
       "    <tr>\n",
       "      <th>SS ELECTRONICS(Tripolis)</th>\n",
       "      <td>10224.0</td>\n",
       "      <td>3.021949e+07</td>\n",
       "      <td>2.813</td>\n",
       "      <td>5.204876</td>\n",
       "      <td>5.205</td>\n",
       "    </tr>\n",
       "    <tr>\n",
       "      <th>Samsung &amp; Apple's</th>\n",
       "      <td>8491.0</td>\n",
       "      <td>2.174238e+07</td>\n",
       "      <td>2.336</td>\n",
       "      <td>3.744815</td>\n",
       "      <td>8.950</td>\n",
       "    </tr>\n",
       "    <tr>\n",
       "      <th>Bhikharam Chandmal</th>\n",
       "      <td>7023.0</td>\n",
       "      <td>2.097310e+07</td>\n",
       "      <td>1.932</td>\n",
       "      <td>3.612318</td>\n",
       "      <td>12.562</td>\n",
       "    </tr>\n",
       "    <tr>\n",
       "      <th>NEW NALANDA Speaker Shop</th>\n",
       "      <td>8596.0</td>\n",
       "      <td>1.232197e+07</td>\n",
       "      <td>2.365</td>\n",
       "      <td>2.122284</td>\n",
       "      <td>14.684</td>\n",
       "    </tr>\n",
       "    <tr>\n",
       "      <th>Pathak Tablets</th>\n",
       "      <td>5785.0</td>\n",
       "      <td>1.223304e+07</td>\n",
       "      <td>1.592</td>\n",
       "      <td>2.106967</td>\n",
       "      <td>16.791</td>\n",
       "    </tr>\n",
       "  </tbody>\n",
       "</table>\n",
       "</div>"
      ],
      "text/plain": [
       "                           ORDERS      ITEM_GMV  % TOT ORD  % TOT GMV  GMV CUM\n",
       "SHOP                                                                          \n",
       "SS ELECTRONICS(Tripolis)  10224.0  3.021949e+07      2.813   5.204876    5.205\n",
       "Samsung & Apple's          8491.0  2.174238e+07      2.336   3.744815    8.950\n",
       "Bhikharam Chandmal         7023.0  2.097310e+07      1.932   3.612318   12.562\n",
       "NEW NALANDA Speaker Shop   8596.0  1.232197e+07      2.365   2.122284   14.684\n",
       "Pathak Tablets             5785.0  1.223304e+07      1.592   2.106967   16.791"
      ]
     },
     "execution_count": 15,
     "metadata": {},
     "output_type": "execute_result"
    }
   ],
   "source": [
    "by_shop = df.groupby('SHOP').sum()[['ORDERS','ITEM_GMV']].sort_values(['ITEM_GMV'],ascending=False)\n",
    "by_shop['% TOT ORD'] = np.round(by_shop['ORDERS']/3634.45,decimals=3)\n",
    "by_shop['% TOT GMV'] = np.round(by_shop['ITEM_GMV']*100/df['ITEM_GMV'].sum(),decimals=6)\n",
    "by_shop['GMV CUM'] = np.round(by_shop['% TOT GMV'].cumsum(axis=0),decimals=3)\n",
    "by_shop.head()"
   ]
  },
  {
   "cell_type": "code",
   "execution_count": 16,
   "id": "9f0b1757",
   "metadata": {},
   "outputs": [
    {
     "data": {
      "text/html": [
       "<div>\n",
       "<style scoped>\n",
       "    .dataframe tbody tr th:only-of-type {\n",
       "        vertical-align: middle;\n",
       "    }\n",
       "\n",
       "    .dataframe tbody tr th {\n",
       "        vertical-align: top;\n",
       "    }\n",
       "\n",
       "    .dataframe thead th {\n",
       "        text-align: right;\n",
       "    }\n",
       "</style>\n",
       "<table border=\"1\" class=\"dataframe\">\n",
       "  <thead>\n",
       "    <tr style=\"text-align: right;\">\n",
       "      <th></th>\n",
       "      <th>% TOT ORD</th>\n",
       "      <th>% TOT GMV</th>\n",
       "      <th>GMV CUM</th>\n",
       "    </tr>\n",
       "    <tr>\n",
       "      <th>SHOP</th>\n",
       "      <th></th>\n",
       "      <th></th>\n",
       "      <th></th>\n",
       "    </tr>\n",
       "  </thead>\n",
       "  <tbody>\n",
       "    <tr>\n",
       "      <th>SS ELECTRONICS(Tripolis)</th>\n",
       "      <td>2.813</td>\n",
       "      <td>5.204876</td>\n",
       "      <td>5.205</td>\n",
       "    </tr>\n",
       "    <tr>\n",
       "      <th>Samsung &amp; Apple's</th>\n",
       "      <td>2.336</td>\n",
       "      <td>3.744815</td>\n",
       "      <td>8.950</td>\n",
       "    </tr>\n",
       "    <tr>\n",
       "      <th>Bhikharam Chandmal</th>\n",
       "      <td>1.932</td>\n",
       "      <td>3.612318</td>\n",
       "      <td>12.562</td>\n",
       "    </tr>\n",
       "    <tr>\n",
       "      <th>NEW NALANDA Speaker Shop</th>\n",
       "      <td>2.365</td>\n",
       "      <td>2.122284</td>\n",
       "      <td>14.684</td>\n",
       "    </tr>\n",
       "    <tr>\n",
       "      <th>Pathak Tablets</th>\n",
       "      <td>1.592</td>\n",
       "      <td>2.106967</td>\n",
       "      <td>16.791</td>\n",
       "    </tr>\n",
       "    <tr>\n",
       "      <th>Nathu's Cell phones</th>\n",
       "      <td>1.971</td>\n",
       "      <td>2.050997</td>\n",
       "      <td>18.842</td>\n",
       "    </tr>\n",
       "    <tr>\n",
       "      <th>Kiranshree Cell phones &amp; Speakers</th>\n",
       "      <td>1.708</td>\n",
       "      <td>1.811203</td>\n",
       "      <td>20.653</td>\n",
       "    </tr>\n",
       "    <tr>\n",
       "      <th>Kaveri - Lalpur</th>\n",
       "      <td>1.296</td>\n",
       "      <td>1.658506</td>\n",
       "      <td>22.312</td>\n",
       "    </tr>\n",
       "    <tr>\n",
       "      <th>Samsung &amp; Apple's Prabhuji</th>\n",
       "      <td>0.835</td>\n",
       "      <td>1.602397</td>\n",
       "      <td>23.914</td>\n",
       "    </tr>\n",
       "    <tr>\n",
       "      <th>Rawat Tablet Shop- Nai Sadak</th>\n",
       "      <td>1.454</td>\n",
       "      <td>1.464283</td>\n",
       "      <td>25.379</td>\n",
       "    </tr>\n",
       "  </tbody>\n",
       "</table>\n",
       "</div>"
      ],
      "text/plain": [
       "                                   % TOT ORD  % TOT GMV  GMV CUM\n",
       "SHOP                                                            \n",
       "SS ELECTRONICS(Tripolis)               2.813   5.204876    5.205\n",
       "Samsung & Apple's                      2.336   3.744815    8.950\n",
       "Bhikharam Chandmal                     1.932   3.612318   12.562\n",
       "NEW NALANDA Speaker Shop               2.365   2.122284   14.684\n",
       "Pathak Tablets                         1.592   2.106967   16.791\n",
       "Nathu's Cell phones                    1.971   2.050997   18.842\n",
       "Kiranshree Cell phones & Speakers      1.708   1.811203   20.653\n",
       "Kaveri - Lalpur                        1.296   1.658506   22.312\n",
       "Samsung & Apple's Prabhuji             0.835   1.602397   23.914\n",
       "Rawat Tablet Shop- Nai Sadak           1.454   1.464283   25.379"
      ]
     },
     "execution_count": 16,
     "metadata": {},
     "output_type": "execute_result"
    }
   ],
   "source": [
    "by_shop[by_shop['GMV CUM']<26].drop(['ORDERS','ITEM_GMV'],axis=1)"
   ]
  },
  {
   "cell_type": "markdown",
   "id": "b9e548ce",
   "metadata": {},
   "source": [
    "## Location wise comparison"
   ]
  },
  {
   "cell_type": "code",
   "execution_count": 17,
   "id": "ee712ed1",
   "metadata": {},
   "outputs": [
    {
     "data": {
      "text/html": [
       "<div>\n",
       "<style scoped>\n",
       "    .dataframe tbody tr th:only-of-type {\n",
       "        vertical-align: middle;\n",
       "    }\n",
       "\n",
       "    .dataframe tbody tr th {\n",
       "        vertical-align: top;\n",
       "    }\n",
       "\n",
       "    .dataframe thead th {\n",
       "        text-align: right;\n",
       "    }\n",
       "</style>\n",
       "<table border=\"1\" class=\"dataframe\">\n",
       "  <thead>\n",
       "    <tr style=\"text-align: right;\">\n",
       "      <th></th>\n",
       "      <th>% TOT ORD</th>\n",
       "      <th>% TOT GMV</th>\n",
       "      <th>GMV CUM</th>\n",
       "    </tr>\n",
       "    <tr>\n",
       "      <th>PINCODE</th>\n",
       "      <th></th>\n",
       "      <th></th>\n",
       "      <th></th>\n",
       "    </tr>\n",
       "  </thead>\n",
       "  <tbody>\n",
       "    <tr>\n",
       "      <th>400058.0</th>\n",
       "      <td>13.644</td>\n",
       "      <td>13.378007</td>\n",
       "      <td>13.378</td>\n",
       "    </tr>\n",
       "    <tr>\n",
       "      <th>400120.0</th>\n",
       "      <td>5.669</td>\n",
       "      <td>8.423670</td>\n",
       "      <td>21.802</td>\n",
       "    </tr>\n",
       "    <tr>\n",
       "      <th>400102.0</th>\n",
       "      <td>4.315</td>\n",
       "      <td>5.536440</td>\n",
       "      <td>27.338</td>\n",
       "    </tr>\n",
       "    <tr>\n",
       "      <th>400091.0</th>\n",
       "      <td>5.278</td>\n",
       "      <td>4.013936</td>\n",
       "      <td>31.352</td>\n",
       "    </tr>\n",
       "    <tr>\n",
       "      <th>400052.0</th>\n",
       "      <td>3.147</td>\n",
       "      <td>3.369526</td>\n",
       "      <td>34.722</td>\n",
       "    </tr>\n",
       "    <tr>\n",
       "      <th>400105.0</th>\n",
       "      <td>3.456</td>\n",
       "      <td>2.965876</td>\n",
       "      <td>37.687</td>\n",
       "    </tr>\n",
       "    <tr>\n",
       "      <th>400131.0</th>\n",
       "      <td>3.287</td>\n",
       "      <td>2.878257</td>\n",
       "      <td>40.566</td>\n",
       "    </tr>\n",
       "    <tr>\n",
       "      <th>400064.0</th>\n",
       "      <td>2.364</td>\n",
       "      <td>2.494834</td>\n",
       "      <td>43.061</td>\n",
       "    </tr>\n",
       "    <tr>\n",
       "      <th>400079.0</th>\n",
       "      <td>2.391</td>\n",
       "      <td>2.359576</td>\n",
       "      <td>45.420</td>\n",
       "    </tr>\n",
       "    <tr>\n",
       "      <th>400118.0</th>\n",
       "      <td>2.116</td>\n",
       "      <td>2.326639</td>\n",
       "      <td>47.747</td>\n",
       "    </tr>\n",
       "    <tr>\n",
       "      <th>400146.0</th>\n",
       "      <td>2.018</td>\n",
       "      <td>2.320873</td>\n",
       "      <td>50.068</td>\n",
       "    </tr>\n",
       "  </tbody>\n",
       "</table>\n",
       "</div>"
      ],
      "text/plain": [
       "          % TOT ORD  % TOT GMV  GMV CUM\n",
       "PINCODE                                \n",
       "400058.0     13.644  13.378007   13.378\n",
       "400120.0      5.669   8.423670   21.802\n",
       "400102.0      4.315   5.536440   27.338\n",
       "400091.0      5.278   4.013936   31.352\n",
       "400052.0      3.147   3.369526   34.722\n",
       "400105.0      3.456   2.965876   37.687\n",
       "400131.0      3.287   2.878257   40.566\n",
       "400064.0      2.364   2.494834   43.061\n",
       "400079.0      2.391   2.359576   45.420\n",
       "400118.0      2.116   2.326639   47.747\n",
       "400146.0      2.018   2.320873   50.068"
      ]
     },
     "execution_count": 17,
     "metadata": {},
     "output_type": "execute_result"
    }
   ],
   "source": [
    "by_pin = df.groupby('PINCODE').sum()[['ORDERS','ITEM_GMV']].sort_values(['ITEM_GMV'],ascending=False)\n",
    "by_pin['% TOT ORD'] = np.round(by_pin['ORDERS']/3634.45,decimals=3)\n",
    "by_pin['% TOT GMV'] = np.round((by_pin['ITEM_GMV']*100)/df['ITEM_GMV'].sum(),decimals=6)\n",
    "by_pin['GMV CUM'] = np.round(by_pin['% TOT GMV'].cumsum(axis=0),decimals=3)\n",
    "by_pin[by_pin['GMV CUM']<51].drop(['ORDERS','ITEM_GMV'],axis=1)\n",
    "#by_pin.tail(10)"
   ]
  },
  {
   "cell_type": "code",
   "execution_count": 18,
   "id": "ff1fde0c",
   "metadata": {
    "scrolled": true
   },
   "outputs": [
    {
     "data": {
      "text/plain": [
       "count    267430.000000\n",
       "mean     402028.958651\n",
       "std        5348.450756\n",
       "min      400049.000000\n",
       "25%      400079.000000\n",
       "50%      400118.000000\n",
       "75%      400144.000000\n",
       "max      421653.000000\n",
       "Name: PINCODE, dtype: float64"
      ]
     },
     "execution_count": 18,
     "metadata": {},
     "output_type": "execute_result"
    }
   ],
   "source": [
    "df['PINCODE'].describe()"
   ]
  },
  {
   "cell_type": "markdown",
   "id": "760048a1",
   "metadata": {},
   "source": [
    "## Category sales across the dates"
   ]
  },
  {
   "cell_type": "code",
   "execution_count": 19,
   "id": "e85fedbf",
   "metadata": {},
   "outputs": [],
   "source": [
    "# Calculating category wise GMV percentage for each row\n",
    "PCT_TOT_GMV = []\n",
    "\n",
    "Charger = df.groupby('CATEGORY').sum().loc['Charger']['ITEM_GMV']\n",
    "Mobiles = df.groupby('CATEGORY').sum().loc['Mobiles']['ITEM_GMV']\n",
    "Earphones = df.groupby('CATEGORY').sum().loc['Earphones']['ITEM_GMV']\n",
    "Laptops = df.groupby('CATEGORY').sum().loc['Laptops']['ITEM_GMV']\n",
    "Tablets = df.groupby('CATEGORY').sum().loc['Tablets']['ITEM_GMV']\n",
    "Speakers = df.groupby('CATEGORY').sum().loc['Speakers']['ITEM_GMV']\n",
    "TV = df.groupby('CATEGORY').sum().loc['TV']['ITEM_GMV']\n",
    "\n",
    "for i in range(df['ORDERS'].size):\n",
    "    val = 0\n",
    "    if df['CATEGORY'][i]=='Mobiles':\n",
    "        val=Mobiles\n",
    "    elif df['CATEGORY'][i]=='Earphones':\n",
    "        val=Earphones\n",
    "    elif df['CATEGORY'][i]=='Tablets':\n",
    "        val=Tablets\n",
    "    elif df['CATEGORY'][i]=='Speakers':\n",
    "        val=Speakers\n",
    "    elif df['CATEGORY'][i]=='Laptops':\n",
    "        val=Laptops\n",
    "    elif df['CATEGORY'][i]=='TV':\n",
    "        val=TV\n",
    "    else :\n",
    "        val=Charger        \n",
    "    PCT_TOT_GMV.append(val)\n",
    "\n",
    "# making a column for category wise GMV percentage\n",
    "df['% CAT GMV'] = np.round((df['ITEM_GMV']*100)/PCT_TOT_GMV,decimals=6)"
   ]
  },
  {
   "cell_type": "code",
   "execution_count": 20,
   "id": "2b00ab09",
   "metadata": {
    "scrolled": true
   },
   "outputs": [
    {
     "data": {
      "text/html": [
       "<div>\n",
       "<style scoped>\n",
       "    .dataframe tbody tr th:only-of-type {\n",
       "        vertical-align: middle;\n",
       "    }\n",
       "\n",
       "    .dataframe tbody tr th {\n",
       "        vertical-align: top;\n",
       "    }\n",
       "\n",
       "    .dataframe thead th {\n",
       "        text-align: right;\n",
       "    }\n",
       "</style>\n",
       "<table border=\"1\" class=\"dataframe\">\n",
       "  <thead>\n",
       "    <tr style=\"text-align: right;\">\n",
       "      <th></th>\n",
       "      <th></th>\n",
       "      <th>ITEM_GMV</th>\n",
       "      <th>% CAT GMV</th>\n",
       "    </tr>\n",
       "    <tr>\n",
       "      <th>CATEGORY</th>\n",
       "      <th>DATE</th>\n",
       "      <th></th>\n",
       "      <th></th>\n",
       "    </tr>\n",
       "  </thead>\n",
       "  <tbody>\n",
       "    <tr>\n",
       "      <th rowspan=\"5\" valign=\"top\">Charger</th>\n",
       "      <th>2019-10-18</th>\n",
       "      <td>8.019438e+05</td>\n",
       "      <td>7.875084</td>\n",
       "    </tr>\n",
       "    <tr>\n",
       "      <th>2019-10-19</th>\n",
       "      <td>8.542633e+05</td>\n",
       "      <td>8.388863</td>\n",
       "    </tr>\n",
       "    <tr>\n",
       "      <th>2019-10-20</th>\n",
       "      <td>1.179637e+06</td>\n",
       "      <td>11.584034</td>\n",
       "    </tr>\n",
       "    <tr>\n",
       "      <th>2019-10-21</th>\n",
       "      <td>8.201505e+05</td>\n",
       "      <td>8.053876</td>\n",
       "    </tr>\n",
       "    <tr>\n",
       "      <th>2019-10-22</th>\n",
       "      <td>9.405590e+05</td>\n",
       "      <td>9.236290</td>\n",
       "    </tr>\n",
       "  </tbody>\n",
       "</table>\n",
       "</div>"
      ],
      "text/plain": [
       "                         ITEM_GMV  % CAT GMV\n",
       "CATEGORY DATE                               \n",
       "Charger  2019-10-18  8.019438e+05   7.875084\n",
       "         2019-10-19  8.542633e+05   8.388863\n",
       "         2019-10-20  1.179637e+06  11.584034\n",
       "         2019-10-21  8.201505e+05   8.053876\n",
       "         2019-10-22  9.405590e+05   9.236290"
      ]
     },
     "execution_count": 20,
     "metadata": {},
     "output_type": "execute_result"
    }
   ],
   "source": [
    "by_cat_date = df.groupby(['CATEGORY','DATE']).sum()[['ITEM_GMV','% CAT GMV']]\n",
    "by_cat_date.head()"
   ]
  },
  {
   "cell_type": "code",
   "execution_count": 21,
   "id": "79d6020a",
   "metadata": {},
   "outputs": [
    {
     "data": {
      "text/html": [
       "<div>\n",
       "<style scoped>\n",
       "    .dataframe tbody tr th:only-of-type {\n",
       "        vertical-align: middle;\n",
       "    }\n",
       "\n",
       "    .dataframe tbody tr th {\n",
       "        vertical-align: top;\n",
       "    }\n",
       "\n",
       "    .dataframe thead th {\n",
       "        text-align: right;\n",
       "    }\n",
       "</style>\n",
       "<table border=\"1\" class=\"dataframe\">\n",
       "  <thead>\n",
       "    <tr style=\"text-align: right;\">\n",
       "      <th></th>\n",
       "      <th></th>\n",
       "      <th>ITEM_GMV</th>\n",
       "      <th>% CAT GMV</th>\n",
       "    </tr>\n",
       "    <tr>\n",
       "      <th>CATEGORY</th>\n",
       "      <th>DATE</th>\n",
       "      <th></th>\n",
       "      <th></th>\n",
       "    </tr>\n",
       "  </thead>\n",
       "  <tbody>\n",
       "    <tr>\n",
       "      <th rowspan=\"11\" valign=\"top\">Earphones</th>\n",
       "      <th>2019-10-18</th>\n",
       "      <td>1.143292e+07</td>\n",
       "      <td>4.453732</td>\n",
       "    </tr>\n",
       "    <tr>\n",
       "      <th>2019-10-19</th>\n",
       "      <td>1.330079e+07</td>\n",
       "      <td>5.181310</td>\n",
       "    </tr>\n",
       "    <tr>\n",
       "      <th>2019-10-20</th>\n",
       "      <td>1.552400e+07</td>\n",
       "      <td>6.047419</td>\n",
       "    </tr>\n",
       "    <tr>\n",
       "      <th>2019-10-21</th>\n",
       "      <td>1.307682e+07</td>\n",
       "      <td>5.094108</td>\n",
       "    </tr>\n",
       "    <tr>\n",
       "      <th>2019-10-22</th>\n",
       "      <td>1.464005e+07</td>\n",
       "      <td>5.703036</td>\n",
       "    </tr>\n",
       "    <tr>\n",
       "      <th>2019-10-23</th>\n",
       "      <td>1.613673e+07</td>\n",
       "      <td>6.286028</td>\n",
       "    </tr>\n",
       "    <tr>\n",
       "      <th>2019-10-24</th>\n",
       "      <td>2.323636e+07</td>\n",
       "      <td>9.051636</td>\n",
       "    </tr>\n",
       "    <tr>\n",
       "      <th>2019-10-25</th>\n",
       "      <td>3.281564e+07</td>\n",
       "      <td>12.783248</td>\n",
       "    </tr>\n",
       "    <tr>\n",
       "      <th>2019-10-26</th>\n",
       "      <td>4.667383e+07</td>\n",
       "      <td>18.181675</td>\n",
       "    </tr>\n",
       "    <tr>\n",
       "      <th>2019-10-27</th>\n",
       "      <td>5.115520e+07</td>\n",
       "      <td>19.927419</td>\n",
       "    </tr>\n",
       "    <tr>\n",
       "      <th>2019-10-28</th>\n",
       "      <td>1.871662e+07</td>\n",
       "      <td>7.291018</td>\n",
       "    </tr>\n",
       "  </tbody>\n",
       "</table>\n",
       "</div>"
      ],
      "text/plain": [
       "                          ITEM_GMV  % CAT GMV\n",
       "CATEGORY  DATE                               \n",
       "Earphones 2019-10-18  1.143292e+07   4.453732\n",
       "          2019-10-19  1.330079e+07   5.181310\n",
       "          2019-10-20  1.552400e+07   6.047419\n",
       "          2019-10-21  1.307682e+07   5.094108\n",
       "          2019-10-22  1.464005e+07   5.703036\n",
       "          2019-10-23  1.613673e+07   6.286028\n",
       "          2019-10-24  2.323636e+07   9.051636\n",
       "          2019-10-25  3.281564e+07  12.783248\n",
       "          2019-10-26  4.667383e+07  18.181675\n",
       "          2019-10-27  5.115520e+07  19.927419\n",
       "          2019-10-28  1.871662e+07   7.291018"
      ]
     },
     "execution_count": 21,
     "metadata": {},
     "output_type": "execute_result"
    }
   ],
   "source": [
    "ear = by_cat_date.loc[(slice('Earphones'))][11:22]\n",
    "ear"
   ]
  },
  {
   "cell_type": "code",
   "execution_count": 22,
   "id": "1f5cd1c7",
   "metadata": {},
   "outputs": [],
   "source": [
    "ear_gmv_datewise = []\n",
    "for i in range(11):\n",
    "    ear_gmv_datewise.append((ear['ITEM_GMV']/10000000)[i])"
   ]
  },
  {
   "cell_type": "code",
   "execution_count": 31,
   "id": "9f1fd5c1",
   "metadata": {
    "scrolled": false
   },
   "outputs": [
    {
     "data": {
      "text/plain": [
       "Text(0, 0.5, 'GMV (in Crores)')"
      ]
     },
     "execution_count": 31,
     "metadata": {},
     "output_type": "execute_result"
    },
    {
     "data": {
      "image/png": "[encoded data removed]",
      "text/plain": [
       "<Figure size 1000x600 with 1 Axes>"
      ]
     },
     "metadata": {},
     "output_type": "display_data"
    }
   ],
   "source": [
    "plt.figure(figsize=(10,6))\n",
    "ax=sns.barplot(x=dates,y=ear_gmv_datewise)\n",
    "ax.set_title('Post Diwali - Earphone Sales')\n",
    "ax.set_xlabel('Dates')\n",
    "ax.set_ylabel('GMV (in Crores)')"
   ]
  },
  {
   "cell_type": "code",
   "execution_count": 33,
   "id": "0b227cc7",
   "metadata": {},
   "outputs": [
    {
     "data": {
      "text/plain": [
       "Text(0, 0.5, 'GMV (in Crores)')"
      ]
     },
     "execution_count": 33,
     "metadata": {},
     "output_type": "execute_result"
    },
    {
     "data": {
      "image/png": "[encoded data removed]",
      "text/plain": [
       "<Figure size 1000x600 with 1 Axes>"
      ]
     },
     "metadata": {},
     "output_type": "display_data"
    }
   ],
   "source": [
    "phone = by_cat_date.loc[(slice('Mobiles'))][33:46]\n",
    "phone_gmv_datewise = []\n",
    "for i in range(11):\n",
    "    phone_gmv_datewise.append((phone['ITEM_GMV']/10000000)[i])\n",
    "plt.figure(figsize=(10,6))\n",
    "ax = sns.barplot(x=dates,y=phone_gmv_datewise)\n",
    "ax.set_title('Post Diwali - Mobile Sales')\n",
    "ax.set_xlabel('Dates')\n",
    "ax.set_ylabel('GMV (in Crores)')"
   ]
  },
  {
   "cell_type": "code",
   "execution_count": 25,
   "id": "cfbe8613",
   "metadata": {},
   "outputs": [
    {
     "name": "stderr",
     "output_type": "stream",
     "text": [
      "/var/folders/s4/rbw51hr572v983ntn5czj87h0000gn/T/ipykernel_21644/1311313353.py:3: SettingWithCopyWarning: \n",
      "A value is trying to be set on a copy of a slice from a DataFrame.\n",
      "Try using .loc[row_indexer,col_indexer] = value instead\n",
      "\n",
      "See the caveats in the documentation: https://pandas.pydata.org/pandas-docs/stable/user_guide/indexing.html#returning-a-view-versus-a-copy\n",
      "  qt_or['qty/order'] = qt_or['QTY']/qt_or['ORDERS']\n"
     ]
    },
    {
     "data": {
      "text/plain": [
       "1.9835038427880238"
      ]
     },
     "execution_count": 25,
     "metadata": {},
     "output_type": "execute_result"
    }
   ],
   "source": [
    "qt_or = df[['QTY','ORDERS']]\n",
    "\n",
    "qt_or['qty/order'] = qt_or['QTY']/qt_or['ORDERS']\n",
    "qt_or['qty/order'].mean()"
   ]
  },
  {
   "cell_type": "code",
   "execution_count": null,
   "id": "498e62c9",
   "metadata": {},
   "outputs": [],
   "source": []
  }
 ],
 "metadata": {
  "kernelspec": {
   "display_name": "Python 3 (ipykernel)",
   "language": "python",
   "name": "python3"
  },
  "language_info": {
   "codemirror_mode": {
    "name": "ipython",
    "version": 3
   },
   "file_extension": ".py",
   "mimetype": "text/x-python",
   "name": "python",
   "nbconvert_exporter": "python",
   "pygments_lexer": "ipython3",
   "version": "3.10.6"
  }
 },
 "nbformat": 4,
 "nbformat_minor": 5
}
