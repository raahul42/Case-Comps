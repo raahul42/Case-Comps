{
 "cells": [
  {
   "cell_type": "code",
   "execution_count": 1,
   "id": "6478f2c6",
   "metadata": {},
   "outputs": [],
   "source": [
    "import pandas as pd\n",
    "import seaborn as sns\n",
    "import matplotlib.pyplot as plt\n",
    "import numpy as np\n",
    "\n",
    "%matplotlib inline"
   ]
  },
  {
   "cell_type": "code",
   "execution_count": 2,
   "id": "beed8b6b",
   "metadata": {
    "scrolled": true
   },
   "outputs": [],
   "source": [
    "#data = pd.read_excel(\"ByteCrunchRound2_ISBAdvaita20221.xlsx\")\n",
    "#data.to_pickle(\"pre-diwali-pickled\")"
   ]
  },
  {
   "cell_type": "code",
   "execution_count": 3,
   "id": "76837e1e",
   "metadata": {},
   "outputs": [
    {
     "data": {
      "text/html": [
       "<div>\n",
       "<style scoped>\n",
       "    .dataframe tbody tr th:only-of-type {\n",
       "        vertical-align: middle;\n",
       "    }\n",
       "\n",
       "    .dataframe tbody tr th {\n",
       "        vertical-align: top;\n",
       "    }\n",
       "\n",
       "    .dataframe thead th {\n",
       "        text-align: right;\n",
       "    }\n",
       "</style>\n",
       "<table border=\"1\" class=\"dataframe\">\n",
       "  <thead>\n",
       "    <tr style=\"text-align: right;\">\n",
       "      <th></th>\n",
       "      <th>DATE</th>\n",
       "      <th>SHOP_ID</th>\n",
       "      <th>PINCODE</th>\n",
       "      <th>SHOP</th>\n",
       "      <th>ITEM_ID</th>\n",
       "      <th>HR of the day</th>\n",
       "      <th>ORDERS</th>\n",
       "      <th>QTY</th>\n",
       "      <th>ITEM_GMV</th>\n",
       "      <th>CATEGORY</th>\n",
       "    </tr>\n",
       "  </thead>\n",
       "  <tbody>\n",
       "    <tr>\n",
       "      <th>0</th>\n",
       "      <td>2019-10-17</td>\n",
       "      <td>132734.0</td>\n",
       "      <td>401255.0</td>\n",
       "      <td>vaibhav Cell phones</td>\n",
       "      <td>41440860.0</td>\n",
       "      <td>441.0</td>\n",
       "      <td>1.0</td>\n",
       "      <td>1.0</td>\n",
       "      <td>1000.0</td>\n",
       "      <td>Charger</td>\n",
       "    </tr>\n",
       "    <tr>\n",
       "      <th>1</th>\n",
       "      <td>2019-10-12</td>\n",
       "      <td>179292.0</td>\n",
       "      <td>400079.0</td>\n",
       "      <td>Ganpati Cell phones</td>\n",
       "      <td>40191841.0</td>\n",
       "      <td>357.0</td>\n",
       "      <td>1.0</td>\n",
       "      <td>2.0</td>\n",
       "      <td>1200.0</td>\n",
       "      <td>Mobiles</td>\n",
       "    </tr>\n",
       "    <tr>\n",
       "      <th>2</th>\n",
       "      <td>2019-10-17</td>\n",
       "      <td>192693.0</td>\n",
       "      <td>400068.0</td>\n",
       "      <td>ADARSH LAPTOP Shop</td>\n",
       "      <td>41574322.0</td>\n",
       "      <td>315.0</td>\n",
       "      <td>1.0</td>\n",
       "      <td>1.0</td>\n",
       "      <td>1000.0</td>\n",
       "      <td>Earphones</td>\n",
       "    </tr>\n",
       "    <tr>\n",
       "      <th>3</th>\n",
       "      <td>2019-10-10</td>\n",
       "      <td>153638.0</td>\n",
       "      <td>400658.0</td>\n",
       "      <td>Madan JI Repair</td>\n",
       "      <td>36868884.0</td>\n",
       "      <td>210.0</td>\n",
       "      <td>1.0</td>\n",
       "      <td>1.0</td>\n",
       "      <td>3600.0</td>\n",
       "      <td>Earphones</td>\n",
       "    </tr>\n",
       "    <tr>\n",
       "      <th>4</th>\n",
       "      <td>2019-10-10</td>\n",
       "      <td>82759.0</td>\n",
       "      <td>400105.0</td>\n",
       "      <td>SHRI SANGEETHAS</td>\n",
       "      <td>37385563.0</td>\n",
       "      <td>399.0</td>\n",
       "      <td>1.0</td>\n",
       "      <td>1.0</td>\n",
       "      <td>800.0</td>\n",
       "      <td>Mobiles</td>\n",
       "    </tr>\n",
       "  </tbody>\n",
       "</table>\n",
       "</div>"
      ],
      "text/plain": [
       "        DATE   SHOP_ID   PINCODE                 SHOP     ITEM_ID  \\\n",
       "0 2019-10-17  132734.0  401255.0  vaibhav Cell phones  41440860.0   \n",
       "1 2019-10-12  179292.0  400079.0  Ganpati Cell phones  40191841.0   \n",
       "2 2019-10-17  192693.0  400068.0   ADARSH LAPTOP Shop  41574322.0   \n",
       "3 2019-10-10  153638.0  400658.0      Madan JI Repair  36868884.0   \n",
       "4 2019-10-10   82759.0  400105.0      SHRI SANGEETHAS  37385563.0   \n",
       "\n",
       "   HR of the day  ORDERS  QTY  ITEM_GMV   CATEGORY  \n",
       "0          441.0     1.0  1.0    1000.0    Charger  \n",
       "1          357.0     1.0  2.0    1200.0    Mobiles  \n",
       "2          315.0     1.0  1.0    1000.0  Earphones  \n",
       "3          210.0     1.0  1.0    3600.0  Earphones  \n",
       "4          399.0     1.0  1.0     800.0    Mobiles  "
      ]
     },
     "execution_count": 3,
     "metadata": {},
     "output_type": "execute_result"
    }
   ],
   "source": [
    "df = pd.read_pickle(\"pre-diwali-pickled\")\n",
    "df.head()"
   ]
  },
  {
   "cell_type": "code",
   "execution_count": 4,
   "id": "2ed47a9a",
   "metadata": {
    "scrolled": true
   },
   "outputs": [
    {
     "name": "stdout",
     "output_type": "stream",
     "text": [
      "<class 'pandas.core.frame.DataFrame'>\n",
      "RangeIndex: 187678 entries, 0 to 187677\n",
      "Data columns (total 10 columns):\n",
      " #   Column         Non-Null Count   Dtype         \n",
      "---  ------         --------------   -----         \n",
      " 0   DATE           187677 non-null  datetime64[ns]\n",
      " 1   SHOP_ID        187677 non-null  float64       \n",
      " 2   PINCODE        187677 non-null  float64       \n",
      " 3   SHOP           187677 non-null  object        \n",
      " 4   ITEM_ID        187677 non-null  float64       \n",
      " 5   HR of the day  187677 non-null  float64       \n",
      " 6   ORDERS         187677 non-null  float64       \n",
      " 7   QTY            187677 non-null  float64       \n",
      " 8   ITEM_GMV       187678 non-null  float64       \n",
      " 9   CATEGORY       187677 non-null  object        \n",
      "dtypes: datetime64[ns](1), float64(7), object(2)\n",
      "memory usage: 14.3+ MB\n"
     ]
    }
   ],
   "source": [
    "df.info()"
   ]
  },
  {
   "cell_type": "code",
   "execution_count": 5,
   "id": "c6cdd306",
   "metadata": {},
   "outputs": [
    {
     "data": {
      "text/html": [
       "<div>\n",
       "<style scoped>\n",
       "    .dataframe tbody tr th:only-of-type {\n",
       "        vertical-align: middle;\n",
       "    }\n",
       "\n",
       "    .dataframe tbody tr th {\n",
       "        vertical-align: top;\n",
       "    }\n",
       "\n",
       "    .dataframe thead th {\n",
       "        text-align: right;\n",
       "    }\n",
       "</style>\n",
       "<table border=\"1\" class=\"dataframe\">\n",
       "  <thead>\n",
       "    <tr style=\"text-align: right;\">\n",
       "      <th></th>\n",
       "      <th>DATE</th>\n",
       "      <th>SHOP_ID</th>\n",
       "      <th>PINCODE</th>\n",
       "      <th>SHOP</th>\n",
       "      <th>ITEM_ID</th>\n",
       "      <th>HR of the day</th>\n",
       "      <th>ORDERS</th>\n",
       "      <th>QTY</th>\n",
       "      <th>ITEM_GMV</th>\n",
       "      <th>CATEGORY</th>\n",
       "    </tr>\n",
       "  </thead>\n",
       "  <tbody>\n",
       "    <tr>\n",
       "      <th>187677</th>\n",
       "      <td>NaT</td>\n",
       "      <td>NaN</td>\n",
       "      <td>NaN</td>\n",
       "      <td>NaN</td>\n",
       "      <td>NaN</td>\n",
       "      <td>NaN</td>\n",
       "      <td>NaN</td>\n",
       "      <td>NaN</td>\n",
       "      <td>3.093254e+08</td>\n",
       "      <td>NaN</td>\n",
       "    </tr>\n",
       "  </tbody>\n",
       "</table>\n",
       "</div>"
      ],
      "text/plain": [
       "       DATE  SHOP_ID  PINCODE SHOP  ITEM_ID  HR of the day  ORDERS  QTY  \\\n",
       "187677  NaT      NaN      NaN  NaN      NaN            NaN     NaN  NaN   \n",
       "\n",
       "            ITEM_GMV CATEGORY  \n",
       "187677  3.093254e+08      NaN  "
      ]
     },
     "execution_count": 5,
     "metadata": {},
     "output_type": "execute_result"
    }
   ],
   "source": [
    "df[df['DATE'].isnull()]"
   ]
  },
  {
   "cell_type": "code",
   "execution_count": 6,
   "id": "88824c37",
   "metadata": {},
   "outputs": [],
   "source": [
    "df.dropna(inplace=True)"
   ]
  },
  {
   "cell_type": "code",
   "execution_count": 7,
   "id": "7ecbbfae",
   "metadata": {},
   "outputs": [
    {
     "name": "stdout",
     "output_type": "stream",
     "text": [
      "Total orders: 241585\n",
      "Total GMV is: 30.932545 crores\n"
     ]
    }
   ],
   "source": [
    "tot_ord = df['ORDERS'].sum()\n",
    "tot_gmv = df['ITEM_GMV'].sum()\n",
    "\n",
    "print(\"Total orders: %d\" % int(tot_ord))\n",
    "print(\"Total GMV is: %f crores\" % (tot_gmv/10000000))"
   ]
  },
  {
   "cell_type": "code",
   "execution_count": 8,
   "id": "1b8d355b",
   "metadata": {},
   "outputs": [
    {
     "name": "stdout",
     "output_type": "stream",
     "text": [
      "PINCODE has 259 unique values\n",
      "SHOP_ID has 1097 unique values\n",
      "SHOP has 965 unique values\n"
     ]
    }
   ],
   "source": [
    "loc = ['PINCODE','SHOP_ID','SHOP']\n",
    "\n",
    "for i in loc:\n",
    "    val = df[i].nunique()\n",
    "    print(\"{} has {} unique values\".format(i,val))"
   ]
  },
  {
   "cell_type": "code",
   "execution_count": 9,
   "id": "2e25aabf",
   "metadata": {},
   "outputs": [
    {
     "data": {
      "text/plain": [
       "Mobiles      83759\n",
       "Earphones    53892\n",
       "Tablets      27400\n",
       "Speakers      7310\n",
       "Laptops       5654\n",
       "TV            5311\n",
       "Charger       4351\n",
       "Name: CATEGORY, dtype: int64"
      ]
     },
     "execution_count": 9,
     "metadata": {},
     "output_type": "execute_result"
    }
   ],
   "source": [
    "df['CATEGORY'].value_counts()"
   ]
  },
  {
   "cell_type": "code",
   "execution_count": 10,
   "id": "e429ec33",
   "metadata": {
    "scrolled": true
   },
   "outputs": [
    {
     "data": {
      "text/html": [
       "<div>\n",
       "<style scoped>\n",
       "    .dataframe tbody tr th:only-of-type {\n",
       "        vertical-align: middle;\n",
       "    }\n",
       "\n",
       "    .dataframe tbody tr th {\n",
       "        vertical-align: top;\n",
       "    }\n",
       "\n",
       "    .dataframe thead th {\n",
       "        text-align: right;\n",
       "    }\n",
       "</style>\n",
       "<table border=\"1\" class=\"dataframe\">\n",
       "  <thead>\n",
       "    <tr style=\"text-align: right;\">\n",
       "      <th></th>\n",
       "      <th>DATE</th>\n",
       "      <th>SHOP_ID</th>\n",
       "      <th>PINCODE</th>\n",
       "      <th>SHOP</th>\n",
       "      <th>ITEM_ID</th>\n",
       "      <th>HR of the day</th>\n",
       "      <th>ORDERS</th>\n",
       "      <th>QTY</th>\n",
       "      <th>ITEM_GMV</th>\n",
       "      <th>CATEGORY</th>\n",
       "    </tr>\n",
       "  </thead>\n",
       "  <tbody>\n",
       "    <tr>\n",
       "      <th>0</th>\n",
       "      <td>2019-10-17</td>\n",
       "      <td>132734.0</td>\n",
       "      <td>401255.0</td>\n",
       "      <td>vaibhav Cell phones</td>\n",
       "      <td>41440860.0</td>\n",
       "      <td>441.0</td>\n",
       "      <td>1.0</td>\n",
       "      <td>1.0</td>\n",
       "      <td>1000.0</td>\n",
       "      <td>Charger</td>\n",
       "    </tr>\n",
       "    <tr>\n",
       "      <th>1</th>\n",
       "      <td>2019-10-12</td>\n",
       "      <td>179292.0</td>\n",
       "      <td>400079.0</td>\n",
       "      <td>Ganpati Cell phones</td>\n",
       "      <td>40191841.0</td>\n",
       "      <td>357.0</td>\n",
       "      <td>1.0</td>\n",
       "      <td>2.0</td>\n",
       "      <td>1200.0</td>\n",
       "      <td>Mobiles</td>\n",
       "    </tr>\n",
       "    <tr>\n",
       "      <th>2</th>\n",
       "      <td>2019-10-17</td>\n",
       "      <td>192693.0</td>\n",
       "      <td>400068.0</td>\n",
       "      <td>ADARSH LAPTOP Shop</td>\n",
       "      <td>41574322.0</td>\n",
       "      <td>315.0</td>\n",
       "      <td>1.0</td>\n",
       "      <td>1.0</td>\n",
       "      <td>1000.0</td>\n",
       "      <td>Earphones</td>\n",
       "    </tr>\n",
       "    <tr>\n",
       "      <th>3</th>\n",
       "      <td>2019-10-10</td>\n",
       "      <td>153638.0</td>\n",
       "      <td>400658.0</td>\n",
       "      <td>Madan JI Repair</td>\n",
       "      <td>36868884.0</td>\n",
       "      <td>210.0</td>\n",
       "      <td>1.0</td>\n",
       "      <td>1.0</td>\n",
       "      <td>3600.0</td>\n",
       "      <td>Earphones</td>\n",
       "    </tr>\n",
       "    <tr>\n",
       "      <th>4</th>\n",
       "      <td>2019-10-10</td>\n",
       "      <td>82759.0</td>\n",
       "      <td>400105.0</td>\n",
       "      <td>SHRI SANGEETHAS</td>\n",
       "      <td>37385563.0</td>\n",
       "      <td>399.0</td>\n",
       "      <td>1.0</td>\n",
       "      <td>1.0</td>\n",
       "      <td>800.0</td>\n",
       "      <td>Mobiles</td>\n",
       "    </tr>\n",
       "  </tbody>\n",
       "</table>\n",
       "</div>"
      ],
      "text/plain": [
       "        DATE   SHOP_ID   PINCODE                 SHOP     ITEM_ID  \\\n",
       "0 2019-10-17  132734.0  401255.0  vaibhav Cell phones  41440860.0   \n",
       "1 2019-10-12  179292.0  400079.0  Ganpati Cell phones  40191841.0   \n",
       "2 2019-10-17  192693.0  400068.0   ADARSH LAPTOP Shop  41574322.0   \n",
       "3 2019-10-10  153638.0  400658.0      Madan JI Repair  36868884.0   \n",
       "4 2019-10-10   82759.0  400105.0      SHRI SANGEETHAS  37385563.0   \n",
       "\n",
       "   HR of the day  ORDERS  QTY  ITEM_GMV   CATEGORY  \n",
       "0          441.0     1.0  1.0    1000.0    Charger  \n",
       "1          357.0     1.0  2.0    1200.0    Mobiles  \n",
       "2          315.0     1.0  1.0    1000.0  Earphones  \n",
       "3          210.0     1.0  1.0    3600.0  Earphones  \n",
       "4          399.0     1.0  1.0     800.0    Mobiles  "
      ]
     },
     "execution_count": 10,
     "metadata": {},
     "output_type": "execute_result"
    }
   ],
   "source": [
    "df.head()"
   ]
  },
  {
   "cell_type": "markdown",
   "id": "d4d2a128",
   "metadata": {},
   "source": [
    "## Date wise comparison"
   ]
  },
  {
   "cell_type": "code",
   "execution_count": 11,
   "id": "1ab8cbc6",
   "metadata": {},
   "outputs": [
    {
     "data": {
      "text/html": [
       "<div>\n",
       "<style scoped>\n",
       "    .dataframe tbody tr th:only-of-type {\n",
       "        vertical-align: middle;\n",
       "    }\n",
       "\n",
       "    .dataframe tbody tr th {\n",
       "        vertical-align: top;\n",
       "    }\n",
       "\n",
       "    .dataframe thead th {\n",
       "        text-align: right;\n",
       "    }\n",
       "</style>\n",
       "<table border=\"1\" class=\"dataframe\">\n",
       "  <thead>\n",
       "    <tr style=\"text-align: right;\">\n",
       "      <th></th>\n",
       "      <th>ITEM_GMV (crores)</th>\n",
       "      <th>% TOT ORD</th>\n",
       "      <th>% TOT GMV</th>\n",
       "    </tr>\n",
       "    <tr>\n",
       "      <th>DATE</th>\n",
       "      <th></th>\n",
       "      <th></th>\n",
       "      <th></th>\n",
       "    </tr>\n",
       "  </thead>\n",
       "  <tbody>\n",
       "    <tr>\n",
       "      <th>2019-10-10</th>\n",
       "      <td>3.470</td>\n",
       "      <td>11.52</td>\n",
       "      <td>11.22</td>\n",
       "    </tr>\n",
       "    <tr>\n",
       "      <th>2019-10-11</th>\n",
       "      <td>3.353</td>\n",
       "      <td>11.16</td>\n",
       "      <td>10.84</td>\n",
       "    </tr>\n",
       "    <tr>\n",
       "      <th>2019-10-12</th>\n",
       "      <td>3.997</td>\n",
       "      <td>13.25</td>\n",
       "      <td>12.92</td>\n",
       "    </tr>\n",
       "    <tr>\n",
       "      <th>2019-10-13</th>\n",
       "      <td>4.744</td>\n",
       "      <td>16.01</td>\n",
       "      <td>15.34</td>\n",
       "    </tr>\n",
       "    <tr>\n",
       "      <th>2019-10-14</th>\n",
       "      <td>3.036</td>\n",
       "      <td>9.87</td>\n",
       "      <td>9.81</td>\n",
       "    </tr>\n",
       "    <tr>\n",
       "      <th>2019-10-15</th>\n",
       "      <td>3.433</td>\n",
       "      <td>11.06</td>\n",
       "      <td>11.10</td>\n",
       "    </tr>\n",
       "    <tr>\n",
       "      <th>2019-10-16</th>\n",
       "      <td>3.796</td>\n",
       "      <td>11.89</td>\n",
       "      <td>12.27</td>\n",
       "    </tr>\n",
       "    <tr>\n",
       "      <th>2019-10-17</th>\n",
       "      <td>5.103</td>\n",
       "      <td>15.23</td>\n",
       "      <td>16.50</td>\n",
       "    </tr>\n",
       "  </tbody>\n",
       "</table>\n",
       "</div>"
      ],
      "text/plain": [
       "            ITEM_GMV (crores)  % TOT ORD  % TOT GMV\n",
       "DATE                                               \n",
       "2019-10-10              3.470      11.52      11.22\n",
       "2019-10-11              3.353      11.16      10.84\n",
       "2019-10-12              3.997      13.25      12.92\n",
       "2019-10-13              4.744      16.01      15.34\n",
       "2019-10-14              3.036       9.87       9.81\n",
       "2019-10-15              3.433      11.06      11.10\n",
       "2019-10-16              3.796      11.89      12.27\n",
       "2019-10-17              5.103      15.23      16.50"
      ]
     },
     "execution_count": 11,
     "metadata": {},
     "output_type": "execute_result"
    }
   ],
   "source": [
    "by_date = df.groupby('DATE').sum()[['ORDERS','ITEM_GMV']]\n",
    "by_date['ITEM_GMV (crores)'] = np.round(by_date['ITEM_GMV']/10000000,decimals=3)\n",
    "by_date['% TOT ORD'] = np.round(by_date['ORDERS']/2415.85,decimals=2)\n",
    "by_date['% TOT GMV'] = np.round(by_date['ITEM_GMV']*100/df['ITEM_GMV'].sum(),decimals=2)\n",
    "by_date.drop(['ORDERS','ITEM_GMV'],axis=1)"
   ]
  },
  {
   "cell_type": "code",
   "execution_count": 12,
   "id": "e1ffa39c",
   "metadata": {},
   "outputs": [
    {
     "data": {
      "text/plain": [
       "<AxesSubplot:ylabel='ITEM_GMV'>"
      ]
     },
     "execution_count": 12,
     "metadata": {},
     "output_type": "execute_result"
    },
    {
     "data": {
      "image/png": "[encoded data removed]",
      "text/plain": [
       "<Figure size 1000x600 with 1 Axes>"
      ]
     },
     "metadata": {},
     "output_type": "display_data"
    }
   ],
   "source": [
    "dates = []\n",
    "\n",
    "for date in by_date.index :\n",
    "    dates.append(str(date)[-14:-9])\n",
    "\n",
    "plt.figure(figsize=(10,6))\n",
    "sns.barplot(x=dates,y=by_date.ITEM_GMV)"
   ]
  },
  {
   "cell_type": "code",
   "execution_count": 13,
   "id": "c160af52",
   "metadata": {},
   "outputs": [
    {
     "data": {
      "text/plain": [
       "<AxesSubplot:ylabel='ORDERS'>"
      ]
     },
     "execution_count": 13,
     "metadata": {},
     "output_type": "execute_result"
    },
    {
     "data": {
      "image/png": "[encoded data removed]",
      "text/plain": [
       "<Figure size 1000x600 with 1 Axes>"
      ]
     },
     "metadata": {},
     "output_type": "display_data"
    }
   ],
   "source": [
    "plt.figure(figsize=(10,6))\n",
    "sns.barplot(x=dates,y=by_date.ORDERS)"
   ]
  },
  {
   "cell_type": "markdown",
   "id": "e633fb1c",
   "metadata": {},
   "source": [
    "## Category wise comparison"
   ]
  },
  {
   "cell_type": "code",
   "execution_count": 14,
   "id": "6b2981ea",
   "metadata": {},
   "outputs": [
    {
     "data": {
      "text/html": [
       "<div>\n",
       "<style scoped>\n",
       "    .dataframe tbody tr th:only-of-type {\n",
       "        vertical-align: middle;\n",
       "    }\n",
       "\n",
       "    .dataframe tbody tr th {\n",
       "        vertical-align: top;\n",
       "    }\n",
       "\n",
       "    .dataframe thead th {\n",
       "        text-align: right;\n",
       "    }\n",
       "</style>\n",
       "<table border=\"1\" class=\"dataframe\">\n",
       "  <thead>\n",
       "    <tr style=\"text-align: right;\">\n",
       "      <th></th>\n",
       "      <th>ITEM_GMV (crores)</th>\n",
       "      <th>% Total ORD</th>\n",
       "      <th>% TOT GMV</th>\n",
       "    </tr>\n",
       "    <tr>\n",
       "      <th>CATEGORY</th>\n",
       "      <th></th>\n",
       "      <th></th>\n",
       "      <th></th>\n",
       "    </tr>\n",
       "  </thead>\n",
       "  <tbody>\n",
       "    <tr>\n",
       "      <th>Mobiles</th>\n",
       "      <td>11.331</td>\n",
       "      <td>29.182</td>\n",
       "      <td>36.631727</td>\n",
       "    </tr>\n",
       "    <tr>\n",
       "      <th>Earphones</th>\n",
       "      <td>11.018</td>\n",
       "      <td>19.818</td>\n",
       "      <td>35.620270</td>\n",
       "    </tr>\n",
       "    <tr>\n",
       "      <th>Tablets</th>\n",
       "      <td>4.520</td>\n",
       "      <td>9.349</td>\n",
       "      <td>14.613694</td>\n",
       "    </tr>\n",
       "    <tr>\n",
       "      <th>Speakers</th>\n",
       "      <td>1.326</td>\n",
       "      <td>2.526</td>\n",
       "      <td>4.285744</td>\n",
       "    </tr>\n",
       "    <tr>\n",
       "      <th>Laptops</th>\n",
       "      <td>1.188</td>\n",
       "      <td>2.048</td>\n",
       "      <td>3.841069</td>\n",
       "    </tr>\n",
       "    <tr>\n",
       "      <th>TV</th>\n",
       "      <td>0.833</td>\n",
       "      <td>1.974</td>\n",
       "      <td>2.693782</td>\n",
       "    </tr>\n",
       "    <tr>\n",
       "      <th>Charger</th>\n",
       "      <td>0.716</td>\n",
       "      <td>1.575</td>\n",
       "      <td>2.313715</td>\n",
       "    </tr>\n",
       "  </tbody>\n",
       "</table>\n",
       "</div>"
      ],
      "text/plain": [
       "           ITEM_GMV (crores)  % Total ORD  % TOT GMV\n",
       "CATEGORY                                            \n",
       "Mobiles               11.331       29.182  36.631727\n",
       "Earphones             11.018       19.818  35.620270\n",
       "Tablets                4.520        9.349  14.613694\n",
       "Speakers               1.326        2.526   4.285744\n",
       "Laptops                1.188        2.048   3.841069\n",
       "TV                     0.833        1.974   2.693782\n",
       "Charger                0.716        1.575   2.313715"
      ]
     },
     "execution_count": 14,
     "metadata": {},
     "output_type": "execute_result"
    }
   ],
   "source": [
    "by_cat = df.groupby('CATEGORY').sum()[['ORDERS','ITEM_GMV']].sort_values(['ITEM_GMV'],ascending=False)\n",
    "by_cat['ITEM_GMV (crores)'] = np.round(by_cat['ITEM_GMV']/10000000,decimals=3)\n",
    "by_cat['% Total ORD'] = np.round(by_cat['ORDERS']/3634.45,decimals=3)\n",
    "by_cat['% TOT GMV'] = np.round(by_cat['ITEM_GMV']*100/df['ITEM_GMV'].sum(),decimals=6)\n",
    "by_cat.drop(['ORDERS','ITEM_GMV'],axis=1)"
   ]
  },
  {
   "cell_type": "code",
   "execution_count": 31,
   "id": "14c9d45e",
   "metadata": {},
   "outputs": [
    {
     "data": {
      "text/plain": [
       "<AxesSubplot:title={'center':'Pre-Diwali Sales'}, ylabel='% TOT GMV'>"
      ]
     },
     "execution_count": 31,
     "metadata": {},
     "output_type": "execute_result"
    },
    {
     "data": {
      "image/png": "[encoded data removed]",
      "text/plain": [
       "<Figure size 800x1800 with 1 Axes>"
      ]
     },
     "metadata": {},
     "output_type": "display_data"
    }
   ],
   "source": [
    "by_cat.plot(kind='pie',y='% TOT GMV',legend=False, autopct='%1.0f%%', figsize=(8,18), title='Pre-Diwali Sales')"
   ]
  },
  {
   "cell_type": "code",
   "execution_count": 16,
   "id": "580a1226",
   "metadata": {},
   "outputs": [],
   "source": [
    "#by_cat.plot(kind='pie',y='% TOT ORD',legend=False)"
   ]
  },
  {
   "cell_type": "markdown",
   "id": "e7af2fe8",
   "metadata": {},
   "source": [
    "## Shop wise comparison"
   ]
  },
  {
   "cell_type": "code",
   "execution_count": 17,
   "id": "5ca76396",
   "metadata": {
    "scrolled": true
   },
   "outputs": [
    {
     "data": {
      "text/html": [
       "<div>\n",
       "<style scoped>\n",
       "    .dataframe tbody tr th:only-of-type {\n",
       "        vertical-align: middle;\n",
       "    }\n",
       "\n",
       "    .dataframe tbody tr th {\n",
       "        vertical-align: top;\n",
       "    }\n",
       "\n",
       "    .dataframe thead th {\n",
       "        text-align: right;\n",
       "    }\n",
       "</style>\n",
       "<table border=\"1\" class=\"dataframe\">\n",
       "  <thead>\n",
       "    <tr style=\"text-align: right;\">\n",
       "      <th></th>\n",
       "      <th>ORDERS</th>\n",
       "      <th>ITEM_GMV</th>\n",
       "      <th>% TOT ORD</th>\n",
       "      <th>% TOT GMV</th>\n",
       "      <th>GMV CUM</th>\n",
       "    </tr>\n",
       "    <tr>\n",
       "      <th>SHOP</th>\n",
       "      <th></th>\n",
       "      <th></th>\n",
       "      <th></th>\n",
       "      <th></th>\n",
       "      <th></th>\n",
       "    </tr>\n",
       "  </thead>\n",
       "  <tbody>\n",
       "    <tr>\n",
       "      <th>Samsung &amp; Apple's</th>\n",
       "      <td>5968.0</td>\n",
       "      <td>1.158309e+07</td>\n",
       "      <td>2.47</td>\n",
       "      <td>3.744630</td>\n",
       "      <td>3.745</td>\n",
       "    </tr>\n",
       "    <tr>\n",
       "      <th>SS ELECTRONICS(Tripolis)</th>\n",
       "      <td>4964.0</td>\n",
       "      <td>1.145388e+07</td>\n",
       "      <td>2.05</td>\n",
       "      <td>3.702857</td>\n",
       "      <td>7.447</td>\n",
       "    </tr>\n",
       "    <tr>\n",
       "      <th>Kiranshree Cell phones &amp; Speakers</th>\n",
       "      <td>5207.0</td>\n",
       "      <td>8.168113e+06</td>\n",
       "      <td>2.16</td>\n",
       "      <td>2.640621</td>\n",
       "      <td>10.088</td>\n",
       "    </tr>\n",
       "    <tr>\n",
       "      <th>Manohar ELECTRONICS and Tablets</th>\n",
       "      <td>5285.0</td>\n",
       "      <td>7.026187e+06</td>\n",
       "      <td>2.19</td>\n",
       "      <td>2.271455</td>\n",
       "      <td>12.360</td>\n",
       "    </tr>\n",
       "    <tr>\n",
       "      <th>Indian's Cell phones</th>\n",
       "      <td>4700.0</td>\n",
       "      <td>6.195390e+06</td>\n",
       "      <td>1.95</td>\n",
       "      <td>2.002871</td>\n",
       "      <td>14.362</td>\n",
       "    </tr>\n",
       "  </tbody>\n",
       "</table>\n",
       "</div>"
      ],
      "text/plain": [
       "                                   ORDERS      ITEM_GMV  % TOT ORD  % TOT GMV  \\\n",
       "SHOP                                                                            \n",
       "Samsung & Apple's                  5968.0  1.158309e+07       2.47   3.744630   \n",
       "SS ELECTRONICS(Tripolis)           4964.0  1.145388e+07       2.05   3.702857   \n",
       "Kiranshree Cell phones & Speakers  5207.0  8.168113e+06       2.16   2.640621   \n",
       "Manohar ELECTRONICS and Tablets    5285.0  7.026187e+06       2.19   2.271455   \n",
       "Indian's Cell phones               4700.0  6.195390e+06       1.95   2.002871   \n",
       "\n",
       "                                   GMV CUM  \n",
       "SHOP                                        \n",
       "Samsung & Apple's                    3.745  \n",
       "SS ELECTRONICS(Tripolis)             7.447  \n",
       "Kiranshree Cell phones & Speakers   10.088  \n",
       "Manohar ELECTRONICS and Tablets     12.360  \n",
       "Indian's Cell phones                14.362  "
      ]
     },
     "execution_count": 17,
     "metadata": {},
     "output_type": "execute_result"
    }
   ],
   "source": [
    "by_shop = df.groupby('SHOP').sum()[['ORDERS','ITEM_GMV']].sort_values(['ITEM_GMV'],ascending=False)\n",
    "by_shop['% TOT ORD'] = np.round(by_shop['ORDERS']/2415.85,decimals=2)\n",
    "by_shop['% TOT GMV'] = np.round(by_shop['ITEM_GMV']*100/df['ITEM_GMV'].sum(),decimals=6)\n",
    "by_shop['GMV CUM'] = np.round(by_shop['% TOT GMV'].cumsum(axis=0),decimals=3)\n",
    "by_shop.head()"
   ]
  },
  {
   "cell_type": "code",
   "execution_count": 18,
   "id": "d8de0768",
   "metadata": {},
   "outputs": [
    {
     "data": {
      "text/html": [
       "<div>\n",
       "<style scoped>\n",
       "    .dataframe tbody tr th:only-of-type {\n",
       "        vertical-align: middle;\n",
       "    }\n",
       "\n",
       "    .dataframe tbody tr th {\n",
       "        vertical-align: top;\n",
       "    }\n",
       "\n",
       "    .dataframe thead th {\n",
       "        text-align: right;\n",
       "    }\n",
       "</style>\n",
       "<table border=\"1\" class=\"dataframe\">\n",
       "  <thead>\n",
       "    <tr style=\"text-align: right;\">\n",
       "      <th></th>\n",
       "      <th>% TOT ORD</th>\n",
       "      <th>% TOT GMV</th>\n",
       "      <th>GMV CUM</th>\n",
       "    </tr>\n",
       "    <tr>\n",
       "      <th>SHOP</th>\n",
       "      <th></th>\n",
       "      <th></th>\n",
       "      <th></th>\n",
       "    </tr>\n",
       "  </thead>\n",
       "  <tbody>\n",
       "    <tr>\n",
       "      <th>Samsung &amp; Apple's</th>\n",
       "      <td>2.47</td>\n",
       "      <td>3.744630</td>\n",
       "      <td>3.745</td>\n",
       "    </tr>\n",
       "    <tr>\n",
       "      <th>SS ELECTRONICS(Tripolis)</th>\n",
       "      <td>2.05</td>\n",
       "      <td>3.702857</td>\n",
       "      <td>7.447</td>\n",
       "    </tr>\n",
       "    <tr>\n",
       "      <th>Kiranshree Cell phones &amp; Speakers</th>\n",
       "      <td>2.16</td>\n",
       "      <td>2.640621</td>\n",
       "      <td>10.088</td>\n",
       "    </tr>\n",
       "    <tr>\n",
       "      <th>Manohar ELECTRONICS and Tablets</th>\n",
       "      <td>2.19</td>\n",
       "      <td>2.271455</td>\n",
       "      <td>12.360</td>\n",
       "    </tr>\n",
       "    <tr>\n",
       "      <th>Indian's Cell phones</th>\n",
       "      <td>1.95</td>\n",
       "      <td>2.002871</td>\n",
       "      <td>14.362</td>\n",
       "    </tr>\n",
       "    <tr>\n",
       "      <th>SHRI SANGEETAS</th>\n",
       "      <td>2.23</td>\n",
       "      <td>1.914883</td>\n",
       "      <td>16.277</td>\n",
       "    </tr>\n",
       "    <tr>\n",
       "      <th>Kaveri - Lalpur</th>\n",
       "      <td>1.13</td>\n",
       "      <td>1.686088</td>\n",
       "      <td>17.963</td>\n",
       "    </tr>\n",
       "    <tr>\n",
       "      <th>Kipps Cell phones (Rajendra Nagar)</th>\n",
       "      <td>1.29</td>\n",
       "      <td>1.622170</td>\n",
       "      <td>19.586</td>\n",
       "    </tr>\n",
       "    <tr>\n",
       "      <th>Pathak Tablets</th>\n",
       "      <td>1.27</td>\n",
       "      <td>1.585999</td>\n",
       "      <td>21.172</td>\n",
       "    </tr>\n",
       "    <tr>\n",
       "      <th>Nathu's Cell phones</th>\n",
       "      <td>1.48</td>\n",
       "      <td>1.506078</td>\n",
       "      <td>22.678</td>\n",
       "    </tr>\n",
       "    <tr>\n",
       "      <th>New Delhi Cell phones</th>\n",
       "      <td>1.60</td>\n",
       "      <td>1.456100</td>\n",
       "      <td>24.134</td>\n",
       "    </tr>\n",
       "  </tbody>\n",
       "</table>\n",
       "</div>"
      ],
      "text/plain": [
       "                                    % TOT ORD  % TOT GMV  GMV CUM\n",
       "SHOP                                                             \n",
       "Samsung & Apple's                        2.47   3.744630    3.745\n",
       "SS ELECTRONICS(Tripolis)                 2.05   3.702857    7.447\n",
       "Kiranshree Cell phones & Speakers        2.16   2.640621   10.088\n",
       "Manohar ELECTRONICS and Tablets          2.19   2.271455   12.360\n",
       "Indian's Cell phones                     1.95   2.002871   14.362\n",
       "SHRI SANGEETAS                           2.23   1.914883   16.277\n",
       "Kaveri - Lalpur                          1.13   1.686088   17.963\n",
       "Kipps Cell phones (Rajendra Nagar)       1.29   1.622170   19.586\n",
       "Pathak Tablets                           1.27   1.585999   21.172\n",
       "Nathu's Cell phones                      1.48   1.506078   22.678\n",
       "New Delhi Cell phones                    1.60   1.456100   24.134"
      ]
     },
     "execution_count": 18,
     "metadata": {},
     "output_type": "execute_result"
    }
   ],
   "source": [
    "by_shop[by_shop['GMV CUM']<25].drop(['ORDERS','ITEM_GMV'],axis=1)"
   ]
  },
  {
   "cell_type": "markdown",
   "id": "049eeb0a",
   "metadata": {},
   "source": [
    "## Location wise comparison"
   ]
  },
  {
   "cell_type": "code",
   "execution_count": 19,
   "id": "a760c5db",
   "metadata": {},
   "outputs": [
    {
     "data": {
      "text/html": [
       "<div>\n",
       "<style scoped>\n",
       "    .dataframe tbody tr th:only-of-type {\n",
       "        vertical-align: middle;\n",
       "    }\n",
       "\n",
       "    .dataframe tbody tr th {\n",
       "        vertical-align: top;\n",
       "    }\n",
       "\n",
       "    .dataframe thead th {\n",
       "        text-align: right;\n",
       "    }\n",
       "</style>\n",
       "<table border=\"1\" class=\"dataframe\">\n",
       "  <thead>\n",
       "    <tr style=\"text-align: right;\">\n",
       "      <th></th>\n",
       "      <th>ORDERS</th>\n",
       "      <th>ITEM_GMV</th>\n",
       "      <th>% TOT ORD</th>\n",
       "      <th>% TOT GMV</th>\n",
       "      <th>GMV CUM</th>\n",
       "    </tr>\n",
       "    <tr>\n",
       "      <th>PINCODE</th>\n",
       "      <th></th>\n",
       "      <th></th>\n",
       "      <th></th>\n",
       "      <th></th>\n",
       "      <th></th>\n",
       "    </tr>\n",
       "  </thead>\n",
       "  <tbody>\n",
       "    <tr>\n",
       "      <th>400058.0</th>\n",
       "      <td>30183.0</td>\n",
       "      <td>3.334286e+07</td>\n",
       "      <td>12.494</td>\n",
       "      <td>10.779218</td>\n",
       "      <td>10.779</td>\n",
       "    </tr>\n",
       "    <tr>\n",
       "      <th>400102.0</th>\n",
       "      <td>12838.0</td>\n",
       "      <td>1.956941e+07</td>\n",
       "      <td>5.314</td>\n",
       "      <td>6.326479</td>\n",
       "      <td>17.106</td>\n",
       "    </tr>\n",
       "    <tr>\n",
       "      <th>400120.0</th>\n",
       "      <td>10875.0</td>\n",
       "      <td>1.902334e+07</td>\n",
       "      <td>4.502</td>\n",
       "      <td>6.149943</td>\n",
       "      <td>23.256</td>\n",
       "    </tr>\n",
       "    <tr>\n",
       "      <th>400131.0</th>\n",
       "      <td>8917.0</td>\n",
       "      <td>1.214173e+07</td>\n",
       "      <td>3.691</td>\n",
       "      <td>3.925229</td>\n",
       "      <td>27.181</td>\n",
       "    </tr>\n",
       "    <tr>\n",
       "      <th>400091.0</th>\n",
       "      <td>10833.0</td>\n",
       "      <td>1.056979e+07</td>\n",
       "      <td>4.484</td>\n",
       "      <td>3.417046</td>\n",
       "      <td>30.598</td>\n",
       "    </tr>\n",
       "  </tbody>\n",
       "</table>\n",
       "</div>"
      ],
      "text/plain": [
       "           ORDERS      ITEM_GMV  % TOT ORD  % TOT GMV  GMV CUM\n",
       "PINCODE                                                       \n",
       "400058.0  30183.0  3.334286e+07     12.494  10.779218   10.779\n",
       "400102.0  12838.0  1.956941e+07      5.314   6.326479   17.106\n",
       "400120.0  10875.0  1.902334e+07      4.502   6.149943   23.256\n",
       "400131.0   8917.0  1.214173e+07      3.691   3.925229   27.181\n",
       "400091.0  10833.0  1.056979e+07      4.484   3.417046   30.598"
      ]
     },
     "execution_count": 19,
     "metadata": {},
     "output_type": "execute_result"
    }
   ],
   "source": [
    "by_pin = df.groupby('PINCODE').sum()[['ORDERS','ITEM_GMV']].sort_values(['ITEM_GMV'],ascending=False)\n",
    "by_pin['% TOT ORD'] = np.round(by_pin['ORDERS']/2415.85,decimals=3)\n",
    "by_pin['% TOT GMV'] = np.round(by_pin['ITEM_GMV']*100/df['ITEM_GMV'].sum(),decimals=6)\n",
    "by_pin['GMV CUM'] = np.round(by_pin['% TOT GMV'].cumsum(axis=0),decimals=3)\n",
    "by_pin.head()"
   ]
  },
  {
   "cell_type": "code",
   "execution_count": 20,
   "id": "354f8565",
   "metadata": {},
   "outputs": [
    {
     "data": {
      "text/html": [
       "<div>\n",
       "<style scoped>\n",
       "    .dataframe tbody tr th:only-of-type {\n",
       "        vertical-align: middle;\n",
       "    }\n",
       "\n",
       "    .dataframe tbody tr th {\n",
       "        vertical-align: top;\n",
       "    }\n",
       "\n",
       "    .dataframe thead th {\n",
       "        text-align: right;\n",
       "    }\n",
       "</style>\n",
       "<table border=\"1\" class=\"dataframe\">\n",
       "  <thead>\n",
       "    <tr style=\"text-align: right;\">\n",
       "      <th></th>\n",
       "      <th>% TOT ORD</th>\n",
       "      <th>% TOT GMV</th>\n",
       "      <th>GMV CUM</th>\n",
       "    </tr>\n",
       "    <tr>\n",
       "      <th>PINCODE</th>\n",
       "      <th></th>\n",
       "      <th></th>\n",
       "      <th></th>\n",
       "    </tr>\n",
       "  </thead>\n",
       "  <tbody>\n",
       "    <tr>\n",
       "      <th>400058.0</th>\n",
       "      <td>12.494</td>\n",
       "      <td>10.779218</td>\n",
       "      <td>10.779</td>\n",
       "    </tr>\n",
       "    <tr>\n",
       "      <th>400102.0</th>\n",
       "      <td>5.314</td>\n",
       "      <td>6.326479</td>\n",
       "      <td>17.106</td>\n",
       "    </tr>\n",
       "    <tr>\n",
       "      <th>400120.0</th>\n",
       "      <td>4.502</td>\n",
       "      <td>6.149943</td>\n",
       "      <td>23.256</td>\n",
       "    </tr>\n",
       "    <tr>\n",
       "      <th>400131.0</th>\n",
       "      <td>3.691</td>\n",
       "      <td>3.925229</td>\n",
       "      <td>27.181</td>\n",
       "    </tr>\n",
       "    <tr>\n",
       "      <th>400091.0</th>\n",
       "      <td>4.484</td>\n",
       "      <td>3.417046</td>\n",
       "      <td>30.598</td>\n",
       "    </tr>\n",
       "    <tr>\n",
       "      <th>400105.0</th>\n",
       "      <td>3.735</td>\n",
       "      <td>3.303433</td>\n",
       "      <td>33.901</td>\n",
       "    </tr>\n",
       "    <tr>\n",
       "      <th>400122.0</th>\n",
       "      <td>2.568</td>\n",
       "      <td>3.056640</td>\n",
       "      <td>36.958</td>\n",
       "    </tr>\n",
       "    <tr>\n",
       "      <th>400118.0</th>\n",
       "      <td>2.706</td>\n",
       "      <td>2.874353</td>\n",
       "      <td>39.832</td>\n",
       "    </tr>\n",
       "    <tr>\n",
       "      <th>400052.0</th>\n",
       "      <td>2.309</td>\n",
       "      <td>2.526614</td>\n",
       "      <td>42.359</td>\n",
       "    </tr>\n",
       "    <tr>\n",
       "      <th>400133.0</th>\n",
       "      <td>2.814</td>\n",
       "      <td>2.438351</td>\n",
       "      <td>44.797</td>\n",
       "    </tr>\n",
       "    <tr>\n",
       "      <th>400079.0</th>\n",
       "      <td>2.023</td>\n",
       "      <td>2.358115</td>\n",
       "      <td>47.155</td>\n",
       "    </tr>\n",
       "    <tr>\n",
       "      <th>400146.0</th>\n",
       "      <td>2.140</td>\n",
       "      <td>2.316777</td>\n",
       "      <td>49.472</td>\n",
       "    </tr>\n",
       "  </tbody>\n",
       "</table>\n",
       "</div>"
      ],
      "text/plain": [
       "          % TOT ORD  % TOT GMV  GMV CUM\n",
       "PINCODE                                \n",
       "400058.0     12.494  10.779218   10.779\n",
       "400102.0      5.314   6.326479   17.106\n",
       "400120.0      4.502   6.149943   23.256\n",
       "400131.0      3.691   3.925229   27.181\n",
       "400091.0      4.484   3.417046   30.598\n",
       "400105.0      3.735   3.303433   33.901\n",
       "400122.0      2.568   3.056640   36.958\n",
       "400118.0      2.706   2.874353   39.832\n",
       "400052.0      2.309   2.526614   42.359\n",
       "400133.0      2.814   2.438351   44.797\n",
       "400079.0      2.023   2.358115   47.155\n",
       "400146.0      2.140   2.316777   49.472"
      ]
     },
     "execution_count": 20,
     "metadata": {},
     "output_type": "execute_result"
    }
   ],
   "source": [
    "by_pin[by_pin['GMV CUM']<51].drop(['ORDERS','ITEM_GMV'],axis=1)"
   ]
  },
  {
   "cell_type": "code",
   "execution_count": 21,
   "id": "15ad320c",
   "metadata": {},
   "outputs": [
    {
     "data": {
      "text/plain": [
       "count    187677.000000\n",
       "mean     402068.247041\n",
       "std        5451.196738\n",
       "min      400049.000000\n",
       "25%      400080.000000\n",
       "50%      400118.000000\n",
       "75%      400144.000000\n",
       "max      421653.000000\n",
       "Name: PINCODE, dtype: float64"
      ]
     },
     "execution_count": 21,
     "metadata": {},
     "output_type": "execute_result"
    }
   ],
   "source": [
    "df['PINCODE'].describe()"
   ]
  },
  {
   "cell_type": "code",
   "execution_count": 22,
   "id": "52e903a5",
   "metadata": {},
   "outputs": [],
   "source": [
    "#post_data = pd.read_excel(\"ByteCrunchRound2_ISBAdvaita20221.xlsx\",sheet_name=1)\n",
    "#post_data.head()"
   ]
  },
  {
   "cell_type": "code",
   "execution_count": 23,
   "id": "65441d97",
   "metadata": {},
   "outputs": [],
   "source": [
    "#post_data.to_pickle(\"post-diwali-pickled\")\n",
    "#post_df = pd.read_pickle(\"post-diwali-pickled\")\n",
    "#post_df.head()"
   ]
  },
  {
   "cell_type": "markdown",
   "id": "03f9bbf8",
   "metadata": {},
   "source": [
    "## Category sales across dates"
   ]
  },
  {
   "cell_type": "code",
   "execution_count": 24,
   "id": "54277478",
   "metadata": {},
   "outputs": [],
   "source": [
    "# Calculating category wise GMV percentage for each row\n",
    "PCT_TOT_GMV = []\n",
    "\n",
    "Charger = df.groupby('CATEGORY').sum().loc['Charger']['ITEM_GMV']\n",
    "Mobiles = df.groupby('CATEGORY').sum().loc['Mobiles']['ITEM_GMV']\n",
    "Earphones = df.groupby('CATEGORY').sum().loc['Earphones']['ITEM_GMV']\n",
    "Laptops = df.groupby('CATEGORY').sum().loc['Laptops']['ITEM_GMV']\n",
    "Tablets = df.groupby('CATEGORY').sum().loc['Tablets']['ITEM_GMV']\n",
    "Speakers = df.groupby('CATEGORY').sum().loc['Speakers']['ITEM_GMV']\n",
    "TV = df.groupby('CATEGORY').sum().loc['TV']['ITEM_GMV']\n",
    "\n",
    "for i in range(df['ORDERS'].size):\n",
    "    val = 0\n",
    "    if df['CATEGORY'][i]=='Mobiles':\n",
    "        val=Mobiles\n",
    "    elif df['CATEGORY'][i]=='Earphones':\n",
    "        val=Earphones\n",
    "    elif df['CATEGORY'][i]=='Tablets':\n",
    "        val=Tablets\n",
    "    elif df['CATEGORY'][i]=='Speakers':\n",
    "        val=Speakers\n",
    "    elif df['CATEGORY'][i]=='Laptops':\n",
    "        val=Laptops\n",
    "    elif df['CATEGORY'][i]=='TV':\n",
    "        val=TV\n",
    "    else :\n",
    "        val=Charger        \n",
    "    PCT_TOT_GMV.append(val)\n",
    "\n",
    "# making a column for category wise GMV percentage\n",
    "df['% CAT GMV'] = np.round((df['ITEM_GMV']*100)/PCT_TOT_GMV,decimals=6)"
   ]
  },
  {
   "cell_type": "code",
   "execution_count": 25,
   "id": "925b7819",
   "metadata": {
    "scrolled": true
   },
   "outputs": [
    {
     "data": {
      "text/html": [
       "<div>\n",
       "<style scoped>\n",
       "    .dataframe tbody tr th:only-of-type {\n",
       "        vertical-align: middle;\n",
       "    }\n",
       "\n",
       "    .dataframe tbody tr th {\n",
       "        vertical-align: top;\n",
       "    }\n",
       "\n",
       "    .dataframe thead th {\n",
       "        text-align: right;\n",
       "    }\n",
       "</style>\n",
       "<table border=\"1\" class=\"dataframe\">\n",
       "  <thead>\n",
       "    <tr style=\"text-align: right;\">\n",
       "      <th></th>\n",
       "      <th></th>\n",
       "      <th>ITEM_GMV</th>\n",
       "      <th>% CAT GMV</th>\n",
       "    </tr>\n",
       "    <tr>\n",
       "      <th>CATEGORY</th>\n",
       "      <th>DATE</th>\n",
       "      <th></th>\n",
       "      <th></th>\n",
       "    </tr>\n",
       "  </thead>\n",
       "  <tbody>\n",
       "    <tr>\n",
       "      <th rowspan=\"5\" valign=\"top\">Charger</th>\n",
       "      <th>2019-10-10</th>\n",
       "      <td>910741.2</td>\n",
       "      <td>12.725371</td>\n",
       "    </tr>\n",
       "    <tr>\n",
       "      <th>2019-10-11</th>\n",
       "      <td>904854.1</td>\n",
       "      <td>12.643136</td>\n",
       "    </tr>\n",
       "    <tr>\n",
       "      <th>2019-10-12</th>\n",
       "      <td>1082488.0</td>\n",
       "      <td>15.125126</td>\n",
       "    </tr>\n",
       "    <tr>\n",
       "      <th>2019-10-13</th>\n",
       "      <td>1174773.1</td>\n",
       "      <td>16.414581</td>\n",
       "    </tr>\n",
       "    <tr>\n",
       "      <th>2019-10-14</th>\n",
       "      <td>683059.3</td>\n",
       "      <td>9.544095</td>\n",
       "    </tr>\n",
       "  </tbody>\n",
       "</table>\n",
       "</div>"
      ],
      "text/plain": [
       "                      ITEM_GMV  % CAT GMV\n",
       "CATEGORY DATE                            \n",
       "Charger  2019-10-10   910741.2  12.725371\n",
       "         2019-10-11   904854.1  12.643136\n",
       "         2019-10-12  1082488.0  15.125126\n",
       "         2019-10-13  1174773.1  16.414581\n",
       "         2019-10-14   683059.3   9.544095"
      ]
     },
     "execution_count": 25,
     "metadata": {},
     "output_type": "execute_result"
    }
   ],
   "source": [
    "by_cat_date = df.groupby(['CATEGORY','DATE']).sum()[['ITEM_GMV','% CAT GMV']]\n",
    "by_cat_date.head()"
   ]
  },
  {
   "cell_type": "code",
   "execution_count": 35,
   "id": "aac6ebdc",
   "metadata": {},
   "outputs": [
    {
     "data": {
      "text/plain": [
       "Text(0, 0.5, 'GMV (in Crores)')"
      ]
     },
     "execution_count": 35,
     "metadata": {},
     "output_type": "execute_result"
    },
    {
     "data": {
      "image/png": "[encoded data removed]",
      "text/plain": [
       "<Figure size 1000x600 with 1 Axes>"
      ]
     },
     "metadata": {},
     "output_type": "display_data"
    }
   ],
   "source": [
    "ear = by_cat_date.loc[(slice('Earphones'))][8:16]\n",
    "ear_gmv_datewise = []\n",
    "for i in range(8):\n",
    "    ear_gmv_datewise.append((ear['ITEM_GMV']/10000000)[i])\n",
    "\n",
    "plt.figure(figsize=(10,6))\n",
    "ax = sns.barplot(x=dates,y=ear_gmv_datewise)\n",
    "ax.set_title('Pre Diwali - Earphone Sales')\n",
    "ax.set_xlabel('Dates')\n",
    "ax.set_ylabel('GMV (in Crores)')"
   ]
  },
  {
   "cell_type": "code",
   "execution_count": 36,
   "id": "e25aeb1f",
   "metadata": {},
   "outputs": [
    {
     "data": {
      "text/plain": [
       "Text(0, 0.5, 'GMV (in Crores)')"
      ]
     },
     "execution_count": 36,
     "metadata": {},
     "output_type": "execute_result"
    },
    {
     "data": {
      "image/png": "[encoded data removed]",
      "text/plain": [
       "<Figure size 1000x600 with 1 Axes>"
      ]
     },
     "metadata": {},
     "output_type": "display_data"
    }
   ],
   "source": [
    "phone = by_cat_date.loc[(slice('Mobiles'))][24:32]\n",
    "phone_gmv_datewise = []\n",
    "for i in range(8):\n",
    "    phone_gmv_datewise.append((phone['ITEM_GMV']/10000000)[i])\n",
    "\n",
    "plt.figure(figsize=(10,6))\n",
    "ax = sns.barplot(x=dates,y=phone_gmv_datewise)\n",
    "ax.set_title('Pre Diwali - Mobile Sales')\n",
    "ax.set_xlabel('Dates')\n",
    "ax.set_ylabel('GMV (in Crores)')"
   ]
  },
  {
   "cell_type": "code",
   "execution_count": 28,
   "id": "2dec5a72",
   "metadata": {},
   "outputs": [],
   "source": [
    "qt_or = df[['QTY','ORDERS']]"
   ]
  },
  {
   "cell_type": "code",
   "execution_count": 29,
   "id": "97a3edc9",
   "metadata": {},
   "outputs": [
    {
     "name": "stderr",
     "output_type": "stream",
     "text": [
      "/var/folders/s4/rbw51hr572v983ntn5czj87h0000gn/T/ipykernel_21649/262303439.py:1: SettingWithCopyWarning: \n",
      "A value is trying to be set on a copy of a slice from a DataFrame.\n",
      "Try using .loc[row_indexer,col_indexer] = value instead\n",
      "\n",
      "See the caveats in the documentation: https://pandas.pydata.org/pandas-docs/stable/user_guide/indexing.html#returning-a-view-versus-a-copy\n",
      "  qt_or['qty/order'] = qt_or['QTY']/qt_or['ORDERS']\n"
     ]
    },
    {
     "data": {
      "text/plain": [
       "1.9439685613581794"
      ]
     },
     "execution_count": 29,
     "metadata": {},
     "output_type": "execute_result"
    }
   ],
   "source": [
    "qt_or['qty/order'] = qt_or['QTY']/qt_or['ORDERS']\n",
    "qt_or['qty/order'].mean()"
   ]
  },
  {
   "cell_type": "code",
   "execution_count": null,
   "id": "9f9b5526",
   "metadata": {},
   "outputs": [],
   "source": []
  }
 ],
 "metadata": {
  "kernelspec": {
   "display_name": "Python 3 (ipykernel)",
   "language": "python",
   "name": "python3"
  },
  "language_info": {
   "codemirror_mode": {
    "name": "ipython",
    "version": 3
   },
   "file_extension": ".py",
   "mimetype": "text/x-python",
   "name": "python",
   "nbconvert_exporter": "python",
   "pygments_lexer": "ipython3",
   "version": "3.10.6"
  }
 },
 "nbformat": 4,
 "nbformat_minor": 5
}
