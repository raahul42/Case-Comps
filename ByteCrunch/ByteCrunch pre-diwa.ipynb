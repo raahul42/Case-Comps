{
 "cells": [
  {
   "cell_type": "code",
   "execution_count": 1,
   "id": "6478f2c6",
   "metadata": {},
   "outputs": [],
   "source": [
    "import pandas as pd\n",
    "import seaborn as sns\n",
    "import matplotlib.pyplot as plt\n",
    "import numpy as np\n",
    "\n",
    "%matplotlib inline"
   ]
  },
  {
   "cell_type": "code",
   "execution_count": 2,
   "id": "beed8b6b",
   "metadata": {
    "scrolled": true
   },
   "outputs": [],
   "source": [
    "#data = pd.read_excel(\"ByteCrunchRound2_ISBAdvaita20221.xlsx\")\n",
    "#data.to_pickle(\"pre-diwali-pickled\")"
   ]
  },
  {
   "cell_type": "code",
   "execution_count": 3,
   "id": "76837e1e",
   "metadata": {},
   "outputs": [
    {
     "data": {
      "text/html": [
       "<div>\n",
       "<style scoped>\n",
       "    .dataframe tbody tr th:only-of-type {\n",
       "        vertical-align: middle;\n",
       "    }\n",
       "\n",
       "    .dataframe tbody tr th {\n",
       "        vertical-align: top;\n",
       "    }\n",
       "\n",
       "    .dataframe thead th {\n",
       "        text-align: right;\n",
       "    }\n",
       "</style>\n",
       "<table border=\"1\" class=\"dataframe\">\n",
       "  <thead>\n",
       "    <tr style=\"text-align: right;\">\n",
       "      <th></th>\n",
       "      <th>DATE</th>\n",
       "      <th>SHOP_ID</th>\n",
       "      <th>PINCODE</th>\n",
       "      <th>SHOP</th>\n",
       "      <th>ITEM_ID</th>\n",
       "      <th>HR of the day</th>\n",
       "      <th>ORDERS</th>\n",
       "      <th>QTY</th>\n",
       "      <th>ITEM_GMV</th>\n",
       "      <th>CATEGORY</th>\n",
       "    </tr>\n",
       "  </thead>\n",
       "  <tbody>\n",
       "    <tr>\n",
       "      <th>0</th>\n",
       "      <td>2019-10-17</td>\n",
       "      <td>132734.0</td>\n",
       "      <td>401255.0</td>\n",
       "      <td>vaibhav Cell phones</td>\n",
       "      <td>41440860.0</td>\n",
       "      <td>441.0</td>\n",
       "      <td>1.0</td>\n",
       "      <td>1.0</td>\n",
       "      <td>1000.0</td>\n",
       "      <td>Charger</td>\n",
       "    </tr>\n",
       "    <tr>\n",
       "      <th>1</th>\n",
       "      <td>2019-10-12</td>\n",
       "      <td>179292.0</td>\n",
       "      <td>400079.0</td>\n",
       "      <td>Ganpati Cell phones</td>\n",
       "      <td>40191841.0</td>\n",
       "      <td>357.0</td>\n",
       "      <td>1.0</td>\n",
       "      <td>2.0</td>\n",
       "      <td>1200.0</td>\n",
       "      <td>Mobiles</td>\n",
       "    </tr>\n",
       "    <tr>\n",
       "      <th>2</th>\n",
       "      <td>2019-10-17</td>\n",
       "      <td>192693.0</td>\n",
       "      <td>400068.0</td>\n",
       "      <td>ADARSH LAPTOP Shop</td>\n",
       "      <td>41574322.0</td>\n",
       "      <td>315.0</td>\n",
       "      <td>1.0</td>\n",
       "      <td>1.0</td>\n",
       "      <td>1000.0</td>\n",
       "      <td>Earphones</td>\n",
       "    </tr>\n",
       "    <tr>\n",
       "      <th>3</th>\n",
       "      <td>2019-10-10</td>\n",
       "      <td>153638.0</td>\n",
       "      <td>400658.0</td>\n",
       "      <td>Madan JI Repair</td>\n",
       "      <td>36868884.0</td>\n",
       "      <td>210.0</td>\n",
       "      <td>1.0</td>\n",
       "      <td>1.0</td>\n",
       "      <td>3600.0</td>\n",
       "      <td>Earphones</td>\n",
       "    </tr>\n",
       "    <tr>\n",
       "      <th>4</th>\n",
       "      <td>2019-10-10</td>\n",
       "      <td>82759.0</td>\n",
       "      <td>400105.0</td>\n",
       "      <td>SHRI SANGEETHAS</td>\n",
       "      <td>37385563.0</td>\n",
       "      <td>399.0</td>\n",
       "      <td>1.0</td>\n",
       "      <td>1.0</td>\n",
       "      <td>800.0</td>\n",
       "      <td>Mobiles</td>\n",
       "    </tr>\n",
       "  </tbody>\n",
       "</table>\n",
       "</div>"
      ],
      "text/plain": [
       "        DATE   SHOP_ID   PINCODE                 SHOP     ITEM_ID  \\\n",
       "0 2019-10-17  132734.0  401255.0  vaibhav Cell phones  41440860.0   \n",
       "1 2019-10-12  179292.0  400079.0  Ganpati Cell phones  40191841.0   \n",
       "2 2019-10-17  192693.0  400068.0   ADARSH LAPTOP Shop  41574322.0   \n",
       "3 2019-10-10  153638.0  400658.0      Madan JI Repair  36868884.0   \n",
       "4 2019-10-10   82759.0  400105.0      SHRI SANGEETHAS  37385563.0   \n",
       "\n",
       "   HR of the day  ORDERS  QTY  ITEM_GMV   CATEGORY  \n",
       "0          441.0     1.0  1.0    1000.0    Charger  \n",
       "1          357.0     1.0  2.0    1200.0    Mobiles  \n",
       "2          315.0     1.0  1.0    1000.0  Earphones  \n",
       "3          210.0     1.0  1.0    3600.0  Earphones  \n",
       "4          399.0     1.0  1.0     800.0    Mobiles  "
      ]
     },
     "execution_count": 3,
     "metadata": {},
     "output_type": "execute_result"
    }
   ],
   "source": [
    "df = pd.read_pickle(\"pre-diwali-pickled\")\n",
    "df.head()"
   ]
  },
  {
   "cell_type": "code",
   "execution_count": 4,
   "id": "2ed47a9a",
   "metadata": {
    "scrolled": true
   },
   "outputs": [
    {
     "name": "stdout",
     "output_type": "stream",
     "text": [
      "<class 'pandas.core.frame.DataFrame'>\n",
      "RangeIndex: 187678 entries, 0 to 187677\n",
      "Data columns (total 10 columns):\n",
      " #   Column         Non-Null Count   Dtype         \n",
      "---  ------         --------------   -----         \n",
      " 0   DATE           187677 non-null  datetime64[ns]\n",
      " 1   SHOP_ID        187677 non-null  float64       \n",
      " 2   PINCODE        187677 non-null  float64       \n",
      " 3   SHOP           187677 non-null  object        \n",
      " 4   ITEM_ID        187677 non-null  float64       \n",
      " 5   HR of the day  187677 non-null  float64       \n",
      " 6   ORDERS         187677 non-null  float64       \n",
      " 7   QTY            187677 non-null  float64       \n",
      " 8   ITEM_GMV       187678 non-null  float64       \n",
      " 9   CATEGORY       187677 non-null  object        \n",
      "dtypes: datetime64[ns](1), float64(7), object(2)\n",
      "memory usage: 14.3+ MB\n"
     ]
    }
   ],
   "source": [
    "df.info()"
   ]
  },
  {
   "cell_type": "code",
   "execution_count": 55,
   "id": "756b4ae4",
   "metadata": {},
   "outputs": [
    {
     "data": {
      "text/plain": [
       "<AxesSubplot:xlabel='HR of the day', ylabel='Count'>"
      ]
     },
     "execution_count": 55,
     "metadata": {},
     "output_type": "execute_result"
    },
    {
     "data": {
      "image/png": "[encoded data removed]",
      "text/plain": [
       "<Figure size 640x480 with 1 Axes>"
      ]
     },
     "metadata": {},
     "output_type": "display_data"
    }
   ],
   "source": [
    "sns.histplot(df['HR of the day'])"
   ]
  },
  {
   "cell_type": "code",
   "execution_count": 5,
   "id": "c6cdd306",
   "metadata": {},
   "outputs": [
    {
     "data": {
      "text/html": [
       "<div>\n",
       "<style scoped>\n",
       "    .dataframe tbody tr th:only-of-type {\n",
       "        vertical-align: middle;\n",
       "    }\n",
       "\n",
       "    .dataframe tbody tr th {\n",
       "        vertical-align: top;\n",
       "    }\n",
       "\n",
       "    .dataframe thead th {\n",
       "        text-align: right;\n",
       "    }\n",
       "</style>\n",
       "<table border=\"1\" class=\"dataframe\">\n",
       "  <thead>\n",
       "    <tr style=\"text-align: right;\">\n",
       "      <th></th>\n",
       "      <th>DATE</th>\n",
       "      <th>SHOP_ID</th>\n",
       "      <th>PINCODE</th>\n",
       "      <th>SHOP</th>\n",
       "      <th>ITEM_ID</th>\n",
       "      <th>HR of the day</th>\n",
       "      <th>ORDERS</th>\n",
       "      <th>QTY</th>\n",
       "      <th>ITEM_GMV</th>\n",
       "      <th>CATEGORY</th>\n",
       "    </tr>\n",
       "  </thead>\n",
       "  <tbody>\n",
       "    <tr>\n",
       "      <th>187677</th>\n",
       "      <td>NaT</td>\n",
       "      <td>NaN</td>\n",
       "      <td>NaN</td>\n",
       "      <td>NaN</td>\n",
       "      <td>NaN</td>\n",
       "      <td>NaN</td>\n",
       "      <td>NaN</td>\n",
       "      <td>NaN</td>\n",
       "      <td>3.093254e+08</td>\n",
       "      <td>NaN</td>\n",
       "    </tr>\n",
       "  </tbody>\n",
       "</table>\n",
       "</div>"
      ],
      "text/plain": [
       "       DATE  SHOP_ID  PINCODE SHOP  ITEM_ID  HR of the day  ORDERS  QTY  \\\n",
       "187677  NaT      NaN      NaN  NaN      NaN            NaN     NaN  NaN   \n",
       "\n",
       "            ITEM_GMV CATEGORY  \n",
       "187677  3.093254e+08      NaN  "
      ]
     },
     "execution_count": 5,
     "metadata": {},
     "output_type": "execute_result"
    }
   ],
   "source": [
    "df[df['DATE'].isnull()]"
   ]
  },
  {
   "cell_type": "code",
   "execution_count": 6,
   "id": "88824c37",
   "metadata": {},
   "outputs": [],
   "source": [
    "df.dropna(inplace=True)"
   ]
  },
  {
   "cell_type": "code",
   "execution_count": 7,
   "id": "7ecbbfae",
   "metadata": {},
   "outputs": [
    {
     "name": "stdout",
     "output_type": "stream",
     "text": [
      "Total orders: 241585\n",
      "Total GMV is: 30.932545 crores\n"
     ]
    }
   ],
   "source": [
    "tot_ord = df['ORDERS'].sum()\n",
    "tot_gmv = df['ITEM_GMV'].sum()\n",
    "\n",
    "print(\"Total orders: %d\" % int(tot_ord))\n",
    "print(\"Total GMV is: %f crores\" % (tot_gmv/10000000))"
   ]
  },
  {
   "cell_type": "code",
   "execution_count": 8,
   "id": "1b8d355b",
   "metadata": {},
   "outputs": [
    {
     "name": "stdout",
     "output_type": "stream",
     "text": [
      "PINCODE has 259 unique values\n",
      "SHOP_ID has 1097 unique values\n",
      "SHOP has 965 unique values\n"
     ]
    }
   ],
   "source": [
    "loc = ['PINCODE','SHOP_ID','SHOP']\n",
    "\n",
    "for i in loc:\n",
    "    val = df[i].nunique()\n",
    "    print(\"{} has {} unique values\".format(i,val))"
   ]
  },
  {
   "cell_type": "code",
   "execution_count": 9,
   "id": "2e25aabf",
   "metadata": {},
   "outputs": [
    {
     "data": {
      "text/plain": [
       "Mobiles      83759\n",
       "Earphones    53892\n",
       "Tablets      27400\n",
       "Speakers      7310\n",
       "Laptops       5654\n",
       "TV            5311\n",
       "Charger       4351\n",
       "Name: CATEGORY, dtype: int64"
      ]
     },
     "execution_count": 9,
     "metadata": {},
     "output_type": "execute_result"
    }
   ],
   "source": [
    "df['CATEGORY'].value_counts()"
   ]
  },
  {
   "cell_type": "code",
   "execution_count": 10,
   "id": "e429ec33",
   "metadata": {
    "scrolled": true
   },
   "outputs": [
    {
     "data": {
      "text/html": [
       "<div>\n",
       "<style scoped>\n",
       "    .dataframe tbody tr th:only-of-type {\n",
       "        vertical-align: middle;\n",
       "    }\n",
       "\n",
       "    .dataframe tbody tr th {\n",
       "        vertical-align: top;\n",
       "    }\n",
       "\n",
       "    .dataframe thead th {\n",
       "        text-align: right;\n",
       "    }\n",
       "</style>\n",
       "<table border=\"1\" class=\"dataframe\">\n",
       "  <thead>\n",
       "    <tr style=\"text-align: right;\">\n",
       "      <th></th>\n",
       "      <th>DATE</th>\n",
       "      <th>SHOP_ID</th>\n",
       "      <th>PINCODE</th>\n",
       "      <th>SHOP</th>\n",
       "      <th>ITEM_ID</th>\n",
       "      <th>HR of the day</th>\n",
       "      <th>ORDERS</th>\n",
       "      <th>QTY</th>\n",
       "      <th>ITEM_GMV</th>\n",
       "      <th>CATEGORY</th>\n",
       "    </tr>\n",
       "  </thead>\n",
       "  <tbody>\n",
       "    <tr>\n",
       "      <th>0</th>\n",
       "      <td>2019-10-17</td>\n",
       "      <td>132734.0</td>\n",
       "      <td>401255.0</td>\n",
       "      <td>vaibhav Cell phones</td>\n",
       "      <td>41440860.0</td>\n",
       "      <td>441.0</td>\n",
       "      <td>1.0</td>\n",
       "      <td>1.0</td>\n",
       "      <td>1000.0</td>\n",
       "      <td>Charger</td>\n",
       "    </tr>\n",
       "    <tr>\n",
       "      <th>1</th>\n",
       "      <td>2019-10-12</td>\n",
       "      <td>179292.0</td>\n",
       "      <td>400079.0</td>\n",
       "      <td>Ganpati Cell phones</td>\n",
       "      <td>40191841.0</td>\n",
       "      <td>357.0</td>\n",
       "      <td>1.0</td>\n",
       "      <td>2.0</td>\n",
       "      <td>1200.0</td>\n",
       "      <td>Mobiles</td>\n",
       "    </tr>\n",
       "    <tr>\n",
       "      <th>2</th>\n",
       "      <td>2019-10-17</td>\n",
       "      <td>192693.0</td>\n",
       "      <td>400068.0</td>\n",
       "      <td>ADARSH LAPTOP Shop</td>\n",
       "      <td>41574322.0</td>\n",
       "      <td>315.0</td>\n",
       "      <td>1.0</td>\n",
       "      <td>1.0</td>\n",
       "      <td>1000.0</td>\n",
       "      <td>Earphones</td>\n",
       "    </tr>\n",
       "    <tr>\n",
       "      <th>3</th>\n",
       "      <td>2019-10-10</td>\n",
       "      <td>153638.0</td>\n",
       "      <td>400658.0</td>\n",
       "      <td>Madan JI Repair</td>\n",
       "      <td>36868884.0</td>\n",
       "      <td>210.0</td>\n",
       "      <td>1.0</td>\n",
       "      <td>1.0</td>\n",
       "      <td>3600.0</td>\n",
       "      <td>Earphones</td>\n",
       "    </tr>\n",
       "    <tr>\n",
       "      <th>4</th>\n",
       "      <td>2019-10-10</td>\n",
       "      <td>82759.0</td>\n",
       "      <td>400105.0</td>\n",
       "      <td>SHRI SANGEETHAS</td>\n",
       "      <td>37385563.0</td>\n",
       "      <td>399.0</td>\n",
       "      <td>1.0</td>\n",
       "      <td>1.0</td>\n",
       "      <td>800.0</td>\n",
       "      <td>Mobiles</td>\n",
       "    </tr>\n",
       "  </tbody>\n",
       "</table>\n",
       "</div>"
      ],
      "text/plain": [
       "        DATE   SHOP_ID   PINCODE                 SHOP     ITEM_ID  \\\n",
       "0 2019-10-17  132734.0  401255.0  vaibhav Cell phones  41440860.0   \n",
       "1 2019-10-12  179292.0  400079.0  Ganpati Cell phones  40191841.0   \n",
       "2 2019-10-17  192693.0  400068.0   ADARSH LAPTOP Shop  41574322.0   \n",
       "3 2019-10-10  153638.0  400658.0      Madan JI Repair  36868884.0   \n",
       "4 2019-10-10   82759.0  400105.0      SHRI SANGEETHAS  37385563.0   \n",
       "\n",
       "   HR of the day  ORDERS  QTY  ITEM_GMV   CATEGORY  \n",
       "0          441.0     1.0  1.0    1000.0    Charger  \n",
       "1          357.0     1.0  2.0    1200.0    Mobiles  \n",
       "2          315.0     1.0  1.0    1000.0  Earphones  \n",
       "3          210.0     1.0  1.0    3600.0  Earphones  \n",
       "4          399.0     1.0  1.0     800.0    Mobiles  "
      ]
     },
     "execution_count": 10,
     "metadata": {},
     "output_type": "execute_result"
    }
   ],
   "source": [
    "df.head()"
   ]
  },
  {
   "cell_type": "markdown",
   "id": "d4d2a128",
   "metadata": {},
   "source": [
    "## Date wise comparison"
   ]
  },
  {
   "cell_type": "code",
   "execution_count": 11,
   "id": "1ab8cbc6",
   "metadata": {},
   "outputs": [
    {
     "data": {
      "text/html": [
       "<div>\n",
       "<style scoped>\n",
       "    .dataframe tbody tr th:only-of-type {\n",
       "        vertical-align: middle;\n",
       "    }\n",
       "\n",
       "    .dataframe tbody tr th {\n",
       "        vertical-align: top;\n",
       "    }\n",
       "\n",
       "    .dataframe thead th {\n",
       "        text-align: right;\n",
       "    }\n",
       "</style>\n",
       "<table border=\"1\" class=\"dataframe\">\n",
       "  <thead>\n",
       "    <tr style=\"text-align: right;\">\n",
       "      <th></th>\n",
       "      <th>ITEM_GMV (crores)</th>\n",
       "      <th>% TOT ORD</th>\n",
       "      <th>% TOT GMV</th>\n",
       "    </tr>\n",
       "    <tr>\n",
       "      <th>DATE</th>\n",
       "      <th></th>\n",
       "      <th></th>\n",
       "      <th></th>\n",
       "    </tr>\n",
       "  </thead>\n",
       "  <tbody>\n",
       "    <tr>\n",
       "      <th>2019-10-10</th>\n",
       "      <td>3.470</td>\n",
       "      <td>11.52</td>\n",
       "      <td>11.22</td>\n",
       "    </tr>\n",
       "    <tr>\n",
       "      <th>2019-10-11</th>\n",
       "      <td>3.353</td>\n",
       "      <td>11.16</td>\n",
       "      <td>10.84</td>\n",
       "    </tr>\n",
       "    <tr>\n",
       "      <th>2019-10-12</th>\n",
       "      <td>3.997</td>\n",
       "      <td>13.25</td>\n",
       "      <td>12.92</td>\n",
       "    </tr>\n",
       "    <tr>\n",
       "      <th>2019-10-13</th>\n",
       "      <td>4.744</td>\n",
       "      <td>16.01</td>\n",
       "      <td>15.34</td>\n",
       "    </tr>\n",
       "    <tr>\n",
       "      <th>2019-10-14</th>\n",
       "      <td>3.036</td>\n",
       "      <td>9.87</td>\n",
       "      <td>9.81</td>\n",
       "    </tr>\n",
       "    <tr>\n",
       "      <th>2019-10-15</th>\n",
       "      <td>3.433</td>\n",
       "      <td>11.06</td>\n",
       "      <td>11.10</td>\n",
       "    </tr>\n",
       "    <tr>\n",
       "      <th>2019-10-16</th>\n",
       "      <td>3.796</td>\n",
       "      <td>11.89</td>\n",
       "      <td>12.27</td>\n",
       "    </tr>\n",
       "    <tr>\n",
       "      <th>2019-10-17</th>\n",
       "      <td>5.103</td>\n",
       "      <td>15.23</td>\n",
       "      <td>16.50</td>\n",
       "    </tr>\n",
       "  </tbody>\n",
       "</table>\n",
       "</div>"
      ],
      "text/plain": [
       "            ITEM_GMV (crores)  % TOT ORD  % TOT GMV\n",
       "DATE                                               \n",
       "2019-10-10              3.470      11.52      11.22\n",
       "2019-10-11              3.353      11.16      10.84\n",
       "2019-10-12              3.997      13.25      12.92\n",
       "2019-10-13              4.744      16.01      15.34\n",
       "2019-10-14              3.036       9.87       9.81\n",
       "2019-10-15              3.433      11.06      11.10\n",
       "2019-10-16              3.796      11.89      12.27\n",
       "2019-10-17              5.103      15.23      16.50"
      ]
     },
     "execution_count": 11,
     "metadata": {},
     "output_type": "execute_result"
    }
   ],
   "source": [
    "by_date = df.groupby('DATE').sum()[['ORDERS','ITEM_GMV']]\n",
    "by_date['ITEM_GMV (crores)'] = np.round(by_date['ITEM_GMV']/10000000,decimals=3)\n",
    "by_date['% TOT ORD'] = np.round(by_date['ORDERS']/2415.85,decimals=2)\n",
    "by_date['% TOT GMV'] = np.round(by_date['ITEM_GMV']*100/df['ITEM_GMV'].sum(),decimals=2)\n",
    "by_date.drop(['ORDERS','ITEM_GMV'],axis=1)"
   ]
  },
  {
   "cell_type": "code",
   "execution_count": 12,
   "id": "e1ffa39c",
   "metadata": {},
   "outputs": [
    {
     "data": {
      "text/plain": [
       "<AxesSubplot:ylabel='ITEM_GMV'>"
      ]
     },
     "execution_count": 12,
     "metadata": {},
     "output_type": "execute_result"
    },
    {
     "data": {
      "image/png": "[encoded data removed]",
      "text/plain": [
       "<Figure size 1000x600 with 1 Axes>"
      ]
     },
     "metadata": {},
     "output_type": "display_data"
    }
   ],
   "source": [
    "dates = []\n",
    "\n",
    "for date in by_date.index :\n",
    "    dates.append(str(date)[-14:-9])\n",
    "\n",
    "plt.figure(figsize=(10,6))\n",
    "sns.barplot(x=dates,y=by_date.ITEM_GMV)"
   ]
  },
  {
   "cell_type": "code",
   "execution_count": 13,
   "id": "c160af52",
   "metadata": {},
   "outputs": [
    {
     "data": {
      "text/plain": [
       "<AxesSubplot:ylabel='ORDERS'>"
      ]
     },
     "execution_count": 13,
     "metadata": {},
     "output_type": "execute_result"
    },
    {
     "data": {
      "image/png": "[encoded data removed]",
      "text/plain": [
       "<Figure size 1000x600 with 1 Axes>"
      ]
     },
     "metadata": {},
     "output_type": "display_data"
    }
   ],
   "source": [
    "plt.figure(figsize=(10,6))\n",
    "sns.barplot(x=dates,y=by_date.ORDERS)"
   ]
  },
  {
   "cell_type": "markdown",
   "id": "e633fb1c",
   "metadata": {},
   "source": [
    "## Category wise comparison"
   ]
  },
  {
   "cell_type": "code",
   "execution_count": 14,
   "id": "6b2981ea",
   "metadata": {},
   "outputs": [
    {
     "data": {
      "text/html": [
       "<div>\n",
       "<style scoped>\n",
       "    .dataframe tbody tr th:only-of-type {\n",
       "        vertical-align: middle;\n",
       "    }\n",
       "\n",
       "    .dataframe tbody tr th {\n",
       "        vertical-align: top;\n",
       "    }\n",
       "\n",
       "    .dataframe thead th {\n",
       "        text-align: right;\n",
       "    }\n",
       "</style>\n",
       "<table border=\"1\" class=\"dataframe\">\n",
       "  <thead>\n",
       "    <tr style=\"text-align: right;\">\n",
       "      <th></th>\n",
       "      <th>ITEM_GMV (crores)</th>\n",
       "      <th>% Total ORD</th>\n",
       "      <th>% TOT GMV</th>\n",
       "    </tr>\n",
       "    <tr>\n",
       "      <th>CATEGORY</th>\n",
       "      <th></th>\n",
       "      <th></th>\n",
       "      <th></th>\n",
       "    </tr>\n",
       "  </thead>\n",
       "  <tbody>\n",
       "    <tr>\n",
       "      <th>Mobiles</th>\n",
       "      <td>11.331</td>\n",
       "      <td>29.182</td>\n",
       "      <td>36.631727</td>\n",
       "    </tr>\n",
       "    <tr>\n",
       "      <th>Earphones</th>\n",
       "      <td>11.018</td>\n",
       "      <td>19.818</td>\n",
       "      <td>35.620270</td>\n",
       "    </tr>\n",
       "    <tr>\n",
       "      <th>Tablets</th>\n",
       "      <td>4.520</td>\n",
       "      <td>9.349</td>\n",
       "      <td>14.613694</td>\n",
       "    </tr>\n",
       "    <tr>\n",
       "      <th>Speakers</th>\n",
       "      <td>1.326</td>\n",
       "      <td>2.526</td>\n",
       "      <td>4.285744</td>\n",
       "    </tr>\n",
       "    <tr>\n",
       "      <th>Laptops</th>\n",
       "      <td>1.188</td>\n",
       "      <td>2.048</td>\n",
       "      <td>3.841069</td>\n",
       "    </tr>\n",
       "    <tr>\n",
       "      <th>TV</th>\n",
       "      <td>0.833</td>\n",
       "      <td>1.974</td>\n",
       "      <td>2.693782</td>\n",
       "    </tr>\n",
       "    <tr>\n",
       "      <th>Charger</th>\n",
       "      <td>0.716</td>\n",
       "      <td>1.575</td>\n",
       "      <td>2.313715</td>\n",
       "    </tr>\n",
       "  </tbody>\n",
       "</table>\n",
       "</div>"
      ],
      "text/plain": [
       "           ITEM_GMV (crores)  % Total ORD  % TOT GMV\n",
       "CATEGORY                                            \n",
       "Mobiles               11.331       29.182  36.631727\n",
       "Earphones             11.018       19.818  35.620270\n",
       "Tablets                4.520        9.349  14.613694\n",
       "Speakers               1.326        2.526   4.285744\n",
       "Laptops                1.188        2.048   3.841069\n",
       "TV                     0.833        1.974   2.693782\n",
       "Charger                0.716        1.575   2.313715"
      ]
     },
     "execution_count": 14,
     "metadata": {},
     "output_type": "execute_result"
    }
   ],
   "source": [
    "by_cat = df.groupby('CATEGORY').sum()[['ORDERS','ITEM_GMV']].sort_values(['ITEM_GMV'],ascending=False)\n",
    "by_cat['ITEM_GMV (crores)'] = np.round(by_cat['ITEM_GMV']/10000000,decimals=3)\n",
    "by_cat['% Total ORD'] = np.round(by_cat['ORDERS']/3634.45,decimals=3)\n",
    "by_cat['% TOT GMV'] = np.round(by_cat['ITEM_GMV']*100/df['ITEM_GMV'].sum(),decimals=6)\n",
    "by_cat.drop(['ORDERS','ITEM_GMV'],axis=1)"
   ]
  },
  {
   "cell_type": "code",
   "execution_count": 15,
   "id": "14c9d45e",
   "metadata": {},
   "outputs": [
    {
     "data": {
      "text/plain": [
       "<AxesSubplot:title={'center':'Pre-Diwali Sales'}, ylabel='% TOT GMV'>"
      ]
     },
     "execution_count": 15,
     "metadata": {},
     "output_type": "execute_result"
    },
    {
     "data": {
      "image/png": "[encoded data removed]",
      "text/plain": [
       "<Figure size 800x1800 with 1 Axes>"
      ]
     },
     "metadata": {},
     "output_type": "display_data"
    }
   ],
   "source": [
    "by_cat.plot(kind='pie',y='% TOT GMV',legend=False, autopct='%1.0f%%', figsize=(8,18), title='Pre-Diwali Sales')"
   ]
  },
  {
   "cell_type": "code",
   "execution_count": 16,
   "id": "580a1226",
   "metadata": {},
   "outputs": [],
   "source": [
    "#by_cat.plot(kind='pie',y='% TOT ORD',legend=False)"
   ]
  },
  {
   "cell_type": "markdown",
   "id": "e7af2fe8",
   "metadata": {},
   "source": [
    "## Shop wise comparison"
   ]
  },
  {
   "cell_type": "code",
   "execution_count": 48,
   "id": "5ca76396",
   "metadata": {
    "scrolled": true
   },
   "outputs": [
    {
     "data": {
      "text/html": [
       "<div>\n",
       "<style scoped>\n",
       "    .dataframe tbody tr th:only-of-type {\n",
       "        vertical-align: middle;\n",
       "    }\n",
       "\n",
       "    .dataframe tbody tr th {\n",
       "        vertical-align: top;\n",
       "    }\n",
       "\n",
       "    .dataframe thead th {\n",
       "        text-align: right;\n",
       "    }\n",
       "</style>\n",
       "<table border=\"1\" class=\"dataframe\">\n",
       "  <thead>\n",
       "    <tr style=\"text-align: right;\">\n",
       "      <th></th>\n",
       "      <th>ORDERS</th>\n",
       "      <th>ITEM_GMV</th>\n",
       "      <th>% TOT ORD</th>\n",
       "      <th>% TOT GMV</th>\n",
       "      <th>GMV CUM</th>\n",
       "    </tr>\n",
       "    <tr>\n",
       "      <th>SHOP</th>\n",
       "      <th></th>\n",
       "      <th></th>\n",
       "      <th></th>\n",
       "      <th></th>\n",
       "      <th></th>\n",
       "    </tr>\n",
       "  </thead>\n",
       "  <tbody>\n",
       "    <tr>\n",
       "      <th>Samsung &amp; Apple's</th>\n",
       "      <td>5968.0</td>\n",
       "      <td>1.158309e+07</td>\n",
       "      <td>2.47</td>\n",
       "      <td>3.744630</td>\n",
       "      <td>3.745</td>\n",
       "    </tr>\n",
       "    <tr>\n",
       "      <th>SS ELECTRONICS(Tripolis)</th>\n",
       "      <td>4964.0</td>\n",
       "      <td>1.145388e+07</td>\n",
       "      <td>2.05</td>\n",
       "      <td>3.702857</td>\n",
       "      <td>7.447</td>\n",
       "    </tr>\n",
       "    <tr>\n",
       "      <th>Kiranshree Cell phones &amp; Speakers</th>\n",
       "      <td>5207.0</td>\n",
       "      <td>8.168113e+06</td>\n",
       "      <td>2.16</td>\n",
       "      <td>2.640621</td>\n",
       "      <td>10.088</td>\n",
       "    </tr>\n",
       "    <tr>\n",
       "      <th>Manohar ELECTRONICS and Tablets</th>\n",
       "      <td>5285.0</td>\n",
       "      <td>7.026187e+06</td>\n",
       "      <td>2.19</td>\n",
       "      <td>2.271455</td>\n",
       "      <td>12.360</td>\n",
       "    </tr>\n",
       "    <tr>\n",
       "      <th>Indian's Cell phones</th>\n",
       "      <td>4700.0</td>\n",
       "      <td>6.195390e+06</td>\n",
       "      <td>1.95</td>\n",
       "      <td>2.002871</td>\n",
       "      <td>14.362</td>\n",
       "    </tr>\n",
       "    <tr>\n",
       "      <th>...</th>\n",
       "      <td>...</td>\n",
       "      <td>...</td>\n",
       "      <td>...</td>\n",
       "      <td>...</td>\n",
       "      <td>...</td>\n",
       "    </tr>\n",
       "    <tr>\n",
       "      <th>Sree Mahendra Phone &amp; Cell phones</th>\n",
       "      <td>1.0</td>\n",
       "      <td>1.000000e+03</td>\n",
       "      <td>0.00</td>\n",
       "      <td>0.000323</td>\n",
       "      <td>99.999</td>\n",
       "    </tr>\n",
       "    <tr>\n",
       "      <th>ELECTRONICS Shivganga</th>\n",
       "      <td>1.0</td>\n",
       "      <td>1.000000e+03</td>\n",
       "      <td>0.00</td>\n",
       "      <td>0.000323</td>\n",
       "      <td>99.999</td>\n",
       "    </tr>\n",
       "    <tr>\n",
       "      <th>Bombay ELECTRONICS Gh road</th>\n",
       "      <td>1.0</td>\n",
       "      <td>8.000000e+02</td>\n",
       "      <td>0.00</td>\n",
       "      <td>0.000259</td>\n",
       "      <td>100.000</td>\n",
       "    </tr>\n",
       "    <tr>\n",
       "      <th>New Vandana Cell phones</th>\n",
       "      <td>1.0</td>\n",
       "      <td>7.000000e+02</td>\n",
       "      <td>0.00</td>\n",
       "      <td>0.000226</td>\n",
       "      <td>100.000</td>\n",
       "    </tr>\n",
       "    <tr>\n",
       "      <th>The road Chef</th>\n",
       "      <td>1.0</td>\n",
       "      <td>7.000000e+02</td>\n",
       "      <td>0.00</td>\n",
       "      <td>0.000226</td>\n",
       "      <td>100.000</td>\n",
       "    </tr>\n",
       "  </tbody>\n",
       "</table>\n",
       "<p>965 rows × 5 columns</p>\n",
       "</div>"
      ],
      "text/plain": [
       "                                   ORDERS      ITEM_GMV  % TOT ORD  % TOT GMV  \\\n",
       "SHOP                                                                            \n",
       "Samsung & Apple's                  5968.0  1.158309e+07       2.47   3.744630   \n",
       "SS ELECTRONICS(Tripolis)           4964.0  1.145388e+07       2.05   3.702857   \n",
       "Kiranshree Cell phones & Speakers  5207.0  8.168113e+06       2.16   2.640621   \n",
       "Manohar ELECTRONICS and Tablets    5285.0  7.026187e+06       2.19   2.271455   \n",
       "Indian's Cell phones               4700.0  6.195390e+06       1.95   2.002871   \n",
       "...                                   ...           ...        ...        ...   \n",
       "Sree Mahendra Phone & Cell phones     1.0  1.000000e+03       0.00   0.000323   \n",
       "ELECTRONICS Shivganga                 1.0  1.000000e+03       0.00   0.000323   \n",
       "Bombay ELECTRONICS Gh road            1.0  8.000000e+02       0.00   0.000259   \n",
       "New Vandana Cell phones               1.0  7.000000e+02       0.00   0.000226   \n",
       "The road Chef                         1.0  7.000000e+02       0.00   0.000226   \n",
       "\n",
       "                                   GMV CUM  \n",
       "SHOP                                        \n",
       "Samsung & Apple's                    3.745  \n",
       "SS ELECTRONICS(Tripolis)             7.447  \n",
       "Kiranshree Cell phones & Speakers   10.088  \n",
       "Manohar ELECTRONICS and Tablets     12.360  \n",
       "Indian's Cell phones                14.362  \n",
       "...                                    ...  \n",
       "Sree Mahendra Phone & Cell phones   99.999  \n",
       "ELECTRONICS Shivganga               99.999  \n",
       "Bombay ELECTRONICS Gh road         100.000  \n",
       "New Vandana Cell phones            100.000  \n",
       "The road Chef                      100.000  \n",
       "\n",
       "[965 rows x 5 columns]"
      ]
     },
     "execution_count": 48,
     "metadata": {},
     "output_type": "execute_result"
    }
   ],
   "source": [
    "by_shop = df.groupby('SHOP').sum()[['ORDERS','ITEM_GMV']].sort_values(['ITEM_GMV'],ascending=False)\n",
    "by_shop['% TOT ORD'] = np.round(by_shop['ORDERS']/2415.85,decimals=2)\n",
    "by_shop['% TOT GMV'] = np.round(by_shop['ITEM_GMV']*100/df['ITEM_GMV'].sum(),decimals=6)\n",
    "by_shop['GMV CUM'] = np.round(by_shop['% TOT GMV'].cumsum(axis=0),decimals=3)\n",
    "by_shop"
   ]
  },
  {
   "cell_type": "code",
   "execution_count": 18,
   "id": "d8de0768",
   "metadata": {},
   "outputs": [
    {
     "data": {
      "text/html": [
       "<div>\n",
       "<style scoped>\n",
       "    .dataframe tbody tr th:only-of-type {\n",
       "        vertical-align: middle;\n",
       "    }\n",
       "\n",
       "    .dataframe tbody tr th {\n",
       "        vertical-align: top;\n",
       "    }\n",
       "\n",
       "    .dataframe thead th {\n",
       "        text-align: right;\n",
       "    }\n",
       "</style>\n",
       "<table border=\"1\" class=\"dataframe\">\n",
       "  <thead>\n",
       "    <tr style=\"text-align: right;\">\n",
       "      <th></th>\n",
       "      <th>% TOT ORD</th>\n",
       "      <th>% TOT GMV</th>\n",
       "      <th>GMV CUM</th>\n",
       "    </tr>\n",
       "    <tr>\n",
       "      <th>SHOP</th>\n",
       "      <th></th>\n",
       "      <th></th>\n",
       "      <th></th>\n",
       "    </tr>\n",
       "  </thead>\n",
       "  <tbody>\n",
       "    <tr>\n",
       "      <th>Samsung &amp; Apple's</th>\n",
       "      <td>2.47</td>\n",
       "      <td>3.744630</td>\n",
       "      <td>3.745</td>\n",
       "    </tr>\n",
       "    <tr>\n",
       "      <th>SS ELECTRONICS(Tripolis)</th>\n",
       "      <td>2.05</td>\n",
       "      <td>3.702857</td>\n",
       "      <td>7.447</td>\n",
       "    </tr>\n",
       "    <tr>\n",
       "      <th>Kiranshree Cell phones &amp; Speakers</th>\n",
       "      <td>2.16</td>\n",
       "      <td>2.640621</td>\n",
       "      <td>10.088</td>\n",
       "    </tr>\n",
       "    <tr>\n",
       "      <th>Manohar ELECTRONICS and Tablets</th>\n",
       "      <td>2.19</td>\n",
       "      <td>2.271455</td>\n",
       "      <td>12.360</td>\n",
       "    </tr>\n",
       "    <tr>\n",
       "      <th>Indian's Cell phones</th>\n",
       "      <td>1.95</td>\n",
       "      <td>2.002871</td>\n",
       "      <td>14.362</td>\n",
       "    </tr>\n",
       "    <tr>\n",
       "      <th>SHRI SANGEETAS</th>\n",
       "      <td>2.23</td>\n",
       "      <td>1.914883</td>\n",
       "      <td>16.277</td>\n",
       "    </tr>\n",
       "    <tr>\n",
       "      <th>Kaveri - Lalpur</th>\n",
       "      <td>1.13</td>\n",
       "      <td>1.686088</td>\n",
       "      <td>17.963</td>\n",
       "    </tr>\n",
       "    <tr>\n",
       "      <th>Kipps Cell phones (Rajendra Nagar)</th>\n",
       "      <td>1.29</td>\n",
       "      <td>1.622170</td>\n",
       "      <td>19.586</td>\n",
       "    </tr>\n",
       "    <tr>\n",
       "      <th>Pathak Tablets</th>\n",
       "      <td>1.27</td>\n",
       "      <td>1.585999</td>\n",
       "      <td>21.172</td>\n",
       "    </tr>\n",
       "    <tr>\n",
       "      <th>Nathu's Cell phones</th>\n",
       "      <td>1.48</td>\n",
       "      <td>1.506078</td>\n",
       "      <td>22.678</td>\n",
       "    </tr>\n",
       "    <tr>\n",
       "      <th>New Delhi Cell phones</th>\n",
       "      <td>1.60</td>\n",
       "      <td>1.456100</td>\n",
       "      <td>24.134</td>\n",
       "    </tr>\n",
       "  </tbody>\n",
       "</table>\n",
       "</div>"
      ],
      "text/plain": [
       "                                    % TOT ORD  % TOT GMV  GMV CUM\n",
       "SHOP                                                             \n",
       "Samsung & Apple's                        2.47   3.744630    3.745\n",
       "SS ELECTRONICS(Tripolis)                 2.05   3.702857    7.447\n",
       "Kiranshree Cell phones & Speakers        2.16   2.640621   10.088\n",
       "Manohar ELECTRONICS and Tablets          2.19   2.271455   12.360\n",
       "Indian's Cell phones                     1.95   2.002871   14.362\n",
       "SHRI SANGEETAS                           2.23   1.914883   16.277\n",
       "Kaveri - Lalpur                          1.13   1.686088   17.963\n",
       "Kipps Cell phones (Rajendra Nagar)       1.29   1.622170   19.586\n",
       "Pathak Tablets                           1.27   1.585999   21.172\n",
       "Nathu's Cell phones                      1.48   1.506078   22.678\n",
       "New Delhi Cell phones                    1.60   1.456100   24.134"
      ]
     },
     "execution_count": 18,
     "metadata": {},
     "output_type": "execute_result"
    }
   ],
   "source": [
    "by_shop[by_shop['GMV CUM']<25].drop(['ORDERS','ITEM_GMV'],axis=1)"
   ]
  },
  {
   "cell_type": "code",
   "execution_count": 19,
   "id": "44eeaffc",
   "metadata": {},
   "outputs": [],
   "source": [
    "# by_shop[by_shop['GMV CUM']<26].drop(['ORDERS','ITEM_GMV'],axis=1).to_csv(\"GMV grouped by Shop.csv\")"
   ]
  },
  {
   "cell_type": "markdown",
   "id": "049eeb0a",
   "metadata": {},
   "source": [
    "## Location wise comparison"
   ]
  },
  {
   "cell_type": "code",
   "execution_count": 47,
   "id": "a760c5db",
   "metadata": {},
   "outputs": [
    {
     "data": {
      "text/html": [
       "<div>\n",
       "<style scoped>\n",
       "    .dataframe tbody tr th:only-of-type {\n",
       "        vertical-align: middle;\n",
       "    }\n",
       "\n",
       "    .dataframe tbody tr th {\n",
       "        vertical-align: top;\n",
       "    }\n",
       "\n",
       "    .dataframe thead th {\n",
       "        text-align: right;\n",
       "    }\n",
       "</style>\n",
       "<table border=\"1\" class=\"dataframe\">\n",
       "  <thead>\n",
       "    <tr style=\"text-align: right;\">\n",
       "      <th></th>\n",
       "      <th>ORDERS</th>\n",
       "      <th>ITEM_GMV</th>\n",
       "      <th>% TOT ORD</th>\n",
       "      <th>% TOT GMV</th>\n",
       "      <th>GMV CUM</th>\n",
       "    </tr>\n",
       "    <tr>\n",
       "      <th>PINCODE</th>\n",
       "      <th></th>\n",
       "      <th></th>\n",
       "      <th></th>\n",
       "      <th></th>\n",
       "      <th></th>\n",
       "    </tr>\n",
       "  </thead>\n",
       "  <tbody>\n",
       "    <tr>\n",
       "      <th>400058.0</th>\n",
       "      <td>30183.0</td>\n",
       "      <td>3.334286e+07</td>\n",
       "      <td>12.494</td>\n",
       "      <td>10.779218</td>\n",
       "      <td>10.779</td>\n",
       "    </tr>\n",
       "    <tr>\n",
       "      <th>400102.0</th>\n",
       "      <td>12838.0</td>\n",
       "      <td>1.956941e+07</td>\n",
       "      <td>5.314</td>\n",
       "      <td>6.326479</td>\n",
       "      <td>17.106</td>\n",
       "    </tr>\n",
       "    <tr>\n",
       "      <th>400120.0</th>\n",
       "      <td>10875.0</td>\n",
       "      <td>1.902334e+07</td>\n",
       "      <td>4.502</td>\n",
       "      <td>6.149943</td>\n",
       "      <td>23.256</td>\n",
       "    </tr>\n",
       "    <tr>\n",
       "      <th>400131.0</th>\n",
       "      <td>8917.0</td>\n",
       "      <td>1.214173e+07</td>\n",
       "      <td>3.691</td>\n",
       "      <td>3.925229</td>\n",
       "      <td>27.181</td>\n",
       "    </tr>\n",
       "    <tr>\n",
       "      <th>400091.0</th>\n",
       "      <td>10833.0</td>\n",
       "      <td>1.056979e+07</td>\n",
       "      <td>4.484</td>\n",
       "      <td>3.417046</td>\n",
       "      <td>30.598</td>\n",
       "    </tr>\n",
       "    <tr>\n",
       "      <th>...</th>\n",
       "      <td>...</td>\n",
       "      <td>...</td>\n",
       "      <td>...</td>\n",
       "      <td>...</td>\n",
       "      <td>...</td>\n",
       "    </tr>\n",
       "    <tr>\n",
       "      <th>412263.0</th>\n",
       "      <td>2.0</td>\n",
       "      <td>5.400000e+03</td>\n",
       "      <td>0.001</td>\n",
       "      <td>0.001746</td>\n",
       "      <td>99.996</td>\n",
       "    </tr>\n",
       "    <tr>\n",
       "      <th>412155.0</th>\n",
       "      <td>9.0</td>\n",
       "      <td>4.400000e+03</td>\n",
       "      <td>0.004</td>\n",
       "      <td>0.001422</td>\n",
       "      <td>99.998</td>\n",
       "    </tr>\n",
       "    <tr>\n",
       "      <th>410560.0</th>\n",
       "      <td>2.0</td>\n",
       "      <td>3.450000e+03</td>\n",
       "      <td>0.001</td>\n",
       "      <td>0.001115</td>\n",
       "      <td>99.999</td>\n",
       "    </tr>\n",
       "    <tr>\n",
       "      <th>413850.0</th>\n",
       "      <td>1.0</td>\n",
       "      <td>2.250000e+03</td>\n",
       "      <td>0.000</td>\n",
       "      <td>0.000727</td>\n",
       "      <td>100.000</td>\n",
       "    </tr>\n",
       "    <tr>\n",
       "      <th>410559.0</th>\n",
       "      <td>2.0</td>\n",
       "      <td>1.450000e+03</td>\n",
       "      <td>0.001</td>\n",
       "      <td>0.000469</td>\n",
       "      <td>100.000</td>\n",
       "    </tr>\n",
       "  </tbody>\n",
       "</table>\n",
       "<p>259 rows × 5 columns</p>\n",
       "</div>"
      ],
      "text/plain": [
       "           ORDERS      ITEM_GMV  % TOT ORD  % TOT GMV  GMV CUM\n",
       "PINCODE                                                       \n",
       "400058.0  30183.0  3.334286e+07     12.494  10.779218   10.779\n",
       "400102.0  12838.0  1.956941e+07      5.314   6.326479   17.106\n",
       "400120.0  10875.0  1.902334e+07      4.502   6.149943   23.256\n",
       "400131.0   8917.0  1.214173e+07      3.691   3.925229   27.181\n",
       "400091.0  10833.0  1.056979e+07      4.484   3.417046   30.598\n",
       "...           ...           ...        ...        ...      ...\n",
       "412263.0      2.0  5.400000e+03      0.001   0.001746   99.996\n",
       "412155.0      9.0  4.400000e+03      0.004   0.001422   99.998\n",
       "410560.0      2.0  3.450000e+03      0.001   0.001115   99.999\n",
       "413850.0      1.0  2.250000e+03      0.000   0.000727  100.000\n",
       "410559.0      2.0  1.450000e+03      0.001   0.000469  100.000\n",
       "\n",
       "[259 rows x 5 columns]"
      ]
     },
     "execution_count": 47,
     "metadata": {},
     "output_type": "execute_result"
    }
   ],
   "source": [
    "by_pin = df.groupby('PINCODE').sum()[['ORDERS','ITEM_GMV']].sort_values(['ITEM_GMV'],ascending=False)\n",
    "by_pin['% TOT ORD'] = np.round(by_pin['ORDERS']/2415.85,decimals=3)\n",
    "by_pin['% TOT GMV'] = np.round(by_pin['ITEM_GMV']*100/df['ITEM_GMV'].sum(),decimals=6)\n",
    "by_pin['GMV CUM'] = np.round(by_pin['% TOT GMV'].cumsum(axis=0),decimals=3)\n",
    "by_pin"
   ]
  },
  {
   "cell_type": "code",
   "execution_count": 21,
   "id": "354f8565",
   "metadata": {},
   "outputs": [
    {
     "data": {
      "text/html": [
       "<div>\n",
       "<style scoped>\n",
       "    .dataframe tbody tr th:only-of-type {\n",
       "        vertical-align: middle;\n",
       "    }\n",
       "\n",
       "    .dataframe tbody tr th {\n",
       "        vertical-align: top;\n",
       "    }\n",
       "\n",
       "    .dataframe thead th {\n",
       "        text-align: right;\n",
       "    }\n",
       "</style>\n",
       "<table border=\"1\" class=\"dataframe\">\n",
       "  <thead>\n",
       "    <tr style=\"text-align: right;\">\n",
       "      <th></th>\n",
       "      <th>% TOT ORD</th>\n",
       "      <th>% TOT GMV</th>\n",
       "      <th>GMV CUM</th>\n",
       "    </tr>\n",
       "    <tr>\n",
       "      <th>PINCODE</th>\n",
       "      <th></th>\n",
       "      <th></th>\n",
       "      <th></th>\n",
       "    </tr>\n",
       "  </thead>\n",
       "  <tbody>\n",
       "    <tr>\n",
       "      <th>400058.0</th>\n",
       "      <td>12.494</td>\n",
       "      <td>10.779218</td>\n",
       "      <td>10.779</td>\n",
       "    </tr>\n",
       "    <tr>\n",
       "      <th>400102.0</th>\n",
       "      <td>5.314</td>\n",
       "      <td>6.326479</td>\n",
       "      <td>17.106</td>\n",
       "    </tr>\n",
       "    <tr>\n",
       "      <th>400120.0</th>\n",
       "      <td>4.502</td>\n",
       "      <td>6.149943</td>\n",
       "      <td>23.256</td>\n",
       "    </tr>\n",
       "    <tr>\n",
       "      <th>400131.0</th>\n",
       "      <td>3.691</td>\n",
       "      <td>3.925229</td>\n",
       "      <td>27.181</td>\n",
       "    </tr>\n",
       "    <tr>\n",
       "      <th>400091.0</th>\n",
       "      <td>4.484</td>\n",
       "      <td>3.417046</td>\n",
       "      <td>30.598</td>\n",
       "    </tr>\n",
       "    <tr>\n",
       "      <th>400105.0</th>\n",
       "      <td>3.735</td>\n",
       "      <td>3.303433</td>\n",
       "      <td>33.901</td>\n",
       "    </tr>\n",
       "    <tr>\n",
       "      <th>400122.0</th>\n",
       "      <td>2.568</td>\n",
       "      <td>3.056640</td>\n",
       "      <td>36.958</td>\n",
       "    </tr>\n",
       "    <tr>\n",
       "      <th>400118.0</th>\n",
       "      <td>2.706</td>\n",
       "      <td>2.874353</td>\n",
       "      <td>39.832</td>\n",
       "    </tr>\n",
       "    <tr>\n",
       "      <th>400052.0</th>\n",
       "      <td>2.309</td>\n",
       "      <td>2.526614</td>\n",
       "      <td>42.359</td>\n",
       "    </tr>\n",
       "    <tr>\n",
       "      <th>400133.0</th>\n",
       "      <td>2.814</td>\n",
       "      <td>2.438351</td>\n",
       "      <td>44.797</td>\n",
       "    </tr>\n",
       "    <tr>\n",
       "      <th>400079.0</th>\n",
       "      <td>2.023</td>\n",
       "      <td>2.358115</td>\n",
       "      <td>47.155</td>\n",
       "    </tr>\n",
       "    <tr>\n",
       "      <th>400146.0</th>\n",
       "      <td>2.140</td>\n",
       "      <td>2.316777</td>\n",
       "      <td>49.472</td>\n",
       "    </tr>\n",
       "  </tbody>\n",
       "</table>\n",
       "</div>"
      ],
      "text/plain": [
       "          % TOT ORD  % TOT GMV  GMV CUM\n",
       "PINCODE                                \n",
       "400058.0     12.494  10.779218   10.779\n",
       "400102.0      5.314   6.326479   17.106\n",
       "400120.0      4.502   6.149943   23.256\n",
       "400131.0      3.691   3.925229   27.181\n",
       "400091.0      4.484   3.417046   30.598\n",
       "400105.0      3.735   3.303433   33.901\n",
       "400122.0      2.568   3.056640   36.958\n",
       "400118.0      2.706   2.874353   39.832\n",
       "400052.0      2.309   2.526614   42.359\n",
       "400133.0      2.814   2.438351   44.797\n",
       "400079.0      2.023   2.358115   47.155\n",
       "400146.0      2.140   2.316777   49.472"
      ]
     },
     "execution_count": 21,
     "metadata": {},
     "output_type": "execute_result"
    }
   ],
   "source": [
    "by_pin[by_pin['GMV CUM']<51].drop(['ORDERS','ITEM_GMV'],axis=1)"
   ]
  },
  {
   "cell_type": "code",
   "execution_count": 22,
   "id": "15ad320c",
   "metadata": {},
   "outputs": [
    {
     "data": {
      "text/plain": [
       "count    187677.000000\n",
       "mean     402068.247041\n",
       "std        5451.196738\n",
       "min      400049.000000\n",
       "25%      400080.000000\n",
       "50%      400118.000000\n",
       "75%      400144.000000\n",
       "max      421653.000000\n",
       "Name: PINCODE, dtype: float64"
      ]
     },
     "execution_count": 22,
     "metadata": {},
     "output_type": "execute_result"
    }
   ],
   "source": [
    "df['PINCODE'].describe()"
   ]
  },
  {
   "cell_type": "code",
   "execution_count": 23,
   "id": "52e903a5",
   "metadata": {},
   "outputs": [],
   "source": [
    "#post_data = pd.read_excel(\"ByteCrunchRound2_ISBAdvaita20221.xlsx\",sheet_name=1)\n",
    "#post_data.head()"
   ]
  },
  {
   "cell_type": "code",
   "execution_count": 24,
   "id": "65441d97",
   "metadata": {},
   "outputs": [],
   "source": [
    "#post_data.to_pickle(\"post-diwali-pickled\")\n",
    "#post_df = pd.read_pickle(\"post-diwali-pickled\")\n",
    "#post_df.head()"
   ]
  },
  {
   "cell_type": "markdown",
   "id": "03f9bbf8",
   "metadata": {},
   "source": [
    "## Category sales across dates"
   ]
  },
  {
   "cell_type": "code",
   "execution_count": 25,
   "id": "54277478",
   "metadata": {},
   "outputs": [],
   "source": [
    "# Calculating category wise GMV percentage for each row\n",
    "PCT_TOT_GMV = []\n",
    "\n",
    "Charger = df.groupby('CATEGORY').sum().loc['Charger']['ITEM_GMV']\n",
    "Mobiles = df.groupby('CATEGORY').sum().loc['Mobiles']['ITEM_GMV']\n",
    "Earphones = df.groupby('CATEGORY').sum().loc['Earphones']['ITEM_GMV']\n",
    "Laptops = df.groupby('CATEGORY').sum().loc['Laptops']['ITEM_GMV']\n",
    "Tablets = df.groupby('CATEGORY').sum().loc['Tablets']['ITEM_GMV']\n",
    "Speakers = df.groupby('CATEGORY').sum().loc['Speakers']['ITEM_GMV']\n",
    "TV = df.groupby('CATEGORY').sum().loc['TV']['ITEM_GMV']\n",
    "\n",
    "for i in range(df['ORDERS'].size):\n",
    "    val = 0\n",
    "    if df['CATEGORY'][i]=='Mobiles':\n",
    "        val=Mobiles\n",
    "    elif df['CATEGORY'][i]=='Earphones':\n",
    "        val=Earphones\n",
    "    elif df['CATEGORY'][i]=='Tablets':\n",
    "        val=Tablets\n",
    "    elif df['CATEGORY'][i]=='Speakers':\n",
    "        val=Speakers\n",
    "    elif df['CATEGORY'][i]=='Laptops':\n",
    "        val=Laptops\n",
    "    elif df['CATEGORY'][i]=='TV':\n",
    "        val=TV\n",
    "    else :\n",
    "        val=Charger        \n",
    "    PCT_TOT_GMV.append(val)\n",
    "\n",
    "# making a column for category wise GMV percentage\n",
    "df['% CAT GMV'] = np.round((df['ITEM_GMV']*100)/PCT_TOT_GMV,decimals=6)"
   ]
  },
  {
   "cell_type": "code",
   "execution_count": 26,
   "id": "925b7819",
   "metadata": {
    "scrolled": true
   },
   "outputs": [
    {
     "data": {
      "text/html": [
       "<div>\n",
       "<style scoped>\n",
       "    .dataframe tbody tr th:only-of-type {\n",
       "        vertical-align: middle;\n",
       "    }\n",
       "\n",
       "    .dataframe tbody tr th {\n",
       "        vertical-align: top;\n",
       "    }\n",
       "\n",
       "    .dataframe thead th {\n",
       "        text-align: right;\n",
       "    }\n",
       "</style>\n",
       "<table border=\"1\" class=\"dataframe\">\n",
       "  <thead>\n",
       "    <tr style=\"text-align: right;\">\n",
       "      <th></th>\n",
       "      <th></th>\n",
       "      <th>ITEM_GMV</th>\n",
       "      <th>% CAT GMV</th>\n",
       "    </tr>\n",
       "    <tr>\n",
       "      <th>CATEGORY</th>\n",
       "      <th>DATE</th>\n",
       "      <th></th>\n",
       "      <th></th>\n",
       "    </tr>\n",
       "  </thead>\n",
       "  <tbody>\n",
       "    <tr>\n",
       "      <th rowspan=\"8\" valign=\"top\">Charger</th>\n",
       "      <th>2019-10-10</th>\n",
       "      <td>9.107412e+05</td>\n",
       "      <td>12.725371</td>\n",
       "    </tr>\n",
       "    <tr>\n",
       "      <th>2019-10-11</th>\n",
       "      <td>9.048541e+05</td>\n",
       "      <td>12.643136</td>\n",
       "    </tr>\n",
       "    <tr>\n",
       "      <th>2019-10-12</th>\n",
       "      <td>1.082488e+06</td>\n",
       "      <td>15.125126</td>\n",
       "    </tr>\n",
       "    <tr>\n",
       "      <th>2019-10-13</th>\n",
       "      <td>1.174773e+06</td>\n",
       "      <td>16.414581</td>\n",
       "    </tr>\n",
       "    <tr>\n",
       "      <th>2019-10-14</th>\n",
       "      <td>6.830593e+05</td>\n",
       "      <td>9.544095</td>\n",
       "    </tr>\n",
       "    <tr>\n",
       "      <th>2019-10-15</th>\n",
       "      <td>7.702152e+05</td>\n",
       "      <td>10.761886</td>\n",
       "    </tr>\n",
       "    <tr>\n",
       "      <th>2019-10-16</th>\n",
       "      <td>7.965995e+05</td>\n",
       "      <td>11.130534</td>\n",
       "    </tr>\n",
       "    <tr>\n",
       "      <th>2019-10-17</th>\n",
       "      <td>8.341776e+05</td>\n",
       "      <td>11.655623</td>\n",
       "    </tr>\n",
       "    <tr>\n",
       "      <th rowspan=\"8\" valign=\"top\">Earphones</th>\n",
       "      <th>2019-10-10</th>\n",
       "      <td>1.176683e+07</td>\n",
       "      <td>10.679448</td>\n",
       "    </tr>\n",
       "    <tr>\n",
       "      <th>2019-10-11</th>\n",
       "      <td>1.168907e+07</td>\n",
       "      <td>10.608910</td>\n",
       "    </tr>\n",
       "    <tr>\n",
       "      <th>2019-10-12</th>\n",
       "      <td>1.349344e+07</td>\n",
       "      <td>12.246572</td>\n",
       "    </tr>\n",
       "    <tr>\n",
       "      <th>2019-10-13</th>\n",
       "      <td>1.562034e+07</td>\n",
       "      <td>14.176917</td>\n",
       "    </tr>\n",
       "    <tr>\n",
       "      <th>2019-10-14</th>\n",
       "      <td>1.017447e+07</td>\n",
       "      <td>9.234260</td>\n",
       "    </tr>\n",
       "    <tr>\n",
       "      <th>2019-10-15</th>\n",
       "      <td>1.174045e+07</td>\n",
       "      <td>10.655558</td>\n",
       "    </tr>\n",
       "    <tr>\n",
       "      <th>2019-10-16</th>\n",
       "      <td>1.379458e+07</td>\n",
       "      <td>12.519829</td>\n",
       "    </tr>\n",
       "    <tr>\n",
       "      <th>2019-10-17</th>\n",
       "      <td>2.190338e+07</td>\n",
       "      <td>19.879252</td>\n",
       "    </tr>\n",
       "    <tr>\n",
       "      <th rowspan=\"8\" valign=\"top\">Laptops</th>\n",
       "      <th>2019-10-10</th>\n",
       "      <td>1.204150e+06</td>\n",
       "      <td>10.134759</td>\n",
       "    </tr>\n",
       "    <tr>\n",
       "      <th>2019-10-11</th>\n",
       "      <td>1.083802e+06</td>\n",
       "      <td>9.121864</td>\n",
       "    </tr>\n",
       "    <tr>\n",
       "      <th>2019-10-12</th>\n",
       "      <td>1.374140e+06</td>\n",
       "      <td>11.565503</td>\n",
       "    </tr>\n",
       "    <tr>\n",
       "      <th>2019-10-13</th>\n",
       "      <td>1.675635e+06</td>\n",
       "      <td>14.103031</td>\n",
       "    </tr>\n",
       "    <tr>\n",
       "      <th>2019-10-14</th>\n",
       "      <td>1.044636e+06</td>\n",
       "      <td>8.792218</td>\n",
       "    </tr>\n",
       "    <tr>\n",
       "      <th>2019-10-15</th>\n",
       "      <td>1.273631e+06</td>\n",
       "      <td>10.719551</td>\n",
       "    </tr>\n",
       "    <tr>\n",
       "      <th>2019-10-16</th>\n",
       "      <td>1.932062e+06</td>\n",
       "      <td>16.261242</td>\n",
       "    </tr>\n",
       "    <tr>\n",
       "      <th>2019-10-17</th>\n",
       "      <td>2.293349e+06</td>\n",
       "      <td>19.302015</td>\n",
       "    </tr>\n",
       "    <tr>\n",
       "      <th rowspan=\"8\" valign=\"top\">Mobiles</th>\n",
       "      <th>2019-10-10</th>\n",
       "      <td>1.292563e+07</td>\n",
       "      <td>11.407812</td>\n",
       "    </tr>\n",
       "    <tr>\n",
       "      <th>2019-10-11</th>\n",
       "      <td>1.258531e+07</td>\n",
       "      <td>11.107511</td>\n",
       "    </tr>\n",
       "    <tr>\n",
       "      <th>2019-10-12</th>\n",
       "      <td>1.515492e+07</td>\n",
       "      <td>13.375379</td>\n",
       "    </tr>\n",
       "    <tr>\n",
       "      <th>2019-10-13</th>\n",
       "      <td>1.831849e+07</td>\n",
       "      <td>16.167354</td>\n",
       "    </tr>\n",
       "    <tr>\n",
       "      <th>2019-10-14</th>\n",
       "      <td>1.164732e+07</td>\n",
       "      <td>10.279580</td>\n",
       "    </tr>\n",
       "    <tr>\n",
       "      <th>2019-10-15</th>\n",
       "      <td>1.301431e+07</td>\n",
       "      <td>11.486067</td>\n",
       "    </tr>\n",
       "    <tr>\n",
       "      <th>2019-10-16</th>\n",
       "      <td>1.369202e+07</td>\n",
       "      <td>12.084135</td>\n",
       "    </tr>\n",
       "    <tr>\n",
       "      <th>2019-10-17</th>\n",
       "      <td>1.597325e+07</td>\n",
       "      <td>14.097489</td>\n",
       "    </tr>\n",
       "    <tr>\n",
       "      <th rowspan=\"8\" valign=\"top\">Speakers</th>\n",
       "      <th>2019-10-10</th>\n",
       "      <td>1.477639e+06</td>\n",
       "      <td>11.146188</td>\n",
       "    </tr>\n",
       "    <tr>\n",
       "      <th>2019-10-11</th>\n",
       "      <td>1.536631e+06</td>\n",
       "      <td>11.591148</td>\n",
       "    </tr>\n",
       "    <tr>\n",
       "      <th>2019-10-12</th>\n",
       "      <td>1.756769e+06</td>\n",
       "      <td>13.251720</td>\n",
       "    </tr>\n",
       "    <tr>\n",
       "      <th>2019-10-13</th>\n",
       "      <td>2.014927e+06</td>\n",
       "      <td>15.199073</td>\n",
       "    </tr>\n",
       "    <tr>\n",
       "      <th>2019-10-14</th>\n",
       "      <td>1.265449e+06</td>\n",
       "      <td>9.545578</td>\n",
       "    </tr>\n",
       "    <tr>\n",
       "      <th>2019-10-15</th>\n",
       "      <td>1.390565e+06</td>\n",
       "      <td>10.489373</td>\n",
       "    </tr>\n",
       "    <tr>\n",
       "      <th>2019-10-16</th>\n",
       "      <td>1.450024e+06</td>\n",
       "      <td>10.937877</td>\n",
       "    </tr>\n",
       "    <tr>\n",
       "      <th>2019-10-17</th>\n",
       "      <td>2.364892e+06</td>\n",
       "      <td>17.838951</td>\n",
       "    </tr>\n",
       "    <tr>\n",
       "      <th rowspan=\"8\" valign=\"top\">TV</th>\n",
       "      <th>2019-10-10</th>\n",
       "      <td>9.782515e+05</td>\n",
       "      <td>11.740119</td>\n",
       "    </tr>\n",
       "    <tr>\n",
       "      <th>2019-10-11</th>\n",
       "      <td>9.025844e+05</td>\n",
       "      <td>10.832021</td>\n",
       "    </tr>\n",
       "    <tr>\n",
       "      <th>2019-10-12</th>\n",
       "      <td>1.042263e+06</td>\n",
       "      <td>12.508312</td>\n",
       "    </tr>\n",
       "    <tr>\n",
       "      <th>2019-10-13</th>\n",
       "      <td>1.188501e+06</td>\n",
       "      <td>14.263339</td>\n",
       "    </tr>\n",
       "    <tr>\n",
       "      <th>2019-10-14</th>\n",
       "      <td>8.358717e+05</td>\n",
       "      <td>10.031385</td>\n",
       "    </tr>\n",
       "    <tr>\n",
       "      <th>2019-10-15</th>\n",
       "      <td>9.099442e+05</td>\n",
       "      <td>10.920358</td>\n",
       "    </tr>\n",
       "    <tr>\n",
       "      <th>2019-10-16</th>\n",
       "      <td>1.084883e+06</td>\n",
       "      <td>13.019811</td>\n",
       "    </tr>\n",
       "    <tr>\n",
       "      <th>2019-10-17</th>\n",
       "      <td>1.390254e+06</td>\n",
       "      <td>16.684600</td>\n",
       "    </tr>\n",
       "    <tr>\n",
       "      <th rowspan=\"8\" valign=\"top\">Tablets</th>\n",
       "      <th>2019-10-10</th>\n",
       "      <td>5.440602e+06</td>\n",
       "      <td>12.035676</td>\n",
       "    </tr>\n",
       "    <tr>\n",
       "      <th>2019-10-11</th>\n",
       "      <td>4.831256e+06</td>\n",
       "      <td>10.687704</td>\n",
       "    </tr>\n",
       "    <tr>\n",
       "      <th>2019-10-12</th>\n",
       "      <td>6.070637e+06</td>\n",
       "      <td>13.429451</td>\n",
       "    </tr>\n",
       "    <tr>\n",
       "      <th>2019-10-13</th>\n",
       "      <td>7.445625e+06</td>\n",
       "      <td>16.471218</td>\n",
       "    </tr>\n",
       "    <tr>\n",
       "      <th>2019-10-14</th>\n",
       "      <td>4.707940e+06</td>\n",
       "      <td>10.414915</td>\n",
       "    </tr>\n",
       "    <tr>\n",
       "      <th>2019-10-15</th>\n",
       "      <td>5.232598e+06</td>\n",
       "      <td>11.575530</td>\n",
       "    </tr>\n",
       "    <tr>\n",
       "      <th>2019-10-16</th>\n",
       "      <td>5.204943e+06</td>\n",
       "      <td>11.514379</td>\n",
       "    </tr>\n",
       "    <tr>\n",
       "      <th>2019-10-17</th>\n",
       "      <td>6.270275e+06</td>\n",
       "      <td>13.871084</td>\n",
       "    </tr>\n",
       "  </tbody>\n",
       "</table>\n",
       "</div>"
      ],
      "text/plain": [
       "                          ITEM_GMV  % CAT GMV\n",
       "CATEGORY  DATE                               \n",
       "Charger   2019-10-10  9.107412e+05  12.725371\n",
       "          2019-10-11  9.048541e+05  12.643136\n",
       "          2019-10-12  1.082488e+06  15.125126\n",
       "          2019-10-13  1.174773e+06  16.414581\n",
       "          2019-10-14  6.830593e+05   9.544095\n",
       "          2019-10-15  7.702152e+05  10.761886\n",
       "          2019-10-16  7.965995e+05  11.130534\n",
       "          2019-10-17  8.341776e+05  11.655623\n",
       "Earphones 2019-10-10  1.176683e+07  10.679448\n",
       "          2019-10-11  1.168907e+07  10.608910\n",
       "          2019-10-12  1.349344e+07  12.246572\n",
       "          2019-10-13  1.562034e+07  14.176917\n",
       "          2019-10-14  1.017447e+07   9.234260\n",
       "          2019-10-15  1.174045e+07  10.655558\n",
       "          2019-10-16  1.379458e+07  12.519829\n",
       "          2019-10-17  2.190338e+07  19.879252\n",
       "Laptops   2019-10-10  1.204150e+06  10.134759\n",
       "          2019-10-11  1.083802e+06   9.121864\n",
       "          2019-10-12  1.374140e+06  11.565503\n",
       "          2019-10-13  1.675635e+06  14.103031\n",
       "          2019-10-14  1.044636e+06   8.792218\n",
       "          2019-10-15  1.273631e+06  10.719551\n",
       "          2019-10-16  1.932062e+06  16.261242\n",
       "          2019-10-17  2.293349e+06  19.302015\n",
       "Mobiles   2019-10-10  1.292563e+07  11.407812\n",
       "          2019-10-11  1.258531e+07  11.107511\n",
       "          2019-10-12  1.515492e+07  13.375379\n",
       "          2019-10-13  1.831849e+07  16.167354\n",
       "          2019-10-14  1.164732e+07  10.279580\n",
       "          2019-10-15  1.301431e+07  11.486067\n",
       "          2019-10-16  1.369202e+07  12.084135\n",
       "          2019-10-17  1.597325e+07  14.097489\n",
       "Speakers  2019-10-10  1.477639e+06  11.146188\n",
       "          2019-10-11  1.536631e+06  11.591148\n",
       "          2019-10-12  1.756769e+06  13.251720\n",
       "          2019-10-13  2.014927e+06  15.199073\n",
       "          2019-10-14  1.265449e+06   9.545578\n",
       "          2019-10-15  1.390565e+06  10.489373\n",
       "          2019-10-16  1.450024e+06  10.937877\n",
       "          2019-10-17  2.364892e+06  17.838951\n",
       "TV        2019-10-10  9.782515e+05  11.740119\n",
       "          2019-10-11  9.025844e+05  10.832021\n",
       "          2019-10-12  1.042263e+06  12.508312\n",
       "          2019-10-13  1.188501e+06  14.263339\n",
       "          2019-10-14  8.358717e+05  10.031385\n",
       "          2019-10-15  9.099442e+05  10.920358\n",
       "          2019-10-16  1.084883e+06  13.019811\n",
       "          2019-10-17  1.390254e+06  16.684600\n",
       "Tablets   2019-10-10  5.440602e+06  12.035676\n",
       "          2019-10-11  4.831256e+06  10.687704\n",
       "          2019-10-12  6.070637e+06  13.429451\n",
       "          2019-10-13  7.445625e+06  16.471218\n",
       "          2019-10-14  4.707940e+06  10.414915\n",
       "          2019-10-15  5.232598e+06  11.575530\n",
       "          2019-10-16  5.204943e+06  11.514379\n",
       "          2019-10-17  6.270275e+06  13.871084"
      ]
     },
     "execution_count": 26,
     "metadata": {},
     "output_type": "execute_result"
    }
   ],
   "source": [
    "by_cat_date = df.groupby(['CATEGORY','DATE']).sum()[['ITEM_GMV','% CAT GMV']]\n",
    "by_cat_date"
   ]
  },
  {
   "cell_type": "code",
   "execution_count": 50,
   "id": "96fa7e53",
   "metadata": {},
   "outputs": [],
   "source": [
    "by_cat_date.to_excel(\"./output/preDiwa-grouped by category & date.xlsx\")"
   ]
  },
  {
   "cell_type": "code",
   "execution_count": 27,
   "id": "aac6ebdc",
   "metadata": {},
   "outputs": [
    {
     "data": {
      "text/plain": [
       "Text(0, 0.5, 'GMV (in Crores)')"
      ]
     },
     "execution_count": 27,
     "metadata": {},
     "output_type": "execute_result"
    },
    {
     "data": {
      "image/png": "[encoded data removed]",
      "text/plain": [
       "<Figure size 1000x600 with 1 Axes>"
      ]
     },
     "metadata": {},
     "output_type": "display_data"
    }
   ],
   "source": [
    "ear = by_cat_date.loc[(slice('Earphones'))][8:16]\n",
    "ear_gmv_datewise = []\n",
    "for i in range(8):\n",
    "    ear_gmv_datewise.append((ear['ITEM_GMV']/10000000)[i])\n",
    "\n",
    "plt.figure(figsize=(10,6))\n",
    "ax = sns.barplot(x=dates,y=ear_gmv_datewise)\n",
    "ax.set_title('Pre Diwali - Earphone Sales')\n",
    "ax.set_xlabel('Dates')\n",
    "ax.set_ylabel('GMV (in Crores)')"
   ]
  },
  {
   "cell_type": "code",
   "execution_count": 28,
   "id": "e25aeb1f",
   "metadata": {},
   "outputs": [
    {
     "data": {
      "text/plain": [
       "Text(0, 0.5, 'GMV (in Crores)')"
      ]
     },
     "execution_count": 28,
     "metadata": {},
     "output_type": "execute_result"
    },
    {
     "data": {
      "image/png": "[encoded data removed]",
      "text/plain": [
       "<Figure size 1000x600 with 1 Axes>"
      ]
     },
     "metadata": {},
     "output_type": "display_data"
    }
   ],
   "source": [
    "phone = by_cat_date.loc[(slice('Mobiles'))][24:32]\n",
    "phone_gmv_datewise = []\n",
    "for i in range(8):\n",
    "    phone_gmv_datewise.append((phone['ITEM_GMV']/10000000)[i])\n",
    "\n",
    "plt.figure(figsize=(10,6))\n",
    "ax = sns.barplot(x=dates,y=phone_gmv_datewise)\n",
    "ax.set_title('Pre Diwali - Mobile Sales')\n",
    "ax.set_xlabel('Dates')\n",
    "ax.set_ylabel('GMV (in Crores)')"
   ]
  },
  {
   "cell_type": "code",
   "execution_count": 29,
   "id": "c1368b06",
   "metadata": {},
   "outputs": [
    {
     "data": {
      "text/plain": [
       "Text(0, 0.5, 'GMV (in Crores)')"
      ]
     },
     "execution_count": 29,
     "metadata": {},
     "output_type": "execute_result"
    },
    {
     "data": {
      "image/png": "[encoded data removed]",
      "text/plain": [
       "<Figure size 1000x600 with 1 Axes>"
      ]
     },
     "metadata": {},
     "output_type": "display_data"
    }
   ],
   "source": [
    "plt.figure(figsize=(10,6))\n",
    "ax = sns.barplot(x=dates,y=by_cat_date.tail(8)['ITEM_GMV']/10000000)\n",
    "ax.set_title('Pre Diwali - Tablet Sales')\n",
    "ax.set_xlabel('Dates')\n",
    "ax.set_ylabel('GMV (in Crores)')"
   ]
  },
  {
   "cell_type": "code",
   "execution_count": 30,
   "id": "2dec5a72",
   "metadata": {},
   "outputs": [],
   "source": [
    "qt_or = df[['QTY','ORDERS']]"
   ]
  },
  {
   "cell_type": "code",
   "execution_count": 31,
   "id": "97a3edc9",
   "metadata": {},
   "outputs": [
    {
     "name": "stderr",
     "output_type": "stream",
     "text": [
      "/var/folders/s4/rbw51hr572v983ntn5czj87h0000gn/T/ipykernel_40964/262303439.py:1: SettingWithCopyWarning: \n",
      "A value is trying to be set on a copy of a slice from a DataFrame.\n",
      "Try using .loc[row_indexer,col_indexer] = value instead\n",
      "\n",
      "See the caveats in the documentation: https://pandas.pydata.org/pandas-docs/stable/user_guide/indexing.html#returning-a-view-versus-a-copy\n",
      "  qt_or['qty/order'] = qt_or['QTY']/qt_or['ORDERS']\n"
     ]
    },
    {
     "data": {
      "text/plain": [
       "1.9439685613581794"
      ]
     },
     "execution_count": 31,
     "metadata": {},
     "output_type": "execute_result"
    }
   ],
   "source": [
    "qt_or['qty/order'] = qt_or['QTY']/qt_or['ORDERS']\n",
    "qt_or['qty/order'].mean()"
   ]
  },
  {
   "cell_type": "code",
   "execution_count": 32,
   "id": "9f9b5526",
   "metadata": {},
   "outputs": [
    {
     "data": {
      "text/plain": [
       "count     53892.000000\n",
       "mean       2044.506782\n",
       "std        2980.305514\n",
       "min          50.000000\n",
       "25%         750.000000\n",
       "50%        1300.000000\n",
       "75%        2300.000000\n",
       "max      110700.000000\n",
       "Name: ITEM_GMV, dtype: float64"
      ]
     },
     "execution_count": 32,
     "metadata": {},
     "output_type": "execute_result"
    }
   ],
   "source": [
    "df[df['CATEGORY']=='Earphones']['ITEM_GMV'].describe()"
   ]
  },
  {
   "cell_type": "code",
   "execution_count": 33,
   "id": "588005ac",
   "metadata": {},
   "outputs": [
    {
     "data": {
      "text/plain": [
       "<AxesSubplot:xlabel='ITEM_GMV', ylabel='Count'>"
      ]
     },
     "execution_count": 33,
     "metadata": {},
     "output_type": "execute_result"
    },
    {
     "data": {
      "image/png": "[encoded data removed]",
      "text/plain": [
       "<Figure size 640x480 with 1 Axes>"
      ]
     },
     "metadata": {},
     "output_type": "display_data"
    }
   ],
   "source": [
    "sns.histplot(df[(df['CATEGORY']=='Earphones') & (df['ITEM_GMV']<10000)]['ITEM_GMV'])"
   ]
  },
  {
   "cell_type": "code",
   "execution_count": 34,
   "id": "efdd032f",
   "metadata": {},
   "outputs": [
    {
     "data": {
      "text/plain": [
       "<AxesSubplot:ylabel='ITEM_GMV'>"
      ]
     },
     "execution_count": 34,
     "metadata": {},
     "output_type": "execute_result"
    },
    {
     "data": {
      "image/png": "[encoded data removed]",
      "text/plain": [
       "<Figure size 640x480 with 1 Axes>"
      ]
     },
     "metadata": {},
     "output_type": "display_data"
    }
   ],
   "source": [
    "sns.boxplot(y=df[(df['CATEGORY']=='Earphones') & (df['ITEM_GMV']<20000)]['ITEM_GMV'])"
   ]
  },
  {
   "cell_type": "code",
   "execution_count": 35,
   "id": "39d9c2e8",
   "metadata": {},
   "outputs": [
    {
     "data": {
      "text/plain": [
       "DATE             875\n",
       "SHOP_ID          875\n",
       "PINCODE          875\n",
       "SHOP             875\n",
       "ITEM_ID          875\n",
       "HR of the day    875\n",
       "ORDERS           875\n",
       "QTY              875\n",
       "ITEM_GMV         875\n",
       "CATEGORY         875\n",
       "% CAT GMV        875\n",
       "dtype: int64"
      ]
     },
     "execution_count": 35,
     "metadata": {},
     "output_type": "execute_result"
    }
   ],
   "source": [
    "df[(df['CATEGORY']=='Earphones') & (df['ITEM_GMV']>10000)].count()"
   ]
  },
  {
   "cell_type": "code",
   "execution_count": 36,
   "id": "f8f747e8",
   "metadata": {},
   "outputs": [
    {
     "data": {
      "text/plain": [
       "<AxesSubplot:xlabel='ITEM_GMV', ylabel='Count'>"
      ]
     },
     "execution_count": 36,
     "metadata": {},
     "output_type": "execute_result"
    },
    {
     "data": {
      "image/png": "[encoded data removed]",
      "text/plain": [
       "<Figure size 640x480 with 1 Axes>"
      ]
     },
     "metadata": {},
     "output_type": "display_data"
    }
   ],
   "source": [
    "sns.histplot(df[(df['CATEGORY']=='Mobiles') & (df['ITEM_GMV']<50000)]['ITEM_GMV'])"
   ]
  },
  {
   "cell_type": "code",
   "execution_count": 46,
   "id": "21eea1be",
   "metadata": {},
   "outputs": [
    {
     "data": {
      "text/plain": [
       "<AxesSubplot:ylabel='ITEM_GMV'>"
      ]
     },
     "execution_count": 46,
     "metadata": {},
     "output_type": "execute_result"
    },
    {
     "data": {
      "image/png": "[encoded data removed]",
      "text/plain": [
       "<Figure size 640x480 with 1 Axes>"
      ]
     },
     "metadata": {},
     "output_type": "display_data"
    }
   ],
   "source": [
    "sns.boxplot(y=df[(df['CATEGORY']=='Mobiles') & (df['ITEM_GMV']<5000)]['ITEM_GMV'])"
   ]
  },
  {
   "cell_type": "code",
   "execution_count": 37,
   "id": "58190e3c",
   "metadata": {},
   "outputs": [
    {
     "data": {
      "text/plain": [
       "<AxesSubplot:xlabel='ITEM_GMV', ylabel='Count'>"
      ]
     },
     "execution_count": 37,
     "metadata": {},
     "output_type": "execute_result"
    },
    {
     "data": {
      "image/png": "[encoded data removed]",
      "text/plain": [
       "<Figure size 640x480 with 1 Axes>"
      ]
     },
     "metadata": {},
     "output_type": "display_data"
    }
   ],
   "source": [
    "sns.histplot(df[(df['CATEGORY']=='Mobiles') & (df['ITEM_GMV']<10000)]['ITEM_GMV'])"
   ]
  },
  {
   "cell_type": "code",
   "execution_count": 49,
   "id": "d58e5e0b",
   "metadata": {},
   "outputs": [
    {
     "data": {
      "text/plain": [
       "<AxesSubplot:xlabel='ITEM_GMV', ylabel='Count'>"
      ]
     },
     "execution_count": 49,
     "metadata": {},
     "output_type": "execute_result"
    },
    {
     "data": {
      "image/png": "[encoded data removed]",
      "text/plain": [
       "<Figure size 640x480 with 1 Axes>"
      ]
     },
     "metadata": {},
     "output_type": "display_data"
    }
   ],
   "source": [
    "sns.histplot(df[(df['CATEGORY']=='Speakers') & (df['ITEM_GMV']<20000)]['ITEM_GMV'])"
   ]
  },
  {
   "cell_type": "code",
   "execution_count": 38,
   "id": "53d49914",
   "metadata": {},
   "outputs": [
    {
     "data": {
      "text/plain": [
       "count    83759.000000\n",
       "mean      1352.824792\n",
       "std       1486.692881\n",
       "min         50.000000\n",
       "25%        550.000000\n",
       "50%        973.200000\n",
       "75%       1600.000000\n",
       "max      53550.000000\n",
       "Name: ITEM_GMV, dtype: float64"
      ]
     },
     "execution_count": 38,
     "metadata": {},
     "output_type": "execute_result"
    }
   ],
   "source": [
    "df[(df['CATEGORY']=='Mobiles')]['ITEM_GMV'].describe()"
   ]
  },
  {
   "cell_type": "code",
   "execution_count": 39,
   "id": "5f9bce59",
   "metadata": {},
   "outputs": [
    {
     "data": {
      "text/plain": [
       "DATE             2031\n",
       "SHOP_ID          2031\n",
       "PINCODE          2031\n",
       "SHOP             2031\n",
       "ITEM_ID          2031\n",
       "HR of the day    2031\n",
       "ORDERS           2031\n",
       "QTY              2031\n",
       "ITEM_GMV         2031\n",
       "CATEGORY         2031\n",
       "% CAT GMV        2031\n",
       "dtype: int64"
      ]
     },
     "execution_count": 39,
     "metadata": {},
     "output_type": "execute_result"
    }
   ],
   "source": [
    "df[(df['CATEGORY']=='Mobiles') & (df['ITEM_GMV']>5000)].count()"
   ]
  },
  {
   "cell_type": "code",
   "execution_count": 40,
   "id": "d3b1cfdb",
   "metadata": {},
   "outputs": [
    {
     "data": {
      "text/plain": [
       "count    27400.000000\n",
       "mean      1649.776409\n",
       "std       2064.484583\n",
       "min         50.000000\n",
       "25%        700.000000\n",
       "50%       1200.000000\n",
       "75%       1904.800000\n",
       "max      57600.000000\n",
       "Name: ITEM_GMV, dtype: float64"
      ]
     },
     "execution_count": 40,
     "metadata": {},
     "output_type": "execute_result"
    }
   ],
   "source": [
    "df[(df['CATEGORY']=='Tablets')]['ITEM_GMV'].describe()"
   ]
  },
  {
   "cell_type": "code",
   "execution_count": 41,
   "id": "44b959f7",
   "metadata": {},
   "outputs": [
    {
     "data": {
      "text/plain": [
       "<AxesSubplot:xlabel='ITEM_GMV', ylabel='Count'>"
      ]
     },
     "execution_count": 41,
     "metadata": {},
     "output_type": "execute_result"
    },
    {
     "data": {
      "image/png": "[encoded data removed]",
      "text/plain": [
       "<Figure size 640x480 with 1 Axes>"
      ]
     },
     "metadata": {},
     "output_type": "display_data"
    }
   ],
   "source": [
    "sns.histplot(data=df,x=df[(df['ITEM_GMV']<10000) & \n",
    "                          ((df['CATEGORY'] == 'Mobiles') | (df['CATEGORY']=='Earphones'))]\n",
    "             ['ITEM_GMV'],hue=df['CATEGORY'])"
   ]
  },
  {
   "cell_type": "code",
   "execution_count": 42,
   "id": "6234ad45",
   "metadata": {},
   "outputs": [
    {
     "data": {
      "text/html": [
       "<div>\n",
       "<style scoped>\n",
       "    .dataframe tbody tr th:only-of-type {\n",
       "        vertical-align: middle;\n",
       "    }\n",
       "\n",
       "    .dataframe tbody tr th {\n",
       "        vertical-align: top;\n",
       "    }\n",
       "\n",
       "    .dataframe thead th {\n",
       "        text-align: right;\n",
       "    }\n",
       "</style>\n",
       "<table border=\"1\" class=\"dataframe\">\n",
       "  <thead>\n",
       "    <tr style=\"text-align: right;\">\n",
       "      <th></th>\n",
       "      <th>Category</th>\n",
       "      <th>Value</th>\n",
       "    </tr>\n",
       "  </thead>\n",
       "  <tbody>\n",
       "    <tr>\n",
       "      <th>0</th>\n",
       "      <td>Earphones BD</td>\n",
       "      <td>875</td>\n",
       "    </tr>\n",
       "    <tr>\n",
       "      <th>1</th>\n",
       "      <td>Mobiles BD</td>\n",
       "      <td>2031</td>\n",
       "    </tr>\n",
       "    <tr>\n",
       "      <th>2</th>\n",
       "      <td>Earphones AD</td>\n",
       "      <td>3104</td>\n",
       "    </tr>\n",
       "    <tr>\n",
       "      <th>3</th>\n",
       "      <td>Mobiles AD</td>\n",
       "      <td>4082</td>\n",
       "    </tr>\n",
       "  </tbody>\n",
       "</table>\n",
       "</div>"
      ],
      "text/plain": [
       "       Category  Value\n",
       "0  Earphones BD    875\n",
       "1    Mobiles BD   2031\n",
       "2  Earphones AD   3104\n",
       "3    Mobiles AD   4082"
      ]
     },
     "execution_count": 42,
     "metadata": {},
     "output_type": "execute_result"
    }
   ],
   "source": [
    "sales = {'Category':['Earphones BD','Mobiles BD','Earphones AD','Mobiles AD'],\n",
    "         'Value':[875,2031,3104,4082]}\n",
    "\n",
    "compDf = pd.DataFrame.from_dict(sales)\n",
    "compDf"
   ]
  },
  {
   "cell_type": "code",
   "execution_count": 43,
   "id": "ad0a0deb",
   "metadata": {},
   "outputs": [
    {
     "data": {
      "image/png": "[encoded data removed]",
      "text/plain": [
       "<Figure size 1000x600 with 1 Axes>"
      ]
     },
     "metadata": {},
     "output_type": "display_data"
    }
   ],
   "source": [
    "plt.figure(figsize=(10,6))\n",
    "ax = sns.barplot(y='Value',x='Category',data=compDf)\n",
    "ax.bar_label(ax.containers[0])\n",
    "plt.title(\"Higher-end orders: Before & After Diwali\")\n",
    "plt.ylabel('Order Count')\n",
    "plt.xlabel('Before Diwali --> After Diwali')\n",
    "plt.show()"
   ]
  },
  {
   "cell_type": "code",
   "execution_count": null,
   "id": "510d6a72",
   "metadata": {},
   "outputs": [],
   "source": []
  }
 ],
 "metadata": {
  "kernelspec": {
   "display_name": "Python 3.10.6 64-bit",
   "language": "python",
   "name": "python3"
  },
  "language_info": {
   "codemirror_mode": {
    "name": "ipython",
    "version": 3
   },
   "file_extension": ".py",
   "mimetype": "text/x-python",
   "name": "python",
   "nbconvert_exporter": "python",
   "pygments_lexer": "ipython3",
   "version": "3.10.6"
  },
  "vscode": {
   "interpreter": {
    "hash": "aee8b7b246df8f9039afb4144a1f6fd8d2ca17a180786b69acc140d282b71a49"
   }
  }
 },
 "nbformat": 4,
 "nbformat_minor": 5
}
