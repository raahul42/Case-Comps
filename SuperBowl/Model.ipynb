{
 "cells": [
  {
   "cell_type": "code",
   "execution_count": 2,
   "metadata": {},
   "outputs": [],
   "source": [
    "import pandas as pd\n",
    "import numpy as np\n",
    "\n",
    "from sklearn.model_selection import train_test_split\n",
    "from sklearn.metrics import classification_report, confusion_matrix\n",
    "\n",
    "from sklearn.ensemble import RandomForestClassifier\n",
    "from xgboost import XGBClassifier\n",
    "from keras.models import Sequential\n",
    "from keras.layers import Dense, Embedding, LSTM, GRU\n",
    "from imblearn.ensemble import EasyEnsembleClassifier\n",
    "\n",
    "from imblearn.over_sampling import SMOTE\n",
    "from sklearn.utils import class_weight"
   ]
  },
  {
   "cell_type": "code",
   "execution_count": 4,
   "metadata": {},
   "outputs": [
    {
     "name": "stdout",
     "output_type": "stream",
     "text": [
      "<class 'pandas.core.frame.DataFrame'>\n",
      "RangeIndex: 390891 entries, 0 to 390890\n",
      "Columns: 150 entries, B_37 to Default_Flag\n",
      "dtypes: category(4), float32(145), int64(1)\n",
      "memory usage: 220.7 MB\n"
     ]
    }
   ],
   "source": [
    "data = pd.read_feather('./output/full_df_labelled')\n",
    "data.info()"
   ]
  },
  {
   "cell_type": "code",
   "execution_count": 5,
   "metadata": {},
   "outputs": [
    {
     "name": "stdout",
     "output_type": "stream",
     "text": [
      "D_36 ['CO', 'CL', 'CR', 'XM', 'XZ', 'XL']\n",
      "Categories (6, object): ['CL', 'CO', 'CR', 'XL', 'XM', 'XZ']\n",
      "D_44 ['O', 'R', 'U']\n",
      "Categories (3, object): ['O', 'R', 'U']\n",
      "B_41 [1, 0]\n",
      "Categories (2, int64): [0, 1]\n",
      "D_130 [1, 0]\n",
      "Categories (2, int64): [0, 1]\n"
     ]
    }
   ],
   "source": [
    "for col in data.select_dtypes('category'):\n",
    "    print(col, data[col].unique())"
   ]
  },
  {
   "cell_type": "code",
   "execution_count": 6,
   "metadata": {},
   "outputs": [],
   "source": [
    "cat_columns = ['D_36','D_44']\n",
    "\n",
    "data_encoded = pd.get_dummies(data,columns=cat_columns,drop_first=True)"
   ]
  },
  {
   "cell_type": "code",
   "execution_count": 7,
   "metadata": {},
   "outputs": [],
   "source": [
    "data_encoded = data_encoded.astype({col: 'uint8' for col in data_encoded.select_dtypes('category').columns})"
   ]
  },
  {
   "cell_type": "code",
   "execution_count": 8,
   "metadata": {},
   "outputs": [
    {
     "name": "stdout",
     "output_type": "stream",
     "text": [
      "<class 'pandas.core.frame.DataFrame'>\n",
      "RangeIndex: 390891 entries, 0 to 390890\n",
      "Columns: 155 entries, B_37 to D_44_U\n",
      "dtypes: float32(145), int64(1), uint8(9)\n",
      "memory usage: 222.6 MB\n"
     ]
    }
   ],
   "source": [
    "data_encoded.info()"
   ]
  },
  {
   "cell_type": "code",
   "execution_count": 66,
   "metadata": {},
   "outputs": [],
   "source": [
    "# data_encoded.head()"
   ]
  },
  {
   "cell_type": "code",
   "execution_count": 9,
   "metadata": {},
   "outputs": [],
   "source": [
    "X = data_encoded.drop('Default_Flag',axis=1)\n",
    "y = data_encoded['Default_Flag']\n",
    "\n",
    "X_train, X_test, y_train, y_test = train_test_split(X, y, test_size=0.25, random_state=42)"
   ]
  },
  {
   "cell_type": "markdown",
   "metadata": {},
   "source": [
    "### Random Forest"
   ]
  },
  {
   "cell_type": "code",
   "execution_count": 22,
   "metadata": {},
   "outputs": [
    {
     "name": "stdout",
     "output_type": "stream",
     "text": [
      "              precision    recall  f1-score   support\n",
      "\n",
      "           0       0.85      0.98      0.91     72686\n",
      "           1       0.71      0.53      0.61      7144\n",
      "           2       0.43      0.37      0.39      9786\n",
      "           3       0.33      0.01      0.01      8107\n",
      "\n",
      "    accuracy                           0.81     97723\n",
      "   macro avg       0.58      0.47      0.48     97723\n",
      "weighted avg       0.76      0.81      0.76     97723\n",
      "\n",
      "[[71291   224  1136    35]\n",
      " [ 1740  3808  1576    20]\n",
      " [ 5173   942  3605    66]\n",
      " [ 5531   364  2152    60]]\n"
     ]
    }
   ],
   "source": [
    "rf = RandomForestClassifier(random_state=42,class_weight=\"balanced\",n_jobs=-1,bootstrap=True)\n",
    "\n",
    "rf.fit(X_train,y_train)\n",
    "rf_preds = rf.predict(X_test)\n",
    "\n",
    "print(classification_report(y_test, rf_preds))\n",
    "print(confusion_matrix(y_test, rf_preds))"
   ]
  },
  {
   "cell_type": "markdown",
   "metadata": {},
   "source": [
    "### Easy Ensemble Classifier"
   ]
  },
  {
   "cell_type": "code",
   "execution_count": 10,
   "metadata": {},
   "outputs": [
    {
     "name": "stdout",
     "output_type": "stream",
     "text": [
      "              precision    recall  f1-score   support\n",
      "\n",
      "           0       0.94      0.92      0.93     72686\n",
      "           1       0.61      0.60      0.61      7144\n",
      "           2       0.41      0.40      0.40      9786\n",
      "           3       0.28      0.35      0.31      8107\n",
      "\n",
      "    accuracy                           0.79     97723\n",
      "   macro avg       0.56      0.57      0.56     97723\n",
      "weighted avg       0.81      0.79      0.80     97723\n",
      "\n",
      "[[66569   602  1605  3910]\n",
      " [  550  4305  1538   751]\n",
      " [ 1652  1456  3879  2799]\n",
      " [ 2230   637  2370  2870]]\n"
     ]
    }
   ],
   "source": [
    "ee = EasyEnsembleClassifier(random_state=42,sampling_strategy={0:30000,1:10000,2:10000,3:10000})\n",
    "\n",
    "ee.fit(X_train,y_train)\n",
    "ee_preds = ee.predict(X_test)\n",
    "\n",
    "print(classification_report(y_test, ee_preds))\n",
    "print(confusion_matrix(y_test, ee_preds))"
   ]
  },
  {
   "cell_type": "markdown",
   "metadata": {},
   "source": [
    "### XGBoost"
   ]
  },
  {
   "cell_type": "code",
   "execution_count": 23,
   "metadata": {},
   "outputs": [
    {
     "name": "stdout",
     "output_type": "stream",
     "text": [
      "              precision    recall  f1-score   support\n",
      "\n",
      "           0       0.90      0.96      0.93     72686\n",
      "           1       0.72      0.55      0.62      7144\n",
      "           2       0.41      0.51      0.46      9786\n",
      "           3       0.34      0.09      0.14      8107\n",
      "\n",
      "    accuracy                           0.82     97723\n",
      "   macro avg       0.59      0.53      0.54     97723\n",
      "weighted avg       0.79      0.82      0.79     97723\n",
      "\n",
      "[[70057   277  1818   534]\n",
      " [  970  3943  2054   177]\n",
      " [ 3158   928  5003   697]\n",
      " [ 3817   348  3228   714]]\n"
     ]
    }
   ],
   "source": [
    "xgb = XGBClassifier(random_state=42,n_estimators=200,subsample=0.5,learning_rate=0.1)\n",
    "\n",
    "xgb.fit(X_train,y_train)\n",
    "xgb_preds = xgb.predict(X_test)\n",
    "\n",
    "print(classification_report(y_test, xgb_preds))\n",
    "print(confusion_matrix(y_test, xgb_preds))"
   ]
  },
  {
   "cell_type": "code",
   "execution_count": 25,
   "metadata": {},
   "outputs": [],
   "source": [
    "test = pd.read_feather('./output/val_allx_Optmzd_feather')"
   ]
  },
  {
   "cell_type": "code",
   "execution_count": 72,
   "metadata": {},
   "outputs": [],
   "source": [
    "# test.head()"
   ]
  },
  {
   "cell_type": "code",
   "execution_count": 26,
   "metadata": {},
   "outputs": [],
   "source": [
    "null_cols = ['D_17','D_38', 'D_43', 'D_96', 'D_39', 'B_7', 'D_73', 'B_22', 'D_12', 'D_132', \n",
    "'D_114', 'D_80', 'D_97', 'R_8', 'B_26', 'D_110', 'R_7', 'D_11', 'D_95', 'D_105', 'D_48', 'D_141', \n",
    "'D_142', 'D_10', 'D_68', 'D_92', 'D_31', 'D_106', 'B_29', 'D_133', 'S_23', 'D_89', 'S_19', 'D_8', 'S_25', 'S_7', 'D_64', 'D_40', 'D_22']\n",
    "\n",
    "test.drop(null_cols,axis=1,inplace=True)\n",
    "\n",
    "test_encoded = pd.get_dummies(test,columns=cat_columns,drop_first=True)"
   ]
  },
  {
   "cell_type": "code",
   "execution_count": 89,
   "metadata": {},
   "outputs": [
    {
     "data": {
      "text/plain": [
       "B_5        39\n",
       "B_9        39\n",
       "B_10       39\n",
       "B_18       39\n",
       "B_33       39\n",
       "R_28        0\n",
       "S_5         0\n",
       "D_36_CO     0\n",
       "D_36_CR     0\n",
       "dtype: int64"
      ]
     },
     "execution_count": 89,
     "metadata": {},
     "output_type": "execute_result"
    }
   ],
   "source": [
    "# test_encoded.isnull().sum().sort_values(ascending=False).iloc[70:79]"
   ]
  },
  {
   "cell_type": "code",
   "execution_count": 27,
   "metadata": {},
   "outputs": [
    {
     "data": {
      "text/plain": [
       "ID      0\n",
       "D_23    0\n",
       "S_11    0\n",
       "S_26    0\n",
       "D_87    0\n",
       "dtype: int64"
      ]
     },
     "execution_count": 27,
     "metadata": {},
     "output_type": "execute_result"
    }
   ],
   "source": [
    "null_row_cols = test_encoded.isnull().sum().sort_values(ascending=False).head(75).index\n",
    "\n",
    "for col in null_row_cols:\n",
    "    test_encoded[col].fillna(test_encoded[col].mean(), inplace=True)\n",
    "\n",
    "test_encoded.isnull().sum().sort_values(ascending=False).head()"
   ]
  },
  {
   "cell_type": "code",
   "execution_count": 28,
   "metadata": {},
   "outputs": [],
   "source": [
    "test_encoded = test_encoded.astype({col: 'uint8' for col in test_encoded.select_dtypes('category').columns})"
   ]
  },
  {
   "cell_type": "code",
   "execution_count": 29,
   "metadata": {},
   "outputs": [],
   "source": [
    "# valx_pred = rf.predict(test_encoded.drop('ID',axis=1))\n",
    "\n",
    "valx_pred = xgb.predict(test_encoded.drop('ID',axis=1))"
   ]
  },
  {
   "cell_type": "code",
   "execution_count": 30,
   "metadata": {},
   "outputs": [
    {
     "data": {
      "text/html": [
       "<div>\n",
       "<style scoped>\n",
       "    .dataframe tbody tr th:only-of-type {\n",
       "        vertical-align: middle;\n",
       "    }\n",
       "\n",
       "    .dataframe tbody tr th {\n",
       "        vertical-align: top;\n",
       "    }\n",
       "\n",
       "    .dataframe thead th {\n",
       "        text-align: right;\n",
       "    }\n",
       "</style>\n",
       "<table border=\"1\" class=\"dataframe\">\n",
       "  <thead>\n",
       "    <tr style=\"text-align: right;\">\n",
       "      <th></th>\n",
       "      <th>ID</th>\n",
       "      <th>Label</th>\n",
       "    </tr>\n",
       "  </thead>\n",
       "  <tbody>\n",
       "    <tr>\n",
       "      <th>0</th>\n",
       "      <td>3337446730</td>\n",
       "      <td>0</td>\n",
       "    </tr>\n",
       "    <tr>\n",
       "      <th>1</th>\n",
       "      <td>7888784125</td>\n",
       "      <td>0</td>\n",
       "    </tr>\n",
       "    <tr>\n",
       "      <th>2</th>\n",
       "      <td>9871378905</td>\n",
       "      <td>2</td>\n",
       "    </tr>\n",
       "    <tr>\n",
       "      <th>3</th>\n",
       "      <td>8891869609</td>\n",
       "      <td>0</td>\n",
       "    </tr>\n",
       "    <tr>\n",
       "      <th>4</th>\n",
       "      <td>2006443827</td>\n",
       "      <td>0</td>\n",
       "    </tr>\n",
       "  </tbody>\n",
       "</table>\n",
       "</div>"
      ],
      "text/plain": [
       "           ID  Label\n",
       "0  3337446730      0\n",
       "1  7888784125      0\n",
       "2  9871378905      2\n",
       "3  8891869609      0\n",
       "4  2006443827      0"
      ]
     },
     "execution_count": 30,
     "metadata": {},
     "output_type": "execute_result"
    }
   ],
   "source": [
    "sub_df = pd.DataFrame(test_encoded['ID'])\n",
    "sub_df['Label'] = valx_pred\n",
    "sub_df.head()"
   ]
  },
  {
   "cell_type": "code",
   "execution_count": 31,
   "metadata": {},
   "outputs": [
    {
     "data": {
      "text/plain": [
       "0    374925\n",
       "2     56788\n",
       "1     25641\n",
       "3     10612\n",
       "Name: Label, dtype: int64"
      ]
     },
     "execution_count": 31,
     "metadata": {},
     "output_type": "execute_result"
    }
   ],
   "source": [
    "sub_df['Label'].value_counts()"
   ]
  },
  {
   "cell_type": "code",
   "execution_count": 32,
   "metadata": {},
   "outputs": [],
   "source": [
    "sub_df.to_csv('./output/sub_xgb_02.csv',index=False)"
   ]
  },
  {
   "cell_type": "code",
   "execution_count": null,
   "metadata": {},
   "outputs": [],
   "source": []
  }
 ],
 "metadata": {
  "kernelspec": {
   "display_name": "Python 3.10.6 64-bit",
   "language": "python",
   "name": "python3"
  },
  "language_info": {
   "codemirror_mode": {
    "name": "ipython",
    "version": 3
   },
   "file_extension": ".py",
   "mimetype": "text/x-python",
   "name": "python",
   "nbconvert_exporter": "python",
   "pygments_lexer": "ipython3",
   "version": "3.10.6"
  },
  "orig_nbformat": 4,
  "vscode": {
   "interpreter": {
    "hash": "aee8b7b246df8f9039afb4144a1f6fd8d2ca17a180786b69acc140d282b71a49"
   }
  }
 },
 "nbformat": 4,
 "nbformat_minor": 2
}
