{
 "cells": [
  {
   "cell_type": "code",
   "execution_count": 18,
   "metadata": {},
   "outputs": [],
   "source": [
    "import pandas as pd\n",
    "import numpy as np\n",
    "\n",
    "from sklearn.model_selection import train_test_split, GridSearchCV\n",
    "from sklearn.metrics import classification_report, confusion_matrix\n",
    "\n",
    "from sklearn.ensemble import RandomForestClassifier\n",
    "from xgboost import XGBClassifier\n",
    "from keras.models import Sequential\n",
    "from keras.layers import Dense, Embedding, LSTM, GRU\n",
    "from imblearn.ensemble import EasyEnsembleClassifier\n",
    "\n",
    "from imblearn.over_sampling import SMOTE\n",
    "from sklearn.utils import class_weight"
   ]
  },
  {
   "cell_type": "code",
   "execution_count": 28,
   "metadata": {},
   "outputs": [
    {
     "name": "stdout",
     "output_type": "stream",
     "text": [
      "<class 'pandas.core.frame.DataFrame'>\n",
      "RangeIndex: 458913 entries, 0 to 458912\n",
      "Columns: 189 entries, B_37 to Default_Flag\n",
      "dtypes: category(4), float64(184), int64(1)\n",
      "memory usage: 649.5 MB\n"
     ]
    }
   ],
   "source": [
    "data = pd.read_feather('./output/full_df_wNA_labelled')\n",
    "# data = pd.read_feather('./output/full_df_labelled')\n",
    "data.info()"
   ]
  },
  {
   "cell_type": "code",
   "execution_count": 29,
   "metadata": {},
   "outputs": [
    {
     "name": "stdout",
     "output_type": "stream",
     "text": [
      "D_36 ['CO', 'CL', 'CR', 'XM', 'XZ', 'XL']\n",
      "Categories (6, object): ['CL', 'CO', 'CR', 'XL', 'XM', 'XZ']\n",
      "D_44 ['O', 'R', 'U', NaN]\n",
      "Categories (3, object): ['O', 'R', 'U']\n",
      "B_41 [1, 0]\n",
      "Categories (2, int64): [0, 1]\n",
      "D_130 [1, 0]\n",
      "Categories (2, int64): [0, 1]\n"
     ]
    }
   ],
   "source": [
    "for col in data.select_dtypes('category'):\n",
    "    print(col, data[col].unique())"
   ]
  },
  {
   "cell_type": "code",
   "execution_count": 30,
   "metadata": {},
   "outputs": [],
   "source": [
    "cat_columns = ['D_36','D_44']\n",
    "\n",
    "data_encoded = pd.get_dummies(data,columns=cat_columns,drop_first=True)"
   ]
  },
  {
   "cell_type": "code",
   "execution_count": 31,
   "metadata": {},
   "outputs": [],
   "source": [
    "data_encoded = data_encoded.astype({col: 'uint8' for col in data_encoded.select_dtypes('category').columns})"
   ]
  },
  {
   "cell_type": "code",
   "execution_count": 64,
   "metadata": {},
   "outputs": [
    {
     "name": "stdout",
     "output_type": "stream",
     "text": [
      "<class 'pandas.core.frame.DataFrame'>\n",
      "RangeIndex: 458913 entries, 0 to 458912\n",
      "Columns: 194 entries, B_37 to D_44_U\n",
      "dtypes: float64(184), int64(1), uint8(9)\n",
      "memory usage: 651.7 MB\n"
     ]
    }
   ],
   "source": [
    "data_encoded.info()"
   ]
  },
  {
   "cell_type": "code",
   "execution_count": 65,
   "metadata": {},
   "outputs": [
    {
     "data": {
      "text/html": [
       "<div>\n",
       "<style scoped>\n",
       "    .dataframe tbody tr th:only-of-type {\n",
       "        vertical-align: middle;\n",
       "    }\n",
       "\n",
       "    .dataframe tbody tr th {\n",
       "        vertical-align: top;\n",
       "    }\n",
       "\n",
       "    .dataframe thead th {\n",
       "        text-align: right;\n",
       "    }\n",
       "</style>\n",
       "<table border=\"1\" class=\"dataframe\">\n",
       "  <thead>\n",
       "    <tr style=\"text-align: right;\">\n",
       "      <th></th>\n",
       "      <th>B_37</th>\n",
       "      <th>S_24</th>\n",
       "      <th>S_4</th>\n",
       "      <th>S_14</th>\n",
       "      <th>B_25</th>\n",
       "      <th>D_38</th>\n",
       "      <th>B_30</th>\n",
       "      <th>D_138</th>\n",
       "      <th>P_2</th>\n",
       "      <th>S_7</th>\n",
       "      <th>...</th>\n",
       "      <th>R_28</th>\n",
       "      <th>S_5</th>\n",
       "      <th>Default_Flag</th>\n",
       "      <th>D_36_CO</th>\n",
       "      <th>D_36_CR</th>\n",
       "      <th>D_36_XL</th>\n",
       "      <th>D_36_XM</th>\n",
       "      <th>D_36_XZ</th>\n",
       "      <th>D_44_R</th>\n",
       "      <th>D_44_U</th>\n",
       "    </tr>\n",
       "  </thead>\n",
       "  <tbody>\n",
       "    <tr>\n",
       "      <th>0</th>\n",
       "      <td>0.006462</td>\n",
       "      <td>0.008118</td>\n",
       "      <td>0.853027</td>\n",
       "      <td>0.556641</td>\n",
       "      <td>1.003906</td>\n",
       "      <td>NaN</td>\n",
       "      <td>0.021301</td>\n",
       "      <td>0.511230</td>\n",
       "      <td>1.004883</td>\n",
       "      <td>0.081543</td>\n",
       "      <td>...</td>\n",
       "      <td>0.008514</td>\n",
       "      <td>0.004307</td>\n",
       "      <td>0</td>\n",
       "      <td>1</td>\n",
       "      <td>0</td>\n",
       "      <td>0</td>\n",
       "      <td>0</td>\n",
       "      <td>0</td>\n",
       "      <td>0</td>\n",
       "      <td>0</td>\n",
       "    </tr>\n",
       "    <tr>\n",
       "      <th>1</th>\n",
       "      <td>0.007748</td>\n",
       "      <td>0.006310</td>\n",
       "      <td>0.758301</td>\n",
       "      <td>0.686035</td>\n",
       "      <td>0.001836</td>\n",
       "      <td>NaN</td>\n",
       "      <td>0.088501</td>\n",
       "      <td>0.557129</td>\n",
       "      <td>0.687988</td>\n",
       "      <td>0.353027</td>\n",
       "      <td>...</td>\n",
       "      <td>0.003426</td>\n",
       "      <td>0.009224</td>\n",
       "      <td>0</td>\n",
       "      <td>0</td>\n",
       "      <td>0</td>\n",
       "      <td>0</td>\n",
       "      <td>0</td>\n",
       "      <td>0</td>\n",
       "      <td>0</td>\n",
       "      <td>0</td>\n",
       "    </tr>\n",
       "    <tr>\n",
       "      <th>2</th>\n",
       "      <td>0.005405</td>\n",
       "      <td>0.005219</td>\n",
       "      <td>0.766602</td>\n",
       "      <td>0.284668</td>\n",
       "      <td>1.002930</td>\n",
       "      <td>NaN</td>\n",
       "      <td>0.005821</td>\n",
       "      <td>0.854980</td>\n",
       "      <td>0.927734</td>\n",
       "      <td>0.059479</td>\n",
       "      <td>...</td>\n",
       "      <td>0.009224</td>\n",
       "      <td>0.009636</td>\n",
       "      <td>0</td>\n",
       "      <td>1</td>\n",
       "      <td>0</td>\n",
       "      <td>0</td>\n",
       "      <td>0</td>\n",
       "      <td>0</td>\n",
       "      <td>0</td>\n",
       "      <td>0</td>\n",
       "    </tr>\n",
       "    <tr>\n",
       "      <th>3</th>\n",
       "      <td>0.004135</td>\n",
       "      <td>0.000032</td>\n",
       "      <td>0.363281</td>\n",
       "      <td>0.004623</td>\n",
       "      <td>0.533691</td>\n",
       "      <td>NaN</td>\n",
       "      <td>0.002443</td>\n",
       "      <td>0.526367</td>\n",
       "      <td>0.700684</td>\n",
       "      <td>0.334473</td>\n",
       "      <td>...</td>\n",
       "      <td>0.009529</td>\n",
       "      <td>0.007523</td>\n",
       "      <td>0</td>\n",
       "      <td>0</td>\n",
       "      <td>1</td>\n",
       "      <td>0</td>\n",
       "      <td>0</td>\n",
       "      <td>0</td>\n",
       "      <td>0</td>\n",
       "      <td>0</td>\n",
       "    </tr>\n",
       "    <tr>\n",
       "      <th>4</th>\n",
       "      <td>0.002968</td>\n",
       "      <td>0.002892</td>\n",
       "      <td>0.757324</td>\n",
       "      <td>0.427734</td>\n",
       "      <td>1.001953</td>\n",
       "      <td>NaN</td>\n",
       "      <td>0.008247</td>\n",
       "      <td>0.820312</td>\n",
       "      <td>1.001953</td>\n",
       "      <td>0.144287</td>\n",
       "      <td>...</td>\n",
       "      <td>0.001020</td>\n",
       "      <td>0.000535</td>\n",
       "      <td>0</td>\n",
       "      <td>0</td>\n",
       "      <td>0</td>\n",
       "      <td>0</td>\n",
       "      <td>1</td>\n",
       "      <td>0</td>\n",
       "      <td>0</td>\n",
       "      <td>0</td>\n",
       "    </tr>\n",
       "  </tbody>\n",
       "</table>\n",
       "<p>5 rows × 194 columns</p>\n",
       "</div>"
      ],
      "text/plain": [
       "       B_37      S_24       S_4      S_14      B_25  D_38      B_30     D_138  \\\n",
       "0  0.006462  0.008118  0.853027  0.556641  1.003906   NaN  0.021301  0.511230   \n",
       "1  0.007748  0.006310  0.758301  0.686035  0.001836   NaN  0.088501  0.557129   \n",
       "2  0.005405  0.005219  0.766602  0.284668  1.002930   NaN  0.005821  0.854980   \n",
       "3  0.004135  0.000032  0.363281  0.004623  0.533691   NaN  0.002443  0.526367   \n",
       "4  0.002968  0.002892  0.757324  0.427734  1.001953   NaN  0.008247  0.820312   \n",
       "\n",
       "        P_2       S_7  ...      R_28       S_5  Default_Flag  D_36_CO  \\\n",
       "0  1.004883  0.081543  ...  0.008514  0.004307             0        1   \n",
       "1  0.687988  0.353027  ...  0.003426  0.009224             0        0   \n",
       "2  0.927734  0.059479  ...  0.009224  0.009636             0        1   \n",
       "3  0.700684  0.334473  ...  0.009529  0.007523             0        0   \n",
       "4  1.001953  0.144287  ...  0.001020  0.000535             0        0   \n",
       "\n",
       "   D_36_CR  D_36_XL  D_36_XM  D_36_XZ  D_44_R  D_44_U  \n",
       "0        0        0        0        0       0       0  \n",
       "1        0        0        0        0       0       0  \n",
       "2        0        0        0        0       0       0  \n",
       "3        1        0        0        0       0       0  \n",
       "4        0        0        1        0       0       0  \n",
       "\n",
       "[5 rows x 194 columns]"
      ]
     },
     "execution_count": 65,
     "metadata": {},
     "output_type": "execute_result"
    }
   ],
   "source": [
    "data_encoded.head()"
   ]
  },
  {
   "cell_type": "code",
   "execution_count": 33,
   "metadata": {},
   "outputs": [],
   "source": [
    "X = data_encoded.drop('Default_Flag',axis=1)\n",
    "y = data_encoded['Default_Flag']\n",
    "\n",
    "X_train, X_test, y_train, y_test = train_test_split(X, y, test_size=0.25, random_state=42, stratify=y)\n",
    "# X_train_rs, y_train_rs = SMOTE(n_jobs=-1,).fit_resample(X_train, y_train)"
   ]
  },
  {
   "cell_type": "markdown",
   "metadata": {},
   "source": [
    "### Random Forest"
   ]
  },
  {
   "cell_type": "code",
   "execution_count": 26,
   "metadata": {},
   "outputs": [
    {
     "data": {
      "text/plain": [
       "((871340, 154), (293168, 154))"
      ]
     },
     "execution_count": 26,
     "metadata": {},
     "output_type": "execute_result"
    }
   ],
   "source": [
    "# X_train_rs.shape, X_train.shape"
   ]
  },
  {
   "cell_type": "code",
   "execution_count": 22,
   "metadata": {},
   "outputs": [
    {
     "name": "stdout",
     "output_type": "stream",
     "text": [
      "              precision    recall  f1-score   support\n",
      "\n",
      "           0       0.85      0.98      0.91     72686\n",
      "           1       0.71      0.53      0.61      7144\n",
      "           2       0.43      0.37      0.39      9786\n",
      "           3       0.33      0.01      0.01      8107\n",
      "\n",
      "    accuracy                           0.81     97723\n",
      "   macro avg       0.58      0.47      0.48     97723\n",
      "weighted avg       0.76      0.81      0.76     97723\n",
      "\n",
      "[[71291   224  1136    35]\n",
      " [ 1740  3808  1576    20]\n",
      " [ 5173   942  3605    66]\n",
      " [ 5531   364  2152    60]]\n"
     ]
    }
   ],
   "source": [
    "# rf = RandomForestClassifier(random_state=42,class_weight=\"balanced\",n_jobs=-1,bootstrap=True,)\n",
    "\n",
    "# rf.fit(X_train,y_train)\n",
    "# rf_preds = rf.predict(X_test)\n",
    "\n",
    "# print(classification_report(y_test, rf_preds))\n",
    "# print(confusion_matrix(y_test, rf_preds))"
   ]
  },
  {
   "cell_type": "markdown",
   "metadata": {},
   "source": [
    "### Easy Ensemble Classifier"
   ]
  },
  {
   "cell_type": "code",
   "execution_count": 14,
   "metadata": {},
   "outputs": [
    {
     "name": "stdout",
     "output_type": "stream",
     "text": [
      "              precision    recall  f1-score   support\n",
      "\n",
      "           0       0.92      0.93      0.93     72686\n",
      "           1       0.62      0.61      0.62      7144\n",
      "           2       0.42      0.38      0.40      9786\n",
      "           3       0.29      0.30      0.29      8107\n",
      "\n",
      "    accuracy                           0.80     97723\n",
      "   macro avg       0.56      0.56      0.56     97723\n",
      "weighted avg       0.80      0.80      0.80     97723\n",
      "\n",
      "[[67872   552  1460  2802]\n",
      " [  690  4357  1434   663]\n",
      " [ 2138  1464  3723  2461]\n",
      " [ 2776   641  2289  2401]]\n"
     ]
    }
   ],
   "source": [
    "# ee = EasyEnsembleClassifier(random_state=42,sampling_strategy={0:50000,1:10000,2:10000,3:10000},n_estimators=30,replacement=True,n_jobs=-1,)\n",
    "\n",
    "# ee.fit(X_train,y_train)\n",
    "# ee_preds = ee.predict(X_test)\n",
    "\n",
    "# print(classification_report(y_test, ee_preds))\n",
    "# print(confusion_matrix(y_test, ee_preds))"
   ]
  },
  {
   "cell_type": "markdown",
   "metadata": {},
   "source": [
    "### XGBoost"
   ]
  },
  {
   "cell_type": "code",
   "execution_count": 59,
   "metadata": {},
   "outputs": [
    {
     "name": "stdout",
     "output_type": "stream",
     "text": [
      "              precision    recall  f1-score   support\n",
      "\n",
      "           0       0.90      0.97      0.93     85022\n",
      "           1       0.71      0.56      0.63      8625\n",
      "           2       0.43      0.49      0.46     11606\n",
      "           3       0.36      0.11      0.17      9476\n",
      "\n",
      "    accuracy                           0.82    114729\n",
      "   macro avg       0.60      0.53      0.55    114729\n",
      "weighted avg       0.79      0.82      0.80    114729\n",
      "\n",
      "[[82057   348  1895   722]\n",
      " [ 1190  4866  2364   205]\n",
      " [ 3755  1150  5713   988]\n",
      " [ 4500   458  3429  1089]]\n"
     ]
    }
   ],
   "source": [
    "xgb = XGBClassifier(random_state=42, n_estimators=200, subsample=0.5, learning_rate=0.1, max_depth=7, gamma=0.25, colsample_bytree=0.8)\n",
    "\n",
    "xgb.fit(X_train,y_train)\n",
    "xgb_preds = xgb.predict(X_test)\n",
    "\n",
    "print(classification_report(y_test, xgb_preds))\n",
    "print(confusion_matrix(y_test, xgb_preds))"
   ]
  },
  {
   "cell_type": "code",
   "execution_count": 60,
   "metadata": {},
   "outputs": [
    {
     "data": {
      "text/html": [
       "<style>#sk-container-id-1 {color: black;background-color: white;}#sk-container-id-1 pre{padding: 0;}#sk-container-id-1 div.sk-toggleable {background-color: white;}#sk-container-id-1 label.sk-toggleable__label {cursor: pointer;display: block;width: 100%;margin-bottom: 0;padding: 0.3em;box-sizing: border-box;text-align: center;}#sk-container-id-1 label.sk-toggleable__label-arrow:before {content: \"▸\";float: left;margin-right: 0.25em;color: #696969;}#sk-container-id-1 label.sk-toggleable__label-arrow:hover:before {color: black;}#sk-container-id-1 div.sk-estimator:hover label.sk-toggleable__label-arrow:before {color: black;}#sk-container-id-1 div.sk-toggleable__content {max-height: 0;max-width: 0;overflow: hidden;text-align: left;background-color: #f0f8ff;}#sk-container-id-1 div.sk-toggleable__content pre {margin: 0.2em;color: black;border-radius: 0.25em;background-color: #f0f8ff;}#sk-container-id-1 input.sk-toggleable__control:checked~div.sk-toggleable__content {max-height: 200px;max-width: 100%;overflow: auto;}#sk-container-id-1 input.sk-toggleable__control:checked~label.sk-toggleable__label-arrow:before {content: \"▾\";}#sk-container-id-1 div.sk-estimator input.sk-toggleable__control:checked~label.sk-toggleable__label {background-color: #d4ebff;}#sk-container-id-1 div.sk-label input.sk-toggleable__control:checked~label.sk-toggleable__label {background-color: #d4ebff;}#sk-container-id-1 input.sk-hidden--visually {border: 0;clip: rect(1px 1px 1px 1px);clip: rect(1px, 1px, 1px, 1px);height: 1px;margin: -1px;overflow: hidden;padding: 0;position: absolute;width: 1px;}#sk-container-id-1 div.sk-estimator {font-family: monospace;background-color: #f0f8ff;border: 1px dotted black;border-radius: 0.25em;box-sizing: border-box;margin-bottom: 0.5em;}#sk-container-id-1 div.sk-estimator:hover {background-color: #d4ebff;}#sk-container-id-1 div.sk-parallel-item::after {content: \"\";width: 100%;border-bottom: 1px solid gray;flex-grow: 1;}#sk-container-id-1 div.sk-label:hover label.sk-toggleable__label {background-color: #d4ebff;}#sk-container-id-1 div.sk-serial::before {content: \"\";position: absolute;border-left: 1px solid gray;box-sizing: border-box;top: 0;bottom: 0;left: 50%;z-index: 0;}#sk-container-id-1 div.sk-serial {display: flex;flex-direction: column;align-items: center;background-color: white;padding-right: 0.2em;padding-left: 0.2em;position: relative;}#sk-container-id-1 div.sk-item {position: relative;z-index: 1;}#sk-container-id-1 div.sk-parallel {display: flex;align-items: stretch;justify-content: center;background-color: white;position: relative;}#sk-container-id-1 div.sk-item::before, #sk-container-id-1 div.sk-parallel-item::before {content: \"\";position: absolute;border-left: 1px solid gray;box-sizing: border-box;top: 0;bottom: 0;left: 50%;z-index: -1;}#sk-container-id-1 div.sk-parallel-item {display: flex;flex-direction: column;z-index: 1;position: relative;background-color: white;}#sk-container-id-1 div.sk-parallel-item:first-child::after {align-self: flex-end;width: 50%;}#sk-container-id-1 div.sk-parallel-item:last-child::after {align-self: flex-start;width: 50%;}#sk-container-id-1 div.sk-parallel-item:only-child::after {width: 0;}#sk-container-id-1 div.sk-dashed-wrapped {border: 1px dashed gray;margin: 0 0.4em 0.5em 0.4em;box-sizing: border-box;padding-bottom: 0.4em;background-color: white;}#sk-container-id-1 div.sk-label label {font-family: monospace;font-weight: bold;display: inline-block;line-height: 1.2em;}#sk-container-id-1 div.sk-label-container {text-align: center;}#sk-container-id-1 div.sk-container {/* jupyter's `normalize.less` sets `[hidden] { display: none; }` but bootstrap.min.css set `[hidden] { display: none !important; }` so we also need the `!important` here to be able to override the default hidden behavior on the sphinx rendered scikit-learn.org. See: https://github.com/scikit-learn/scikit-learn/issues/21755 */display: inline-block !important;position: relative;}#sk-container-id-1 div.sk-text-repr-fallback {display: none;}</style><div id=\"sk-container-id-1\" class=\"sk-top-container\"><div class=\"sk-text-repr-fallback\"><pre>XGBClassifier(base_score=0.5, booster=&#x27;gbtree&#x27;, callbacks=None,\n",
       "              colsample_bylevel=1, colsample_bynode=1, colsample_bytree=0.8,\n",
       "              early_stopping_rounds=None, enable_categorical=False,\n",
       "              eval_metric=None, gamma=0.25, gpu_id=-1, grow_policy=&#x27;depthwise&#x27;,\n",
       "              importance_type=None, interaction_constraints=&#x27;&#x27;,\n",
       "              learning_rate=0.1, max_bin=256, max_cat_to_onehot=4,\n",
       "              max_delta_step=0, max_depth=7, max_leaves=0, min_child_weight=1,\n",
       "              missing=nan, monotone_constraints=&#x27;()&#x27;, n_estimators=200,\n",
       "              n_jobs=0, num_parallel_tree=1, objective=&#x27;multi:softprob&#x27;,\n",
       "              predictor=&#x27;auto&#x27;, random_state=42, reg_alpha=0, ...)</pre><b>In a Jupyter environment, please rerun this cell to show the HTML representation or trust the notebook. <br />On GitHub, the HTML representation is unable to render, please try loading this page with nbviewer.org.</b></div><div class=\"sk-container\" hidden><div class=\"sk-item\"><div class=\"sk-estimator sk-toggleable\"><input class=\"sk-toggleable__control sk-hidden--visually\" id=\"sk-estimator-id-1\" type=\"checkbox\" checked><label for=\"sk-estimator-id-1\" class=\"sk-toggleable__label sk-toggleable__label-arrow\">XGBClassifier</label><div class=\"sk-toggleable__content\"><pre>XGBClassifier(base_score=0.5, booster=&#x27;gbtree&#x27;, callbacks=None,\n",
       "              colsample_bylevel=1, colsample_bynode=1, colsample_bytree=0.8,\n",
       "              early_stopping_rounds=None, enable_categorical=False,\n",
       "              eval_metric=None, gamma=0.25, gpu_id=-1, grow_policy=&#x27;depthwise&#x27;,\n",
       "              importance_type=None, interaction_constraints=&#x27;&#x27;,\n",
       "              learning_rate=0.1, max_bin=256, max_cat_to_onehot=4,\n",
       "              max_delta_step=0, max_depth=7, max_leaves=0, min_child_weight=1,\n",
       "              missing=nan, monotone_constraints=&#x27;()&#x27;, n_estimators=200,\n",
       "              n_jobs=0, num_parallel_tree=1, objective=&#x27;multi:softprob&#x27;,\n",
       "              predictor=&#x27;auto&#x27;, random_state=42, reg_alpha=0, ...)</pre></div></div></div></div></div>"
      ],
      "text/plain": [
       "XGBClassifier(base_score=0.5, booster='gbtree', callbacks=None,\n",
       "              colsample_bylevel=1, colsample_bynode=1, colsample_bytree=0.8,\n",
       "              early_stopping_rounds=None, enable_categorical=False,\n",
       "              eval_metric=None, gamma=0.25, gpu_id=-1, grow_policy='depthwise',\n",
       "              importance_type=None, interaction_constraints='',\n",
       "              learning_rate=0.1, max_bin=256, max_cat_to_onehot=4,\n",
       "              max_delta_step=0, max_depth=7, max_leaves=0, min_child_weight=1,\n",
       "              missing=nan, monotone_constraints='()', n_estimators=200,\n",
       "              n_jobs=0, num_parallel_tree=1, objective='multi:softprob',\n",
       "              predictor='auto', random_state=42, reg_alpha=0, ...)"
      ]
     },
     "execution_count": 60,
     "metadata": {},
     "output_type": "execute_result"
    }
   ],
   "source": [
    "xgbFull = XGBClassifier(random_state=42, n_estimators=200, subsample=0.5, learning_rate=0.1, max_depth=7, gamma=0.25, colsample_bytree=0.8)\n",
    "\n",
    "xgbFull.fit(X,y)"
   ]
  },
  {
   "cell_type": "markdown",
   "metadata": {},
   "source": [
    "### Grid Search for Best parameters"
   ]
  },
  {
   "cell_type": "code",
   "execution_count": 55,
   "metadata": {},
   "outputs": [],
   "source": [
    "param_grid = {\n",
    "    \"max_depth\": [7], # 3,5,10 done\n",
    "    \"learning_rate\": [0.1], # 0.2,0.05,0.075 done\n",
    "    \"gamma\": [0.25], #0, 1 done\n",
    "    # \"reg_lambda\": [0, 1, 10],\n",
    "    # \"scale_pos_weight\": [3, 5, 10],\n",
    "    \"subsample\": [0.5],\n",
    "    \"colsample_bytree\": [0.5]\n",
    "}\n",
    "# 0.81439, 0.81508, 0.81521"
   ]
  },
  {
   "cell_type": "code",
   "execution_count": 56,
   "metadata": {},
   "outputs": [],
   "source": [
    "gridCV = GridSearchCV(XGBClassifier(random_state=42),param_grid, n_jobs=-1, cv=3, scoring=\"accuracy\")\n",
    "\n",
    "_ = gridCV.fit(X_train,y_train)"
   ]
  },
  {
   "cell_type": "code",
   "execution_count": 57,
   "metadata": {},
   "outputs": [
    {
     "name": "stdout",
     "output_type": "stream",
     "text": [
      "Best Score : 0.8152122120726123\n",
      "Best parameters : {'colsample_bytree': 0.5, 'gamma': 0.25, 'learning_rate': 0.1, 'max_depth': 7, 'subsample': 0.5}\n"
     ]
    }
   ],
   "source": [
    "print('Best Score :',gridCV.best_score_)\n",
    "print('Best parameters :',gridCV.best_params_)"
   ]
  },
  {
   "cell_type": "code",
   "execution_count": 36,
   "metadata": {},
   "outputs": [],
   "source": [
    "test = pd.read_feather('./output/val_allx_Optmzd_feather')"
   ]
  },
  {
   "cell_type": "code",
   "execution_count": 72,
   "metadata": {},
   "outputs": [],
   "source": [
    "# test.head()"
   ]
  },
  {
   "cell_type": "code",
   "execution_count": 37,
   "metadata": {},
   "outputs": [],
   "source": [
    "# null_cols = ['D_17','D_38', 'D_43', 'D_96', 'D_39', 'B_7', 'D_73', 'B_22', 'D_12', 'D_132', \n",
    "# 'D_114', 'D_80', 'D_97', 'R_8', 'B_26', 'D_110', 'R_7', 'D_11', 'D_95', 'D_105', 'D_48', 'D_141', \n",
    "# 'D_142', 'D_10', 'D_68', 'D_92', 'D_31', 'D_106', 'B_29', 'D_133', 'S_23', 'D_89', 'S_19', 'D_8', 'S_25', 'S_7', 'D_64', 'D_40', 'D_22']\n",
    "\n",
    "# test.drop(null_cols,axis=1,inplace=True)\n",
    "\n",
    "test_encoded = pd.get_dummies(test,columns=cat_columns,drop_first=True)"
   ]
  },
  {
   "cell_type": "code",
   "execution_count": 89,
   "metadata": {},
   "outputs": [
    {
     "data": {
      "text/plain": [
       "B_5        39\n",
       "B_9        39\n",
       "B_10       39\n",
       "B_18       39\n",
       "B_33       39\n",
       "R_28        0\n",
       "S_5         0\n",
       "D_36_CO     0\n",
       "D_36_CR     0\n",
       "dtype: int64"
      ]
     },
     "execution_count": 89,
     "metadata": {},
     "output_type": "execute_result"
    }
   ],
   "source": [
    "# test_encoded.isnull().sum().sort_values(ascending=False).iloc[70:79]"
   ]
  },
  {
   "cell_type": "code",
   "execution_count": 27,
   "metadata": {},
   "outputs": [
    {
     "data": {
      "text/plain": [
       "ID      0\n",
       "D_23    0\n",
       "S_11    0\n",
       "S_26    0\n",
       "D_87    0\n",
       "dtype: int64"
      ]
     },
     "execution_count": 27,
     "metadata": {},
     "output_type": "execute_result"
    }
   ],
   "source": [
    "# null_row_cols = test_encoded.isnull().sum().sort_values(ascending=False).head(75).index\n",
    "\n",
    "# for col in null_row_cols:\n",
    "#     test_encoded[col].fillna(test_encoded[col].mean(), inplace=True)\n",
    "\n",
    "# test_encoded.isnull().sum().sort_values(ascending=False).head()"
   ]
  },
  {
   "cell_type": "code",
   "execution_count": 38,
   "metadata": {},
   "outputs": [],
   "source": [
    "test_encoded = test_encoded.astype({col: 'uint8' for col in test_encoded.select_dtypes('category').columns})"
   ]
  },
  {
   "cell_type": "code",
   "execution_count": 63,
   "metadata": {},
   "outputs": [
    {
     "name": "stdout",
     "output_type": "stream",
     "text": [
      "<class 'pandas.core.frame.DataFrame'>\n",
      "RangeIndex: 467966 entries, 0 to 467965\n",
      "Columns: 194 entries, ID to D_44_U\n",
      "dtypes: float64(184), object(1), uint8(9)\n",
      "memory usage: 664.5+ MB\n"
     ]
    }
   ],
   "source": [
    "test_encoded.info()"
   ]
  },
  {
   "cell_type": "code",
   "execution_count": 61,
   "metadata": {},
   "outputs": [],
   "source": [
    "# valx_pred = rf.predict(test_encoded.drop('ID',axis=1))\n",
    "\n",
    "valx_pred = xgbFull.predict(test_encoded.drop('ID',axis=1))"
   ]
  },
  {
   "cell_type": "code",
   "execution_count": 40,
   "metadata": {},
   "outputs": [
    {
     "data": {
      "text/html": [
       "<div>\n",
       "<style scoped>\n",
       "    .dataframe tbody tr th:only-of-type {\n",
       "        vertical-align: middle;\n",
       "    }\n",
       "\n",
       "    .dataframe tbody tr th {\n",
       "        vertical-align: top;\n",
       "    }\n",
       "\n",
       "    .dataframe thead th {\n",
       "        text-align: right;\n",
       "    }\n",
       "</style>\n",
       "<table border=\"1\" class=\"dataframe\">\n",
       "  <thead>\n",
       "    <tr style=\"text-align: right;\">\n",
       "      <th></th>\n",
       "      <th>ID</th>\n",
       "      <th>Label</th>\n",
       "    </tr>\n",
       "  </thead>\n",
       "  <tbody>\n",
       "    <tr>\n",
       "      <th>0</th>\n",
       "      <td>3337446730</td>\n",
       "      <td>0</td>\n",
       "    </tr>\n",
       "    <tr>\n",
       "      <th>1</th>\n",
       "      <td>7888784125</td>\n",
       "      <td>0</td>\n",
       "    </tr>\n",
       "    <tr>\n",
       "      <th>2</th>\n",
       "      <td>9871378905</td>\n",
       "      <td>2</td>\n",
       "    </tr>\n",
       "    <tr>\n",
       "      <th>3</th>\n",
       "      <td>8891869609</td>\n",
       "      <td>0</td>\n",
       "    </tr>\n",
       "    <tr>\n",
       "      <th>4</th>\n",
       "      <td>2006443827</td>\n",
       "      <td>0</td>\n",
       "    </tr>\n",
       "  </tbody>\n",
       "</table>\n",
       "</div>"
      ],
      "text/plain": [
       "           ID  Label\n",
       "0  3337446730      0\n",
       "1  7888784125      0\n",
       "2  9871378905      2\n",
       "3  8891869609      0\n",
       "4  2006443827      0"
      ]
     },
     "execution_count": 40,
     "metadata": {},
     "output_type": "execute_result"
    }
   ],
   "source": [
    "sub_df = pd.DataFrame(test_encoded['ID'])\n",
    "sub_df['Label'] = valx_pred\n",
    "sub_df.head()"
   ]
  },
  {
   "cell_type": "code",
   "execution_count": 41,
   "metadata": {},
   "outputs": [
    {
     "data": {
      "text/plain": [
       "0    374372\n",
       "2     56757\n",
       "1     25836\n",
       "3     11001\n",
       "Name: Label, dtype: int64"
      ]
     },
     "execution_count": 41,
     "metadata": {},
     "output_type": "execute_result"
    }
   ],
   "source": [
    "sub_df['Label'].value_counts()"
   ]
  },
  {
   "cell_type": "code",
   "execution_count": 62,
   "metadata": {},
   "outputs": [],
   "source": [
    "sub_df.to_csv('./output/sub_XGBFull_wNA_01.csv',index=False)"
   ]
  },
  {
   "cell_type": "code",
   "execution_count": null,
   "metadata": {},
   "outputs": [],
   "source": []
  }
 ],
 "metadata": {
  "kernelspec": {
   "display_name": "Python 3.10.6 64-bit",
   "language": "python",
   "name": "python3"
  },
  "language_info": {
   "codemirror_mode": {
    "name": "ipython",
    "version": 3
   },
   "file_extension": ".py",
   "mimetype": "text/x-python",
   "name": "python",
   "nbconvert_exporter": "python",
   "pygments_lexer": "ipython3",
   "version": "3.10.6"
  },
  "orig_nbformat": 4,
  "vscode": {
   "interpreter": {
    "hash": "aee8b7b246df8f9039afb4144a1f6fd8d2ca17a180786b69acc140d282b71a49"
   }
  }
 },
 "nbformat": 4,
 "nbformat_minor": 2
}
