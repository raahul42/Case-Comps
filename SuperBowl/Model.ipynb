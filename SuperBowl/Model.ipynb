{
 "cells": [
  {
   "cell_type": "code",
   "execution_count": 60,
   "metadata": {},
   "outputs": [],
   "source": [
    "import pandas as pd\n",
    "import numpy as np\n",
    "\n",
    "from sklearn.model_selection import train_test_split\n",
    "from sklearn.metrics import classification_report, confusion_matrix\n",
    "\n",
    "from sklearn.ensemble import RandomForestClassifier\n",
    "from xgboost import XGBClassifier\n",
    "from keras.models import Sequential\n",
    "from keras.layers import Dense, Embedding, LSTM, GRU\n",
    "from imblearn.ensemble import EasyEnsembleClassifier\n",
    "\n",
    "from imblearn.over_sampling import SMOTE\n",
    "from sklearn.utils import class_weight"
   ]
  },
  {
   "cell_type": "code",
   "execution_count": 61,
   "metadata": {},
   "outputs": [
    {
     "name": "stdout",
     "output_type": "stream",
     "text": [
      "<class 'pandas.core.frame.DataFrame'>\n",
      "RangeIndex: 390891 entries, 0 to 390890\n",
      "Columns: 150 entries, B_37 to Default_Flag\n",
      "dtypes: category(4), float32(145), int64(1)\n",
      "memory usage: 220.7 MB\n"
     ]
    }
   ],
   "source": [
    "data = pd.read_feather('./output/full_df_labelled')\n",
    "data.info()"
   ]
  },
  {
   "cell_type": "code",
   "execution_count": 62,
   "metadata": {},
   "outputs": [
    {
     "name": "stdout",
     "output_type": "stream",
     "text": [
      "D_36 ['CO', 'CL', 'CR', 'XM', 'XZ', 'XL']\n",
      "Categories (6, object): ['CL', 'CO', 'CR', 'XL', 'XM', 'XZ']\n",
      "D_44 ['O', 'R', 'U']\n",
      "Categories (3, object): ['O', 'R', 'U']\n",
      "B_41 [1, 0]\n",
      "Categories (2, int64): [0, 1]\n",
      "D_130 [1, 0]\n",
      "Categories (2, int64): [0, 1]\n"
     ]
    }
   ],
   "source": [
    "for col in data.select_dtypes('category'):\n",
    "    print(col, data[col].unique())"
   ]
  },
  {
   "cell_type": "code",
   "execution_count": 63,
   "metadata": {},
   "outputs": [],
   "source": [
    "cat_columns = ['D_36','D_44']\n",
    "\n",
    "data_encoded = pd.get_dummies(data,columns=cat_columns,drop_first=True)"
   ]
  },
  {
   "cell_type": "code",
   "execution_count": 64,
   "metadata": {},
   "outputs": [],
   "source": [
    "data_encoded = data_encoded.astype({col: 'uint8' for col in data_encoded.select_dtypes('category').columns})"
   ]
  },
  {
   "cell_type": "code",
   "execution_count": 65,
   "metadata": {},
   "outputs": [
    {
     "name": "stdout",
     "output_type": "stream",
     "text": [
      "<class 'pandas.core.frame.DataFrame'>\n",
      "RangeIndex: 390891 entries, 0 to 390890\n",
      "Columns: 155 entries, B_37 to D_44_U\n",
      "dtypes: float32(145), int64(1), uint8(9)\n",
      "memory usage: 222.6 MB\n"
     ]
    }
   ],
   "source": [
    "data_encoded.info()"
   ]
  },
  {
   "cell_type": "code",
   "execution_count": 66,
   "metadata": {},
   "outputs": [],
   "source": [
    "# data_encoded.head()"
   ]
  },
  {
   "cell_type": "code",
   "execution_count": 67,
   "metadata": {},
   "outputs": [],
   "source": [
    "X = data_encoded.drop('Default_Flag',axis=1)\n",
    "y = data_encoded['Default_Flag']\n",
    "\n",
    "X_train, X_test, y_train, y_test = train_test_split(X, y, test_size=0.25, random_state=42)"
   ]
  },
  {
   "cell_type": "markdown",
   "metadata": {},
   "source": [
    "### Random Forest"
   ]
  },
  {
   "cell_type": "code",
   "execution_count": 68,
   "metadata": {},
   "outputs": [
    {
     "name": "stdout",
     "output_type": "stream",
     "text": [
      "              precision    recall  f1-score   support\n",
      "\n",
      "           0       0.88      0.97      0.92     72686\n",
      "           1       0.71      0.54      0.61      7144\n",
      "           2       0.41      0.45      0.43      9786\n",
      "           3       0.31      0.05      0.09      8107\n",
      "\n",
      "    accuracy                           0.81     97723\n",
      "   macro avg       0.58      0.50      0.51     97723\n",
      "weighted avg       0.77      0.81      0.78     97723\n",
      "\n",
      "[[70520   220  1614   332]\n",
      " [ 1311  3848  1849   136]\n",
      " [ 3962   970  4366   488]\n",
      " [ 4552   384  2733   438]]\n"
     ]
    }
   ],
   "source": [
    "rf = RandomForestClassifier(random_state=42)\n",
    "\n",
    "rf.fit(X_train,y_train)\n",
    "rf_preds = rf.predict(X_test)\n",
    "\n",
    "# print(classification_report(y_test, rf_preds))\n",
    "print(confusion_matrix(y_test, rf_preds))"
   ]
  },
  {
   "cell_type": "markdown",
   "metadata": {},
   "source": [
    "### Easy Ensemble Classifier"
   ]
  },
  {
   "cell_type": "code",
   "execution_count": 69,
   "metadata": {},
   "outputs": [
    {
     "name": "stdout",
     "output_type": "stream",
     "text": [
      "              precision    recall  f1-score   support\n",
      "\n",
      "           0       0.97      0.83      0.90     72686\n",
      "           1       0.59      0.62      0.61      7144\n",
      "           2       0.40      0.40      0.40      9786\n",
      "           3       0.22      0.49      0.31      8107\n",
      "\n",
      "    accuracy                           0.75     97723\n",
      "   macro avg       0.55      0.59      0.55     97723\n",
      "weighted avg       0.83      0.75      0.78     97723\n",
      "\n",
      "[[60525   825  1923  9413]\n",
      " [  205  4458  1577   904]\n",
      " [  552  1574  3962  3698]\n",
      " [  901   705  2495  4006]]\n"
     ]
    }
   ],
   "source": [
    "ee = EasyEnsembleClassifier(random_state=42)\n",
    "\n",
    "ee.fit(X_train,y_train)\n",
    "ee_preds = ee.predict(X_test)\n",
    "\n",
    "# print(classification_report(y_test, ee_preds))\n",
    "print(confusion_matrix(y_test, ee_preds))"
   ]
  },
  {
   "cell_type": "markdown",
   "metadata": {},
   "source": [
    "### XGBoost"
   ]
  },
  {
   "cell_type": "code",
   "execution_count": 70,
   "metadata": {},
   "outputs": [
    {
     "name": "stdout",
     "output_type": "stream",
     "text": [
      "[15:37:08] WARNING: /Users/runner/work/xgboost/xgboost/python-package/build/temp.macosx-11.0-arm64-cpython-38/xgboost/src/learner.cc:627: \n",
      "Parameters: { \"scale_pos_weight\" } might not be used.\n",
      "\n",
      "  This could be a false alarm, with some parameters getting used by language bindings but\n",
      "  then being mistakenly passed down to XGBoost core, or some parameter actually being used\n",
      "  but getting flagged wrongly here. Please open an issue if you find any such cases.\n",
      "\n",
      "\n",
      "              precision    recall  f1-score   support\n",
      "\n",
      "           0       0.90      0.96      0.93     72686\n",
      "           1       0.71      0.55      0.62      7144\n",
      "           2       0.41      0.49      0.45      9786\n",
      "           3       0.33      0.11      0.17      8107\n",
      "\n",
      "    accuracy                           0.81     97723\n",
      "   macro avg       0.59      0.53      0.54     97723\n",
      "weighted avg       0.79      0.81      0.80     97723\n",
      "\n",
      "[[69951   287  1764   684]\n",
      " [  959  3941  2011   233]\n",
      " [ 3083   977  4807   919]\n",
      " [ 3726   385  3085   911]]\n"
     ]
    }
   ],
   "source": [
    "xgb = XGBClassifier(random_state=42,scale_pos_weight=10)\n",
    "\n",
    "xgb.fit(X_train,y_train)\n",
    "xgb_preds = xgb.predict(X_test)\n",
    "\n",
    "# print(classification_report(y_test, xgb_preds))\n",
    "print(confusion_matrix(y_test, xgb_preds))"
   ]
  },
  {
   "cell_type": "code",
   "execution_count": 84,
   "metadata": {},
   "outputs": [],
   "source": [
    "test = pd.read_feather('./output/val_allx_Optmzd_feather')"
   ]
  },
  {
   "cell_type": "code",
   "execution_count": 72,
   "metadata": {},
   "outputs": [],
   "source": [
    "# test.head()"
   ]
  },
  {
   "cell_type": "code",
   "execution_count": 85,
   "metadata": {},
   "outputs": [],
   "source": [
    "null_cols = ['D_17','D_38', 'D_43', 'D_96', 'D_39', 'B_7', 'D_73', 'B_22', 'D_12', 'D_132', \n",
    "'D_114', 'D_80', 'D_97', 'R_8', 'B_26', 'D_110', 'R_7', 'D_11', 'D_95', 'D_105', 'D_48', 'D_141', \n",
    "'D_142', 'D_10', 'D_68', 'D_92', 'D_31', 'D_106', 'B_29', 'D_133', 'S_23', 'D_89', 'S_19', 'D_8', 'S_25', 'S_7', 'D_64', 'D_40', 'D_22']\n",
    "\n",
    "test.drop(null_cols,axis=1,inplace=True)\n",
    "\n",
    "test_encoded = pd.get_dummies(test,columns=cat_columns,drop_first=True)"
   ]
  },
  {
   "cell_type": "code",
   "execution_count": 89,
   "metadata": {},
   "outputs": [
    {
     "data": {
      "text/plain": [
       "B_5        39\n",
       "B_9        39\n",
       "B_10       39\n",
       "B_18       39\n",
       "B_33       39\n",
       "R_28        0\n",
       "S_5         0\n",
       "D_36_CO     0\n",
       "D_36_CR     0\n",
       "dtype: int64"
      ]
     },
     "execution_count": 89,
     "metadata": {},
     "output_type": "execute_result"
    }
   ],
   "source": [
    "# test_encoded.isnull().sum().sort_values(ascending=False).iloc[70:79]"
   ]
  },
  {
   "cell_type": "code",
   "execution_count": 90,
   "metadata": {},
   "outputs": [
    {
     "data": {
      "text/plain": [
       "ID      0\n",
       "D_23    0\n",
       "S_11    0\n",
       "S_26    0\n",
       "D_87    0\n",
       "dtype: int64"
      ]
     },
     "execution_count": 90,
     "metadata": {},
     "output_type": "execute_result"
    }
   ],
   "source": [
    "null_row_cols = test_encoded.isnull().sum().sort_values(ascending=False).head(75).index\n",
    "\n",
    "for col in null_row_cols:\n",
    "    test_encoded[col].fillna(test_encoded[col].mean(), inplace=True)\n",
    "\n",
    "test_encoded.isnull().sum().sort_values(ascending=False).head()"
   ]
  },
  {
   "cell_type": "code",
   "execution_count": 91,
   "metadata": {},
   "outputs": [],
   "source": [
    "test_encoded = test_encoded.astype({col: 'uint8' for col in test_encoded.select_dtypes('category').columns})"
   ]
  },
  {
   "cell_type": "code",
   "execution_count": 93,
   "metadata": {},
   "outputs": [],
   "source": [
    "# valx_pred = rf.predict(test_encoded.drop('ID',axis=1))\n",
    "\n",
    "valx_pred = xgb.predict(test_encoded.drop('ID',axis=1))"
   ]
  },
  {
   "cell_type": "code",
   "execution_count": 94,
   "metadata": {},
   "outputs": [
    {
     "data": {
      "text/html": [
       "<div>\n",
       "<style scoped>\n",
       "    .dataframe tbody tr th:only-of-type {\n",
       "        vertical-align: middle;\n",
       "    }\n",
       "\n",
       "    .dataframe tbody tr th {\n",
       "        vertical-align: top;\n",
       "    }\n",
       "\n",
       "    .dataframe thead th {\n",
       "        text-align: right;\n",
       "    }\n",
       "</style>\n",
       "<table border=\"1\" class=\"dataframe\">\n",
       "  <thead>\n",
       "    <tr style=\"text-align: right;\">\n",
       "      <th></th>\n",
       "      <th>ID</th>\n",
       "      <th>Label</th>\n",
       "    </tr>\n",
       "  </thead>\n",
       "  <tbody>\n",
       "    <tr>\n",
       "      <th>0</th>\n",
       "      <td>3337446730</td>\n",
       "      <td>0</td>\n",
       "    </tr>\n",
       "    <tr>\n",
       "      <th>1</th>\n",
       "      <td>7888784125</td>\n",
       "      <td>0</td>\n",
       "    </tr>\n",
       "    <tr>\n",
       "      <th>2</th>\n",
       "      <td>9871378905</td>\n",
       "      <td>2</td>\n",
       "    </tr>\n",
       "    <tr>\n",
       "      <th>3</th>\n",
       "      <td>8891869609</td>\n",
       "      <td>0</td>\n",
       "    </tr>\n",
       "    <tr>\n",
       "      <th>4</th>\n",
       "      <td>2006443827</td>\n",
       "      <td>0</td>\n",
       "    </tr>\n",
       "  </tbody>\n",
       "</table>\n",
       "</div>"
      ],
      "text/plain": [
       "           ID  Label\n",
       "0  3337446730      0\n",
       "1  7888784125      0\n",
       "2  9871378905      2\n",
       "3  8891869609      0\n",
       "4  2006443827      0"
      ]
     },
     "execution_count": 94,
     "metadata": {},
     "output_type": "execute_result"
    }
   ],
   "source": [
    "sub_df = pd.DataFrame(test_encoded['ID'])\n",
    "sub_df['Label'] = valx_pred\n",
    "sub_df.head()"
   ]
  },
  {
   "cell_type": "code",
   "execution_count": 95,
   "metadata": {},
   "outputs": [
    {
     "data": {
      "text/plain": [
       "0    374068\n",
       "2     55156\n",
       "1     26148\n",
       "3     12594\n",
       "Name: Label, dtype: int64"
      ]
     },
     "execution_count": 95,
     "metadata": {},
     "output_type": "execute_result"
    }
   ],
   "source": [
    "sub_df['Label'].value_counts()"
   ]
  },
  {
   "cell_type": "code",
   "execution_count": 96,
   "metadata": {},
   "outputs": [],
   "source": [
    "sub_df.to_csv('./output/sub_xgb_01.csv',index=False)"
   ]
  }
 ],
 "metadata": {
  "kernelspec": {
   "display_name": "Python 3.10.6 64-bit",
   "language": "python",
   "name": "python3"
  },
  "language_info": {
   "codemirror_mode": {
    "name": "ipython",
    "version": 3
   },
   "file_extension": ".py",
   "mimetype": "text/x-python",
   "name": "python",
   "nbconvert_exporter": "python",
   "pygments_lexer": "ipython3",
   "version": "3.10.6"
  },
  "orig_nbformat": 4,
  "vscode": {
   "interpreter": {
    "hash": "aee8b7b246df8f9039afb4144a1f6fd8d2ca17a180786b69acc140d282b71a49"
   }
  }
 },
 "nbformat": 4,
 "nbformat_minor": 2
}
