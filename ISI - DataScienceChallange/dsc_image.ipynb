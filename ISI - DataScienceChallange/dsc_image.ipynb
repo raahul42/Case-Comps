{
 "cells": [
  {
   "cell_type": "code",
   "execution_count": 33,
   "metadata": {},
   "outputs": [],
   "source": [
    "import pandas as pd \n",
    "import numpy as np \n",
    "import matplotlib.pyplot as plt\n",
    "import seaborn as sns\n",
    "\n",
    "from PIL import Image\n",
    "from sklearn.model_selection import train_test_split\n",
    "from sklearn.metrics import confusion_matrix, accuracy_score, classification_report\n",
    "\n",
    "import tensorflow as tf \n",
    "\n",
    "from decimal import  Decimal\n",
    "# import torch"
   ]
  },
  {
   "cell_type": "code",
   "execution_count": 2,
   "metadata": {},
   "outputs": [
    {
     "data": {
      "text/html": [
       "<div>\n",
       "<style scoped>\n",
       "    .dataframe tbody tr th:only-of-type {\n",
       "        vertical-align: middle;\n",
       "    }\n",
       "\n",
       "    .dataframe tbody tr th {\n",
       "        vertical-align: top;\n",
       "    }\n",
       "\n",
       "    .dataframe thead th {\n",
       "        text-align: right;\n",
       "    }\n",
       "</style>\n",
       "<table border=\"1\" class=\"dataframe\">\n",
       "  <thead>\n",
       "    <tr style=\"text-align: right;\">\n",
       "      <th></th>\n",
       "      <th>CID</th>\n",
       "      <th>Text</th>\n",
       "      <th>class</th>\n",
       "    </tr>\n",
       "  </thead>\n",
       "  <tbody>\n",
       "    <tr>\n",
       "      <th>0</th>\n",
       "      <td>0</td>\n",
       "      <td>3fa9e6ac4a36c66b8ca3887914c6c75b08dad9095f1d7a...</td>\n",
       "      <td>3</td>\n",
       "    </tr>\n",
       "    <tr>\n",
       "      <th>1</th>\n",
       "      <td>1</td>\n",
       "      <td>21b7f56f644f02d51ae82c9d50f69fad686319657712d4...</td>\n",
       "      <td>2</td>\n",
       "    </tr>\n",
       "    <tr>\n",
       "      <th>2</th>\n",
       "      <td>2</td>\n",
       "      <td>74203af11b8bbb1d31ac34e85f3076588fbbf2dcf1a4f7...</td>\n",
       "      <td>3</td>\n",
       "    </tr>\n",
       "    <tr>\n",
       "      <th>3</th>\n",
       "      <td>3</td>\n",
       "      <td>6b412e99f1dea02c124a90b5f2cf29496cb84f2b2b33a0...</td>\n",
       "      <td>1</td>\n",
       "    </tr>\n",
       "    <tr>\n",
       "      <th>4</th>\n",
       "      <td>4</td>\n",
       "      <td>5b84fb6fc7710b0e499394d9b406950d2436a118e2d867...</td>\n",
       "      <td>1</td>\n",
       "    </tr>\n",
       "    <tr>\n",
       "      <th>5</th>\n",
       "      <td>5</td>\n",
       "      <td>100c868cab4e21cbdd559c593b2bf54cdbf54c5ed0223f...</td>\n",
       "      <td>1</td>\n",
       "    </tr>\n",
       "    <tr>\n",
       "      <th>6</th>\n",
       "      <td>6</td>\n",
       "      <td>2b087feb3a6cff5c4811a7eff6e9024a761ef4b07f74f8...</td>\n",
       "      <td>3</td>\n",
       "    </tr>\n",
       "    <tr>\n",
       "      <th>7</th>\n",
       "      <td>7</td>\n",
       "      <td>4bbb5592368a4ed357737a0c2f7c037e8c78dde9e4864e...</td>\n",
       "      <td>2</td>\n",
       "    </tr>\n",
       "    <tr>\n",
       "      <th>8</th>\n",
       "      <td>8</td>\n",
       "      <td>b87c8b77909a35198fe8d44162fa0ca11607dbe03438b3...</td>\n",
       "      <td>3</td>\n",
       "    </tr>\n",
       "    <tr>\n",
       "      <th>9</th>\n",
       "      <td>9</td>\n",
       "      <td>6f4471459cd7232e9b8cc81315a11fabcce89edf152c8a...</td>\n",
       "      <td>0</td>\n",
       "    </tr>\n",
       "  </tbody>\n",
       "</table>\n",
       "</div>"
      ],
      "text/plain": [
       "   CID                                               Text  class\n",
       "0    0  3fa9e6ac4a36c66b8ca3887914c6c75b08dad9095f1d7a...      3\n",
       "1    1  21b7f56f644f02d51ae82c9d50f69fad686319657712d4...      2\n",
       "2    2  74203af11b8bbb1d31ac34e85f3076588fbbf2dcf1a4f7...      3\n",
       "3    3  6b412e99f1dea02c124a90b5f2cf29496cb84f2b2b33a0...      1\n",
       "4    4  5b84fb6fc7710b0e499394d9b406950d2436a118e2d867...      1\n",
       "5    5  100c868cab4e21cbdd559c593b2bf54cdbf54c5ed0223f...      1\n",
       "6    6  2b087feb3a6cff5c4811a7eff6e9024a761ef4b07f74f8...      3\n",
       "7    7  4bbb5592368a4ed357737a0c2f7c037e8c78dde9e4864e...      2\n",
       "8    8  b87c8b77909a35198fe8d44162fa0ca11607dbe03438b3...      3\n",
       "9    9  6f4471459cd7232e9b8cc81315a11fabcce89edf152c8a...      0"
      ]
     },
     "execution_count": 2,
     "metadata": {},
     "output_type": "execute_result"
    }
   ],
   "source": [
    "# data.to_pickle(\"./Data/pickled_TrainingData\")\n",
    "# data = pd.read_csv(\"./Data/TrainingData.csv\")\n",
    "data = pd.read_pickle(\"./Data/pickled_TrainingData\")\n",
    "data.head(10)"
   ]
  },
  {
   "cell_type": "code",
   "execution_count": 3,
   "metadata": {},
   "outputs": [
    {
     "data": {
      "text/html": [
       "<div>\n",
       "<style scoped>\n",
       "    .dataframe tbody tr th:only-of-type {\n",
       "        vertical-align: middle;\n",
       "    }\n",
       "\n",
       "    .dataframe tbody tr th {\n",
       "        vertical-align: top;\n",
       "    }\n",
       "\n",
       "    .dataframe thead th {\n",
       "        text-align: right;\n",
       "    }\n",
       "</style>\n",
       "<table border=\"1\" class=\"dataframe\">\n",
       "  <thead>\n",
       "    <tr style=\"text-align: right;\">\n",
       "      <th></th>\n",
       "      <th>Text</th>\n",
       "      <th>class</th>\n",
       "    </tr>\n",
       "  </thead>\n",
       "  <tbody>\n",
       "    <tr>\n",
       "      <th>0</th>\n",
       "      <td>3fa9e6ac4a36c66b8ca3887914c6c75b08dad9095f1d7a...</td>\n",
       "      <td>3</td>\n",
       "    </tr>\n",
       "    <tr>\n",
       "      <th>1</th>\n",
       "      <td>21b7f56f644f02d51ae82c9d50f69fad686319657712d4...</td>\n",
       "      <td>2</td>\n",
       "    </tr>\n",
       "    <tr>\n",
       "      <th>2</th>\n",
       "      <td>74203af11b8bbb1d31ac34e85f3076588fbbf2dcf1a4f7...</td>\n",
       "      <td>3</td>\n",
       "    </tr>\n",
       "    <tr>\n",
       "      <th>3</th>\n",
       "      <td>6b412e99f1dea02c124a90b5f2cf29496cb84f2b2b33a0...</td>\n",
       "      <td>1</td>\n",
       "    </tr>\n",
       "    <tr>\n",
       "      <th>4</th>\n",
       "      <td>5b84fb6fc7710b0e499394d9b406950d2436a118e2d867...</td>\n",
       "      <td>1</td>\n",
       "    </tr>\n",
       "    <tr>\n",
       "      <th>5</th>\n",
       "      <td>100c868cab4e21cbdd559c593b2bf54cdbf54c5ed0223f...</td>\n",
       "      <td>1</td>\n",
       "    </tr>\n",
       "    <tr>\n",
       "      <th>6</th>\n",
       "      <td>2b087feb3a6cff5c4811a7eff6e9024a761ef4b07f74f8...</td>\n",
       "      <td>3</td>\n",
       "    </tr>\n",
       "    <tr>\n",
       "      <th>7</th>\n",
       "      <td>4bbb5592368a4ed357737a0c2f7c037e8c78dde9e4864e...</td>\n",
       "      <td>2</td>\n",
       "    </tr>\n",
       "    <tr>\n",
       "      <th>8</th>\n",
       "      <td>b87c8b77909a35198fe8d44162fa0ca11607dbe03438b3...</td>\n",
       "      <td>3</td>\n",
       "    </tr>\n",
       "    <tr>\n",
       "      <th>9</th>\n",
       "      <td>6f4471459cd7232e9b8cc81315a11fabcce89edf152c8a...</td>\n",
       "      <td>0</td>\n",
       "    </tr>\n",
       "  </tbody>\n",
       "</table>\n",
       "</div>"
      ],
      "text/plain": [
       "                                                Text  class\n",
       "0  3fa9e6ac4a36c66b8ca3887914c6c75b08dad9095f1d7a...      3\n",
       "1  21b7f56f644f02d51ae82c9d50f69fad686319657712d4...      2\n",
       "2  74203af11b8bbb1d31ac34e85f3076588fbbf2dcf1a4f7...      3\n",
       "3  6b412e99f1dea02c124a90b5f2cf29496cb84f2b2b33a0...      1\n",
       "4  5b84fb6fc7710b0e499394d9b406950d2436a118e2d867...      1\n",
       "5  100c868cab4e21cbdd559c593b2bf54cdbf54c5ed0223f...      1\n",
       "6  2b087feb3a6cff5c4811a7eff6e9024a761ef4b07f74f8...      3\n",
       "7  4bbb5592368a4ed357737a0c2f7c037e8c78dde9e4864e...      2\n",
       "8  b87c8b77909a35198fe8d44162fa0ca11607dbe03438b3...      3\n",
       "9  6f4471459cd7232e9b8cc81315a11fabcce89edf152c8a...      0"
      ]
     },
     "execution_count": 3,
     "metadata": {},
     "output_type": "execute_result"
    }
   ],
   "source": [
    "df = data.drop(['CID'], axis=1)\n",
    "df.head(10)"
   ]
  },
  {
   "cell_type": "markdown",
   "metadata": {},
   "source": [
    "### Generating images"
   ]
  },
  {
   "cell_type": "code",
   "execution_count": 4,
   "metadata": {},
   "outputs": [],
   "source": [
    "import binascii\n",
    "data = df['Text'].iloc[0]\n",
    "data=data.strip()\n",
    "data=data.replace(' ', '')\n",
    "data=data.replace('\\n', '')\n",
    "data = binascii.a2b_hex(data)\n",
    "with open('image.jpg', 'wb') as image_file:\n",
    "    image_file.write(data)"
   ]
  },
  {
   "cell_type": "code",
   "execution_count": 56,
   "metadata": {},
   "outputs": [],
   "source": [
    "def hexToRGB(hexadecimal):\n",
    "    # convert a hex string to an array of RGB values\n",
    "    h = hexadecimal.lstrip('#')\n",
    "    return [int(h[i:i+2], 16) for i in (0, 2, 4)]"
   ]
  },
  {
   "cell_type": "code",
   "execution_count": 66,
   "metadata": {},
   "outputs": [],
   "source": [
    "sample_imageRGB = []\n",
    "i = 0\n",
    "while(i<=1997):\n",
    "    sample_imageRGB.append(hexToRGB(df['Text'].str[i:i+6].iloc[1000]))\n",
    "    i += 6"
   ]
  },
  {
   "cell_type": "code",
   "execution_count": 67,
   "metadata": {},
   "outputs": [
    {
     "data": {
      "image/png": "[encoded data removed]",
      "text/plain": [
       "<PIL.Image.Image image mode=RGB size=9x37>"
      ]
     },
     "execution_count": 67,
     "metadata": {},
     "output_type": "execute_result"
    }
   ],
   "source": [
    "imageRGB = np.asarray(sample_imageRGB).reshape((37,9,3))\n",
    "img = Image.fromarray(imageRGB, 'RGB')\n",
    "img"
   ]
  },
  {
   "cell_type": "markdown",
   "metadata": {},
   "source": [
    "### Train Test Split"
   ]
  },
  {
   "cell_type": "code",
   "execution_count": 65,
   "metadata": {},
   "outputs": [],
   "source": [
    "X = new_df.drop('label',axis=1)\n",
    "y = new_df['label']\n",
    "\n",
    "X_train, X_test, y_train, y_test = train_test_split(np.asarray(X).astype('float32'), np.asarray(y).astype('float32'), test_size=0.3, random_state=42)\n",
    "\n",
    "y_train = tf.keras.utils.to_categorical(y_train, num_classes=4)\n",
    "y_test = tf.keras.utils.to_categorical(y_test, num_classes=4)"
   ]
  },
  {
   "cell_type": "markdown",
   "metadata": {},
   "source": [
    "### DL Model"
   ]
  },
  {
   "cell_type": "code",
   "execution_count": 30,
   "metadata": {},
   "outputs": [],
   "source": [
    "from keras.models import Sequential \n",
    "from keras.layers import Dense"
   ]
  },
  {
   "cell_type": "code",
   "execution_count": 101,
   "metadata": {},
   "outputs": [],
   "source": [
    "classifier = Sequential()\n",
    "\n",
    "classifier.add(Dense(units = 500, kernel_initializer = 'uniform', activation = 'tanh', input_dim = 100))\n",
    "classifier.add(Dense(units = 400, kernel_initializer = 'uniform', activation = 'tanh'))\n",
    "classifier.add(Dense(units = 300, kernel_initializer = 'uniform', activation = 'tanh'))\n",
    "classifier.add(Dense(units = 200, kernel_initializer = 'uniform', activation = 'tanh'))\n",
    "classifier.add(Dense(units = 100, kernel_initializer = 'uniform', activation = 'tanh'))\n",
    "classifier.add(Dense(units = 90, kernel_initializer = 'uniform', activation = 'tanh'))\n",
    "classifier.add(Dense(units = 80, kernel_initializer = 'uniform', activation = 'tanh'))\n",
    "classifier.add(Dense(units = 60, kernel_initializer = 'uniform', activation = 'tanh'))\n",
    "classifier.add(Dense(units = 40, kernel_initializer = 'uniform', activation = 'tanh'))\n",
    "classifier.add(Dense(units = 20, kernel_initializer = 'uniform', activation = 'tanh'))\n",
    "classifier.add(Dense(units = 10, kernel_initializer = 'uniform', activation = 'tanh'))\n",
    "\n",
    "classifier.add(Dense(units = 4, activation = 'softmax'))"
   ]
  },
  {
   "cell_type": "code",
   "execution_count": 102,
   "metadata": {},
   "outputs": [
    {
     "name": "stdout",
     "output_type": "stream",
     "text": [
      "Epoch 1/10\n",
      "5600/5600 [==============================] - 12s 2ms/step - loss: 1.3867 - accuracy: 0.2501\n",
      "Epoch 2/10\n",
      "5600/5600 [==============================] - 11s 2ms/step - loss: 1.3865 - accuracy: 0.2528\n",
      "Epoch 3/10\n",
      "5600/5600 [==============================] - 11s 2ms/step - loss: 1.3865 - accuracy: 0.2486\n",
      "Epoch 4/10\n",
      "5600/5600 [==============================] - 11s 2ms/step - loss: 1.3865 - accuracy: 0.2511\n",
      "Epoch 5/10\n",
      "5600/5600 [==============================] - 11s 2ms/step - loss: 1.3865 - accuracy: 0.2518\n",
      "Epoch 6/10\n",
      "5600/5600 [==============================] - 11s 2ms/step - loss: 1.3866 - accuracy: 0.2477\n",
      "Epoch 7/10\n",
      "5600/5600 [==============================] - 11s 2ms/step - loss: 1.3865 - accuracy: 0.2499\n",
      "Epoch 8/10\n",
      "5600/5600 [==============================] - 11s 2ms/step - loss: 1.3865 - accuracy: 0.2515\n",
      "Epoch 9/10\n",
      "5600/5600 [==============================] - 11s 2ms/step - loss: 1.3866 - accuracy: 0.2506\n",
      "Epoch 10/10\n",
      "5600/5600 [==============================] - 11s 2ms/step - loss: 1.3865 - accuracy: 0.2490\n",
      "750/750 [==============================] - 1s 791us/step\n"
     ]
    }
   ],
   "source": [
    "classifier.compile(optimizer = 'adam', loss = 'categorical_crossentropy', metrics = ['accuracy'])\n",
    "classifier.fit(X_train, y_train, batch_size = 50, epochs = 10)\n",
    "\n",
    "y_pred = classifier.predict(X_test)\n",
    "# y_pred = (y_pred > 0.5)\n"
   ]
  },
  {
   "cell_type": "code",
   "execution_count": 107,
   "metadata": {},
   "outputs": [
    {
     "name": "stdout",
     "output_type": "stream",
     "text": [
      "[[   0 6032    0    0]\n",
      " [   0 5950    0    0]\n",
      " [   0 5993    0    0]\n",
      " [   0 6025    0    0]]\n"
     ]
    }
   ],
   "source": [
    "print(confusion_matrix(y_test.argmax(axis=1), y_pred.argmax(axis=1)))"
   ]
  },
  {
   "cell_type": "code",
   "execution_count": 104,
   "metadata": {},
   "outputs": [
    {
     "data": {
      "text/plain": [
       "array([[0.24794415, 0.25443932, 0.24746491, 0.25015157],\n",
       "       [0.24794415, 0.25443932, 0.24746491, 0.25015157],\n",
       "       [0.24794415, 0.25443932, 0.24746491, 0.25015157],\n",
       "       ...,\n",
       "       [0.24794415, 0.25443932, 0.24746491, 0.25015157],\n",
       "       [0.24794415, 0.25443932, 0.24746491, 0.25015157],\n",
       "       [0.24794415, 0.25443932, 0.24746491, 0.25015157]], dtype=float32)"
      ]
     },
     "execution_count": 104,
     "metadata": {},
     "output_type": "execute_result"
    }
   ],
   "source": [
    "y_pred"
   ]
  },
  {
   "cell_type": "code",
   "execution_count": null,
   "metadata": {},
   "outputs": [],
   "source": []
  }
 ],
 "metadata": {
  "kernelspec": {
   "display_name": "Python 3.9.13 ('base')",
   "language": "python",
   "name": "python3"
  },
  "language_info": {
   "codemirror_mode": {
    "name": "ipython",
    "version": 3
   },
   "file_extension": ".py",
   "mimetype": "text/x-python",
   "name": "python",
   "nbconvert_exporter": "python",
   "pygments_lexer": "ipython3",
   "version": "3.9.13"
  },
  "orig_nbformat": 4,
  "vscode": {
   "interpreter": {
    "hash": "0358c39bdd647a8bed1ed632bed6fcc36e4a102b6b3475b08ffa591b497909b0"
   }
  }
 },
 "nbformat": 4,
 "nbformat_minor": 2
}
