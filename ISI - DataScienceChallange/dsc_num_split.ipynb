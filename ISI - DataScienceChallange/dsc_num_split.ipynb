{
 "cells": [
  {
   "cell_type": "code",
   "execution_count": 2,
   "metadata": {},
   "outputs": [],
   "source": [
    "import pandas as pd \n",
    "import numpy as np \n",
    "import matplotlib.pyplot as plt\n",
    "import seaborn as sns\n",
    "\n",
    "from sklearn.model_selection import train_test_split\n",
    "from sklearn.metrics import confusion_matrix, accuracy_score, classification_report\n",
    "\n",
    "import tensorflow as tf \n",
    "\n",
    "from decimal import  Decimal\n",
    "# import torch"
   ]
  },
  {
   "cell_type": "code",
   "execution_count": 3,
   "metadata": {},
   "outputs": [
    {
     "data": {
      "text/html": [
       "<div>\n",
       "<style scoped>\n",
       "    .dataframe tbody tr th:only-of-type {\n",
       "        vertical-align: middle;\n",
       "    }\n",
       "\n",
       "    .dataframe tbody tr th {\n",
       "        vertical-align: top;\n",
       "    }\n",
       "\n",
       "    .dataframe thead th {\n",
       "        text-align: right;\n",
       "    }\n",
       "</style>\n",
       "<table border=\"1\" class=\"dataframe\">\n",
       "  <thead>\n",
       "    <tr style=\"text-align: right;\">\n",
       "      <th></th>\n",
       "      <th>CID</th>\n",
       "      <th>Text</th>\n",
       "      <th>class</th>\n",
       "    </tr>\n",
       "  </thead>\n",
       "  <tbody>\n",
       "    <tr>\n",
       "      <th>0</th>\n",
       "      <td>0</td>\n",
       "      <td>3fa9e6ac4a36c66b8ca3887914c6c75b08dad9095f1d7a...</td>\n",
       "      <td>3</td>\n",
       "    </tr>\n",
       "    <tr>\n",
       "      <th>1</th>\n",
       "      <td>1</td>\n",
       "      <td>21b7f56f644f02d51ae82c9d50f69fad686319657712d4...</td>\n",
       "      <td>2</td>\n",
       "    </tr>\n",
       "    <tr>\n",
       "      <th>2</th>\n",
       "      <td>2</td>\n",
       "      <td>74203af11b8bbb1d31ac34e85f3076588fbbf2dcf1a4f7...</td>\n",
       "      <td>3</td>\n",
       "    </tr>\n",
       "    <tr>\n",
       "      <th>3</th>\n",
       "      <td>3</td>\n",
       "      <td>6b412e99f1dea02c124a90b5f2cf29496cb84f2b2b33a0...</td>\n",
       "      <td>1</td>\n",
       "    </tr>\n",
       "    <tr>\n",
       "      <th>4</th>\n",
       "      <td>4</td>\n",
       "      <td>5b84fb6fc7710b0e499394d9b406950d2436a118e2d867...</td>\n",
       "      <td>1</td>\n",
       "    </tr>\n",
       "    <tr>\n",
       "      <th>5</th>\n",
       "      <td>5</td>\n",
       "      <td>100c868cab4e21cbdd559c593b2bf54cdbf54c5ed0223f...</td>\n",
       "      <td>1</td>\n",
       "    </tr>\n",
       "    <tr>\n",
       "      <th>6</th>\n",
       "      <td>6</td>\n",
       "      <td>2b087feb3a6cff5c4811a7eff6e9024a761ef4b07f74f8...</td>\n",
       "      <td>3</td>\n",
       "    </tr>\n",
       "    <tr>\n",
       "      <th>7</th>\n",
       "      <td>7</td>\n",
       "      <td>4bbb5592368a4ed357737a0c2f7c037e8c78dde9e4864e...</td>\n",
       "      <td>2</td>\n",
       "    </tr>\n",
       "    <tr>\n",
       "      <th>8</th>\n",
       "      <td>8</td>\n",
       "      <td>b87c8b77909a35198fe8d44162fa0ca11607dbe03438b3...</td>\n",
       "      <td>3</td>\n",
       "    </tr>\n",
       "    <tr>\n",
       "      <th>9</th>\n",
       "      <td>9</td>\n",
       "      <td>6f4471459cd7232e9b8cc81315a11fabcce89edf152c8a...</td>\n",
       "      <td>0</td>\n",
       "    </tr>\n",
       "  </tbody>\n",
       "</table>\n",
       "</div>"
      ],
      "text/plain": [
       "   CID                                               Text  class\n",
       "0    0  3fa9e6ac4a36c66b8ca3887914c6c75b08dad9095f1d7a...      3\n",
       "1    1  21b7f56f644f02d51ae82c9d50f69fad686319657712d4...      2\n",
       "2    2  74203af11b8bbb1d31ac34e85f3076588fbbf2dcf1a4f7...      3\n",
       "3    3  6b412e99f1dea02c124a90b5f2cf29496cb84f2b2b33a0...      1\n",
       "4    4  5b84fb6fc7710b0e499394d9b406950d2436a118e2d867...      1\n",
       "5    5  100c868cab4e21cbdd559c593b2bf54cdbf54c5ed0223f...      1\n",
       "6    6  2b087feb3a6cff5c4811a7eff6e9024a761ef4b07f74f8...      3\n",
       "7    7  4bbb5592368a4ed357737a0c2f7c037e8c78dde9e4864e...      2\n",
       "8    8  b87c8b77909a35198fe8d44162fa0ca11607dbe03438b3...      3\n",
       "9    9  6f4471459cd7232e9b8cc81315a11fabcce89edf152c8a...      0"
      ]
     },
     "execution_count": 3,
     "metadata": {},
     "output_type": "execute_result"
    }
   ],
   "source": [
    "# data.to_pickle(\"./Data/pickled_TrainingData\")\n",
    "# data = pd.read_csv(\"./Data/TrainingData.csv\")\n",
    "data = pd.read_pickle(\"./Data/pickled_TrainingData\")\n",
    "data.head(10)"
   ]
  },
  {
   "cell_type": "code",
   "execution_count": 4,
   "metadata": {},
   "outputs": [
    {
     "name": "stdout",
     "output_type": "stream",
     "text": [
      "<class 'pandas.core.frame.DataFrame'>\n",
      "RangeIndex: 80000 entries, 0 to 79999\n",
      "Data columns (total 3 columns):\n",
      " #   Column  Non-Null Count  Dtype \n",
      "---  ------  --------------  ----- \n",
      " 0   CID     80000 non-null  int64 \n",
      " 1   Text    80000 non-null  object\n",
      " 2   class   80000 non-null  int64 \n",
      "dtypes: int64(2), object(1)\n",
      "memory usage: 1.8+ MB\n"
     ]
    }
   ],
   "source": [
    "data.info()"
   ]
  },
  {
   "cell_type": "code",
   "execution_count": 5,
   "metadata": {},
   "outputs": [
    {
     "data": {
      "text/plain": [
       "0    20048\n",
       "1    20020\n",
       "2    19970\n",
       "3    19962\n",
       "Name: class, dtype: int64"
      ]
     },
     "execution_count": 5,
     "metadata": {},
     "output_type": "execute_result"
    }
   ],
   "source": [
    "data[\"class\"].value_counts()"
   ]
  },
  {
   "cell_type": "code",
   "execution_count": 6,
   "metadata": {},
   "outputs": [
    {
     "data": {
      "text/plain": [
       "79848"
      ]
     },
     "execution_count": 6,
     "metadata": {},
     "output_type": "execute_result"
    }
   ],
   "source": [
    "data['Text'].nunique()"
   ]
  },
  {
   "cell_type": "code",
   "execution_count": 7,
   "metadata": {},
   "outputs": [],
   "source": [
    "# data['Text Len'] = data['Text'].apply(lambda x : len(x))\n",
    "# data['Text Len'].unique()"
   ]
  },
  {
   "cell_type": "code",
   "execution_count": 8,
   "metadata": {},
   "outputs": [],
   "source": [
    "# data['Decimal'] = data['Text'].apply(lambda x : Decimal(int(x,16)))"
   ]
  },
  {
   "cell_type": "code",
   "execution_count": 9,
   "metadata": {},
   "outputs": [
    {
     "data": {
      "text/html": [
       "<div>\n",
       "<style scoped>\n",
       "    .dataframe tbody tr th:only-of-type {\n",
       "        vertical-align: middle;\n",
       "    }\n",
       "\n",
       "    .dataframe tbody tr th {\n",
       "        vertical-align: top;\n",
       "    }\n",
       "\n",
       "    .dataframe thead th {\n",
       "        text-align: right;\n",
       "    }\n",
       "</style>\n",
       "<table border=\"1\" class=\"dataframe\">\n",
       "  <thead>\n",
       "    <tr style=\"text-align: right;\">\n",
       "      <th></th>\n",
       "      <th>Text</th>\n",
       "      <th>class</th>\n",
       "    </tr>\n",
       "  </thead>\n",
       "  <tbody>\n",
       "    <tr>\n",
       "      <th>0</th>\n",
       "      <td>3fa9e6ac4a36c66b8ca3887914c6c75b08dad9095f1d7a...</td>\n",
       "      <td>3</td>\n",
       "    </tr>\n",
       "    <tr>\n",
       "      <th>1</th>\n",
       "      <td>21b7f56f644f02d51ae82c9d50f69fad686319657712d4...</td>\n",
       "      <td>2</td>\n",
       "    </tr>\n",
       "    <tr>\n",
       "      <th>2</th>\n",
       "      <td>74203af11b8bbb1d31ac34e85f3076588fbbf2dcf1a4f7...</td>\n",
       "      <td>3</td>\n",
       "    </tr>\n",
       "    <tr>\n",
       "      <th>3</th>\n",
       "      <td>6b412e99f1dea02c124a90b5f2cf29496cb84f2b2b33a0...</td>\n",
       "      <td>1</td>\n",
       "    </tr>\n",
       "    <tr>\n",
       "      <th>4</th>\n",
       "      <td>5b84fb6fc7710b0e499394d9b406950d2436a118e2d867...</td>\n",
       "      <td>1</td>\n",
       "    </tr>\n",
       "    <tr>\n",
       "      <th>5</th>\n",
       "      <td>100c868cab4e21cbdd559c593b2bf54cdbf54c5ed0223f...</td>\n",
       "      <td>1</td>\n",
       "    </tr>\n",
       "    <tr>\n",
       "      <th>6</th>\n",
       "      <td>2b087feb3a6cff5c4811a7eff6e9024a761ef4b07f74f8...</td>\n",
       "      <td>3</td>\n",
       "    </tr>\n",
       "    <tr>\n",
       "      <th>7</th>\n",
       "      <td>4bbb5592368a4ed357737a0c2f7c037e8c78dde9e4864e...</td>\n",
       "      <td>2</td>\n",
       "    </tr>\n",
       "    <tr>\n",
       "      <th>8</th>\n",
       "      <td>b87c8b77909a35198fe8d44162fa0ca11607dbe03438b3...</td>\n",
       "      <td>3</td>\n",
       "    </tr>\n",
       "    <tr>\n",
       "      <th>9</th>\n",
       "      <td>6f4471459cd7232e9b8cc81315a11fabcce89edf152c8a...</td>\n",
       "      <td>0</td>\n",
       "    </tr>\n",
       "  </tbody>\n",
       "</table>\n",
       "</div>"
      ],
      "text/plain": [
       "                                                Text  class\n",
       "0  3fa9e6ac4a36c66b8ca3887914c6c75b08dad9095f1d7a...      3\n",
       "1  21b7f56f644f02d51ae82c9d50f69fad686319657712d4...      2\n",
       "2  74203af11b8bbb1d31ac34e85f3076588fbbf2dcf1a4f7...      3\n",
       "3  6b412e99f1dea02c124a90b5f2cf29496cb84f2b2b33a0...      1\n",
       "4  5b84fb6fc7710b0e499394d9b406950d2436a118e2d867...      1\n",
       "5  100c868cab4e21cbdd559c593b2bf54cdbf54c5ed0223f...      1\n",
       "6  2b087feb3a6cff5c4811a7eff6e9024a761ef4b07f74f8...      3\n",
       "7  4bbb5592368a4ed357737a0c2f7c037e8c78dde9e4864e...      2\n",
       "8  b87c8b77909a35198fe8d44162fa0ca11607dbe03438b3...      3\n",
       "9  6f4471459cd7232e9b8cc81315a11fabcce89edf152c8a...      0"
      ]
     },
     "execution_count": 9,
     "metadata": {},
     "output_type": "execute_result"
    }
   ],
   "source": [
    "df = data.drop(['CID'], axis=1)\n",
    "df.head(10)"
   ]
  },
  {
   "cell_type": "code",
   "execution_count": 10,
   "metadata": {},
   "outputs": [],
   "source": [
    "# df['Decimal'].iloc[0]/(10**2405)"
   ]
  },
  {
   "cell_type": "code",
   "execution_count": 11,
   "metadata": {},
   "outputs": [
    {
     "data": {
      "text/plain": [
       "2000"
      ]
     },
     "execution_count": 11,
     "metadata": {},
     "output_type": "execute_result"
    }
   ],
   "source": [
    "len(df['Text'].iloc[0])"
   ]
  },
  {
   "cell_type": "code",
   "execution_count": 12,
   "metadata": {},
   "outputs": [],
   "source": [
    "new_df = pd.DataFrame()"
   ]
  },
  {
   "cell_type": "code",
   "execution_count": 13,
   "metadata": {},
   "outputs": [
    {
     "data": {
      "text/plain": [
       "0    3fa9e\n",
       "1    21b7f\n",
       "2    74203\n",
       "3    6b412\n",
       "4    5b84f\n",
       "Name: Text, dtype: object"
      ]
     },
     "execution_count": 13,
     "metadata": {},
     "output_type": "execute_result"
    }
   ],
   "source": [
    "df['Text'].str[:5][:5]"
   ]
  },
  {
   "cell_type": "code",
   "execution_count": 14,
   "metadata": {},
   "outputs": [],
   "source": [
    "i = 0\n",
    "while(i<=1997):\n",
    "    new_df[str(i)+'_'+str(18+i)] = df['Text'].str[i:18+i].apply(lambda x : int(x,16))\n",
    "    i += 20"
   ]
  },
  {
   "cell_type": "code",
   "execution_count": 15,
   "metadata": {},
   "outputs": [
    {
     "name": "stdout",
     "output_type": "stream",
     "text": [
      "<class 'pandas.core.frame.DataFrame'>\n",
      "RangeIndex: 80000 entries, 0 to 79999\n",
      "Data columns (total 100 columns):\n",
      " #   Column     Non-Null Count  Dtype \n",
      "---  ------     --------------  ----- \n",
      " 0   0_18       80000 non-null  object\n",
      " 1   20_38      80000 non-null  object\n",
      " 2   40_58      80000 non-null  object\n",
      " 3   60_78      80000 non-null  object\n",
      " 4   80_98      80000 non-null  object\n",
      " 5   100_118    80000 non-null  object\n",
      " 6   120_138    80000 non-null  object\n",
      " 7   140_158    80000 non-null  object\n",
      " 8   160_178    80000 non-null  object\n",
      " 9   180_198    80000 non-null  object\n",
      " 10  200_218    80000 non-null  object\n",
      " 11  220_238    80000 non-null  object\n",
      " 12  240_258    80000 non-null  object\n",
      " 13  260_278    80000 non-null  object\n",
      " 14  280_298    80000 non-null  object\n",
      " 15  300_318    80000 non-null  object\n",
      " 16  320_338    80000 non-null  object\n",
      " 17  340_358    80000 non-null  object\n",
      " 18  360_378    80000 non-null  object\n",
      " 19  380_398    80000 non-null  object\n",
      " 20  400_418    80000 non-null  object\n",
      " 21  420_438    80000 non-null  object\n",
      " 22  440_458    80000 non-null  object\n",
      " 23  460_478    80000 non-null  object\n",
      " 24  480_498    80000 non-null  object\n",
      " 25  500_518    80000 non-null  object\n",
      " 26  520_538    80000 non-null  object\n",
      " 27  540_558    80000 non-null  object\n",
      " 28  560_578    80000 non-null  object\n",
      " 29  580_598    80000 non-null  object\n",
      " 30  600_618    80000 non-null  object\n",
      " 31  620_638    80000 non-null  object\n",
      " 32  640_658    80000 non-null  object\n",
      " 33  660_678    80000 non-null  object\n",
      " 34  680_698    80000 non-null  object\n",
      " 35  700_718    80000 non-null  object\n",
      " 36  720_738    80000 non-null  object\n",
      " 37  740_758    80000 non-null  object\n",
      " 38  760_778    80000 non-null  object\n",
      " 39  780_798    80000 non-null  object\n",
      " 40  800_818    80000 non-null  object\n",
      " 41  820_838    80000 non-null  object\n",
      " 42  840_858    80000 non-null  object\n",
      " 43  860_878    80000 non-null  object\n",
      " 44  880_898    80000 non-null  object\n",
      " 45  900_918    80000 non-null  object\n",
      " 46  920_938    80000 non-null  object\n",
      " 47  940_958    80000 non-null  object\n",
      " 48  960_978    80000 non-null  object\n",
      " 49  980_998    80000 non-null  object\n",
      " 50  1000_1018  80000 non-null  object\n",
      " 51  1020_1038  80000 non-null  object\n",
      " 52  1040_1058  80000 non-null  object\n",
      " 53  1060_1078  80000 non-null  object\n",
      " 54  1080_1098  80000 non-null  object\n",
      " 55  1100_1118  80000 non-null  object\n",
      " 56  1120_1138  80000 non-null  object\n",
      " 57  1140_1158  80000 non-null  object\n",
      " 58  1160_1178  80000 non-null  object\n",
      " 59  1180_1198  80000 non-null  object\n",
      " 60  1200_1218  80000 non-null  object\n",
      " 61  1220_1238  80000 non-null  object\n",
      " 62  1240_1258  80000 non-null  object\n",
      " 63  1260_1278  80000 non-null  object\n",
      " 64  1280_1298  80000 non-null  object\n",
      " 65  1300_1318  80000 non-null  object\n",
      " 66  1320_1338  80000 non-null  object\n",
      " 67  1340_1358  80000 non-null  object\n",
      " 68  1360_1378  80000 non-null  object\n",
      " 69  1380_1398  80000 non-null  object\n",
      " 70  1400_1418  80000 non-null  object\n",
      " 71  1420_1438  80000 non-null  object\n",
      " 72  1440_1458  80000 non-null  object\n",
      " 73  1460_1478  80000 non-null  object\n",
      " 74  1480_1498  80000 non-null  object\n",
      " 75  1500_1518  80000 non-null  object\n",
      " 76  1520_1538  80000 non-null  object\n",
      " 77  1540_1558  80000 non-null  object\n",
      " 78  1560_1578  80000 non-null  object\n",
      " 79  1580_1598  80000 non-null  object\n",
      " 80  1600_1618  80000 non-null  object\n",
      " 81  1620_1638  80000 non-null  object\n",
      " 82  1640_1658  80000 non-null  object\n",
      " 83  1660_1678  80000 non-null  object\n",
      " 84  1680_1698  80000 non-null  object\n",
      " 85  1700_1718  80000 non-null  object\n",
      " 86  1720_1738  80000 non-null  object\n",
      " 87  1740_1758  80000 non-null  object\n",
      " 88  1760_1778  80000 non-null  object\n",
      " 89  1780_1798  80000 non-null  object\n",
      " 90  1800_1818  80000 non-null  object\n",
      " 91  1820_1838  80000 non-null  object\n",
      " 92  1840_1858  80000 non-null  object\n",
      " 93  1860_1878  80000 non-null  object\n",
      " 94  1880_1898  80000 non-null  object\n",
      " 95  1900_1918  80000 non-null  object\n",
      " 96  1920_1938  80000 non-null  object\n",
      " 97  1940_1958  80000 non-null  object\n",
      " 98  1960_1978  80000 non-null  object\n",
      " 99  1980_1998  80000 non-null  object\n",
      "dtypes: object(100)\n",
      "memory usage: 61.0+ MB\n"
     ]
    }
   ],
   "source": [
    "new_df.info()"
   ]
  },
  {
   "cell_type": "code",
   "execution_count": 24,
   "metadata": {},
   "outputs": [
    {
     "data": {
      "text/html": [
       "<div>\n",
       "<style scoped>\n",
       "    .dataframe tbody tr th:only-of-type {\n",
       "        vertical-align: middle;\n",
       "    }\n",
       "\n",
       "    .dataframe tbody tr th {\n",
       "        vertical-align: top;\n",
       "    }\n",
       "\n",
       "    .dataframe thead th {\n",
       "        text-align: right;\n",
       "    }\n",
       "</style>\n",
       "<table border=\"1\" class=\"dataframe\">\n",
       "  <thead>\n",
       "    <tr style=\"text-align: right;\">\n",
       "      <th></th>\n",
       "      <th>0_18</th>\n",
       "      <th>20_38</th>\n",
       "      <th>40_58</th>\n",
       "      <th>60_78</th>\n",
       "      <th>80_98</th>\n",
       "      <th>100_118</th>\n",
       "      <th>120_138</th>\n",
       "      <th>140_158</th>\n",
       "      <th>160_178</th>\n",
       "      <th>180_198</th>\n",
       "      <th>...</th>\n",
       "      <th>1820_1838</th>\n",
       "      <th>1840_1858</th>\n",
       "      <th>1860_1878</th>\n",
       "      <th>1880_1898</th>\n",
       "      <th>1900_1918</th>\n",
       "      <th>1920_1938</th>\n",
       "      <th>1940_1958</th>\n",
       "      <th>1960_1978</th>\n",
       "      <th>1980_1998</th>\n",
       "      <th>label</th>\n",
       "    </tr>\n",
       "  </thead>\n",
       "  <tbody>\n",
       "    <tr>\n",
       "      <th>0</th>\n",
       "      <td>1174387538715501554572</td>\n",
       "      <td>2517482010962150611673</td>\n",
       "      <td>1754564709374236950580</td>\n",
       "      <td>2011423764916358737277</td>\n",
       "      <td>3309137269253643811931</td>\n",
       "      <td>4711661485283965323863</td>\n",
       "      <td>2637194709035841391957</td>\n",
       "      <td>3071050719241934349966</td>\n",
       "      <td>2370558330344629999283</td>\n",
       "      <td>235626377026497747258</td>\n",
       "      <td>...</td>\n",
       "      <td>3183371276587968459919</td>\n",
       "      <td>2388183159638022278621</td>\n",
       "      <td>689161408604333275123</td>\n",
       "      <td>2187161150259881967611</td>\n",
       "      <td>4132491864550671574633</td>\n",
       "      <td>3285388285830656705419</td>\n",
       "      <td>55438616183495358478</td>\n",
       "      <td>3812627068413044718922</td>\n",
       "      <td>1316424663448686494011</td>\n",
       "      <td>3</td>\n",
       "    </tr>\n",
       "    <tr>\n",
       "      <th>1</th>\n",
       "      <td>621998177987263124762</td>\n",
       "      <td>822992570670981341977</td>\n",
       "      <td>2196519340388085896661</td>\n",
       "      <td>2991729701945849933535</td>\n",
       "      <td>2469394833247028738503</td>\n",
       "      <td>2275916708419479016632</td>\n",
       "      <td>2938560933347170988955</td>\n",
       "      <td>1958150446625914300659</td>\n",
       "      <td>2685293912844441057040</td>\n",
       "      <td>2996471617131709540040</td>\n",
       "      <td>...</td>\n",
       "      <td>2406875528055322590430</td>\n",
       "      <td>1154588136794546935906</td>\n",
       "      <td>3474575477775397314140</td>\n",
       "      <td>1820855275549529229449</td>\n",
       "      <td>1107492220024238346779</td>\n",
       "      <td>2346447455019759978982</td>\n",
       "      <td>3791574336824024490012</td>\n",
       "      <td>4133242031235392159836</td>\n",
       "      <td>4587152035580429674873</td>\n",
       "      <td>2</td>\n",
       "    </tr>\n",
       "    <tr>\n",
       "      <th>2</th>\n",
       "      <td>2142144746208781606193</td>\n",
       "      <td>975974847057333566450</td>\n",
       "      <td>4457552558342076699884</td>\n",
       "      <td>1872097980463690968322</td>\n",
       "      <td>580469189005122871727</td>\n",
       "      <td>3374188637401805330623</td>\n",
       "      <td>2174173164555334174955</td>\n",
       "      <td>4155498018927972639395</td>\n",
       "      <td>2615121233526351839089</td>\n",
       "      <td>3144794623269201099218</td>\n",
       "      <td>...</td>\n",
       "      <td>4463765848231655546792</td>\n",
       "      <td>4008441656227885382104</td>\n",
       "      <td>2092251949141543976095</td>\n",
       "      <td>995157118279836661976</td>\n",
       "      <td>482708942680299208057</td>\n",
       "      <td>2739500373841571502816</td>\n",
       "      <td>3714487502406291384077</td>\n",
       "      <td>504837335454242487987</td>\n",
       "      <td>1677320467643148316050</td>\n",
       "      <td>3</td>\n",
       "    </tr>\n",
       "    <tr>\n",
       "      <th>3</th>\n",
       "      <td>1978498476612417235986</td>\n",
       "      <td>2669441915855636838479</td>\n",
       "      <td>796930000458717630341</td>\n",
       "      <td>675995121474669380804</td>\n",
       "      <td>1887817792239957777733</td>\n",
       "      <td>3489660418368716797118</td>\n",
       "      <td>2811467167865376361965</td>\n",
       "      <td>2074319928613950632475</td>\n",
       "      <td>4002501207155931332150</td>\n",
       "      <td>1114525386803370395668</td>\n",
       "      <td>...</td>\n",
       "      <td>3231679587936656833368</td>\n",
       "      <td>2695538525542696743636</td>\n",
       "      <td>1489286687957619373990</td>\n",
       "      <td>1347058672114247726353</td>\n",
       "      <td>2502130643029872620105</td>\n",
       "      <td>1439749815282087310920</td>\n",
       "      <td>3058510048590310227472</td>\n",
       "      <td>3955910120191937894580</td>\n",
       "      <td>3748551112390420417919</td>\n",
       "      <td>1</td>\n",
       "    </tr>\n",
       "    <tr>\n",
       "      <th>4</th>\n",
       "      <td>1688236086242115784265</td>\n",
       "      <td>2745805293548292290209</td>\n",
       "      <td>4184557736668929965980</td>\n",
       "      <td>4031324779903761756416</td>\n",
       "      <td>4272186438313128939265</td>\n",
       "      <td>1202654761555887596485</td>\n",
       "      <td>4042256879128843153452</td>\n",
       "      <td>4543472916943652554101</td>\n",
       "      <td>1148943157007226580074</td>\n",
       "      <td>2392806385667591983355</td>\n",
       "      <td>...</td>\n",
       "      <td>4460034125568607306776</td>\n",
       "      <td>214384210614710818865</td>\n",
       "      <td>2841188869828719380750</td>\n",
       "      <td>2226610454999826938375</td>\n",
       "      <td>4318539874686689610205</td>\n",
       "      <td>3983161425418981312730</td>\n",
       "      <td>849185892951359646939</td>\n",
       "      <td>3199643796617003491667</td>\n",
       "      <td>3289582972247404910695</td>\n",
       "      <td>1</td>\n",
       "    </tr>\n",
       "  </tbody>\n",
       "</table>\n",
       "<p>5 rows × 101 columns</p>\n",
       "</div>"
      ],
      "text/plain": [
       "                     0_18                   20_38                   40_58  \\\n",
       "0  1174387538715501554572  2517482010962150611673  1754564709374236950580   \n",
       "1   621998177987263124762   822992570670981341977  2196519340388085896661   \n",
       "2  2142144746208781606193   975974847057333566450  4457552558342076699884   \n",
       "3  1978498476612417235986  2669441915855636838479   796930000458717630341   \n",
       "4  1688236086242115784265  2745805293548292290209  4184557736668929965980   \n",
       "\n",
       "                    60_78                   80_98                 100_118  \\\n",
       "0  2011423764916358737277  3309137269253643811931  4711661485283965323863   \n",
       "1  2991729701945849933535  2469394833247028738503  2275916708419479016632   \n",
       "2  1872097980463690968322   580469189005122871727  3374188637401805330623   \n",
       "3   675995121474669380804  1887817792239957777733  3489660418368716797118   \n",
       "4  4031324779903761756416  4272186438313128939265  1202654761555887596485   \n",
       "\n",
       "                  120_138                 140_158                 160_178  \\\n",
       "0  2637194709035841391957  3071050719241934349966  2370558330344629999283   \n",
       "1  2938560933347170988955  1958150446625914300659  2685293912844441057040   \n",
       "2  2174173164555334174955  4155498018927972639395  2615121233526351839089   \n",
       "3  2811467167865376361965  2074319928613950632475  4002501207155931332150   \n",
       "4  4042256879128843153452  4543472916943652554101  1148943157007226580074   \n",
       "\n",
       "                  180_198  ...               1820_1838  \\\n",
       "0   235626377026497747258  ...  3183371276587968459919   \n",
       "1  2996471617131709540040  ...  2406875528055322590430   \n",
       "2  3144794623269201099218  ...  4463765848231655546792   \n",
       "3  1114525386803370395668  ...  3231679587936656833368   \n",
       "4  2392806385667591983355  ...  4460034125568607306776   \n",
       "\n",
       "                1840_1858               1860_1878               1880_1898  \\\n",
       "0  2388183159638022278621   689161408604333275123  2187161150259881967611   \n",
       "1  1154588136794546935906  3474575477775397314140  1820855275549529229449   \n",
       "2  4008441656227885382104  2092251949141543976095   995157118279836661976   \n",
       "3  2695538525542696743636  1489286687957619373990  1347058672114247726353   \n",
       "4   214384210614710818865  2841188869828719380750  2226610454999826938375   \n",
       "\n",
       "                1900_1918               1920_1938               1940_1958  \\\n",
       "0  4132491864550671574633  3285388285830656705419    55438616183495358478   \n",
       "1  1107492220024238346779  2346447455019759978982  3791574336824024490012   \n",
       "2   482708942680299208057  2739500373841571502816  3714487502406291384077   \n",
       "3  2502130643029872620105  1439749815282087310920  3058510048590310227472   \n",
       "4  4318539874686689610205  3983161425418981312730   849185892951359646939   \n",
       "\n",
       "                1960_1978               1980_1998 label  \n",
       "0  3812627068413044718922  1316424663448686494011     3  \n",
       "1  4133242031235392159836  4587152035580429674873     2  \n",
       "2   504837335454242487987  1677320467643148316050     3  \n",
       "3  3955910120191937894580  3748551112390420417919     1  \n",
       "4  3199643796617003491667  3289582972247404910695     1  \n",
       "\n",
       "[5 rows x 101 columns]"
      ]
     },
     "execution_count": 24,
     "metadata": {},
     "output_type": "execute_result"
    }
   ],
   "source": [
    "new_df.to_pickle(\"./Data/pickled_NumSplit_data\")\n",
    "new_df.head()"
   ]
  },
  {
   "cell_type": "code",
   "execution_count": 17,
   "metadata": {},
   "outputs": [
    {
     "name": "stderr",
     "output_type": "stream",
     "text": [
      "/var/folders/s4/rbw51hr572v983ntn5czj87h0000gn/T/ipykernel_16825/4226739865.py:1: PerformanceWarning: DataFrame is highly fragmented.  This is usually the result of calling `frame.insert` many times, which has poor performance.  Consider joining all columns at once using pd.concat(axis=1) instead. To get a de-fragmented frame, use `newframe = frame.copy()`\n",
      "  new_df['label'] = df['class']\n"
     ]
    }
   ],
   "source": [
    "new_df['label'] = df['class']"
   ]
  },
  {
   "cell_type": "markdown",
   "metadata": {},
   "source": [
    "### Train Test Split"
   ]
  },
  {
   "cell_type": "code",
   "execution_count": 18,
   "metadata": {},
   "outputs": [],
   "source": [
    "X = new_df.drop('label',axis=1)\n",
    "y = new_df['label']\n",
    "\n",
    "X_train, X_test, y_train, y_test = train_test_split(np.asarray(X).astype('float32'), np.asarray(y).astype('float32'), test_size=0.3, random_state=42)\n",
    "\n",
    "y_train = tf.keras.utils.to_categorical(y_train, num_classes=4)\n",
    "y_test = tf.keras.utils.to_categorical(y_test, num_classes=4)"
   ]
  },
  {
   "cell_type": "markdown",
   "metadata": {},
   "source": [
    "### DL Model"
   ]
  },
  {
   "cell_type": "code",
   "execution_count": 1,
   "metadata": {},
   "outputs": [],
   "source": [
    "from keras.models import Sequential \n",
    "from keras.layers import Dense, GRU, LSTM"
   ]
  },
  {
   "cell_type": "code",
   "execution_count": 20,
   "metadata": {},
   "outputs": [],
   "source": [
    "classifier = Sequential()\n",
    "\n",
    "classifier.add(Dense(units = 500, kernel_initializer = 'uniform', activation = 'tanh', input_dim = 100))\n",
    "classifier.add(Dense(units = 400, kernel_initializer = 'uniform', activation = 'tanh'))\n",
    "classifier.add(Dense(units = 300, kernel_initializer = 'uniform', activation = 'tanh'))\n",
    "classifier.add(Dense(units = 200, kernel_initializer = 'uniform', activation = 'tanh'))\n",
    "classifier.add(Dense(units = 100, kernel_initializer = 'uniform', activation = 'tanh'))\n",
    "classifier.add(Dense(units = 90, kernel_initializer = 'uniform', activation = 'tanh'))\n",
    "classifier.add(Dense(units = 80, kernel_initializer = 'uniform', activation = 'tanh'))\n",
    "classifier.add(Dense(units = 60, kernel_initializer = 'uniform', activation = 'tanh'))\n",
    "classifier.add(Dense(units = 40, kernel_initializer = 'uniform', activation = 'tanh'))\n",
    "classifier.add(Dense(units = 20, kernel_initializer = 'uniform', activation = 'tanh'))\n",
    "classifier.add(Dense(units = 10, kernel_initializer = 'uniform', activation = 'tanh'))\n",
    "\n",
    "classifier.add(Dense(units = 4, activation = 'softmax'))"
   ]
  },
  {
   "cell_type": "code",
   "execution_count": 21,
   "metadata": {},
   "outputs": [
    {
     "name": "stdout",
     "output_type": "stream",
     "text": [
      "Epoch 1/10\n"
     ]
    },
    {
     "name": "stderr",
     "output_type": "stream",
     "text": [
      "2022-12-01 08:46:31.240268: W tensorflow/core/platform/profile_utils/cpu_utils.cc:128] Failed to get CPU frequency: 0 Hz\n"
     ]
    },
    {
     "name": "stdout",
     "output_type": "stream",
     "text": [
      "1120/1120 [==============================] - 4s 3ms/step - loss: 1.3865 - accuracy: 0.2513\n",
      "Epoch 2/10\n",
      "1120/1120 [==============================] - 4s 3ms/step - loss: 1.3864 - accuracy: 0.2525\n",
      "Epoch 3/10\n",
      "1120/1120 [==============================] - 4s 3ms/step - loss: 1.3864 - accuracy: 0.2509\n",
      "Epoch 4/10\n",
      "1120/1120 [==============================] - 4s 3ms/step - loss: 1.3864 - accuracy: 0.2481\n",
      "Epoch 5/10\n",
      "1120/1120 [==============================] - 4s 3ms/step - loss: 1.3865 - accuracy: 0.2512\n",
      "Epoch 6/10\n",
      "1120/1120 [==============================] - 4s 3ms/step - loss: 1.3864 - accuracy: 0.2485\n",
      "Epoch 7/10\n",
      "1120/1120 [==============================] - 4s 3ms/step - loss: 1.3864 - accuracy: 0.2499\n",
      "Epoch 8/10\n",
      "1120/1120 [==============================] - 4s 3ms/step - loss: 1.3864 - accuracy: 0.2483\n",
      "Epoch 9/10\n",
      "1120/1120 [==============================] - 4s 3ms/step - loss: 1.3864 - accuracy: 0.2491\n",
      "Epoch 10/10\n",
      "1120/1120 [==============================] - 4s 3ms/step - loss: 1.3864 - accuracy: 0.2486\n",
      "750/750 [==============================] - 1s 782us/step\n"
     ]
    }
   ],
   "source": [
    "classifier.compile(optimizer = 'adam', loss = 'categorical_crossentropy', metrics = ['accuracy'])\n",
    "classifier.fit(X_train, y_train, batch_size = 50, epochs = 10)\n",
    "\n",
    "y_pred = classifier.predict(X_test)\n",
    "# y_pred = (y_pred > 0.5)\n"
   ]
  },
  {
   "cell_type": "code",
   "execution_count": 22,
   "metadata": {},
   "outputs": [
    {
     "name": "stdout",
     "output_type": "stream",
     "text": [
      "[[   0 6032    0    0]\n",
      " [   0 5950    0    0]\n",
      " [   0 5993    0    0]\n",
      " [   0 6025    0    0]]\n"
     ]
    }
   ],
   "source": [
    "print(confusion_matrix(y_test.argmax(axis=1), y_pred.argmax(axis=1)))"
   ]
  },
  {
   "cell_type": "code",
   "execution_count": 23,
   "metadata": {},
   "outputs": [
    {
     "data": {
      "text/plain": [
       "array([[0.2493248 , 0.2537506 , 0.2487127 , 0.24821195],\n",
       "       [0.2493248 , 0.2537506 , 0.2487127 , 0.24821195],\n",
       "       [0.2493248 , 0.2537506 , 0.2487127 , 0.24821195],\n",
       "       ...,\n",
       "       [0.2493248 , 0.2537506 , 0.2487127 , 0.24821195],\n",
       "       [0.2493248 , 0.2537506 , 0.2487127 , 0.24821195],\n",
       "       [0.2493248 , 0.2537506 , 0.2487127 , 0.24821195]], dtype=float32)"
      ]
     },
     "execution_count": 23,
     "metadata": {},
     "output_type": "execute_result"
    }
   ],
   "source": [
    "y_pred"
   ]
  },
  {
   "cell_type": "code",
   "execution_count": null,
   "metadata": {},
   "outputs": [],
   "source": []
  }
 ],
 "metadata": {
  "kernelspec": {
   "display_name": "Python 3.9.13 ('base')",
   "language": "python",
   "name": "python3"
  },
  "language_info": {
   "codemirror_mode": {
    "name": "ipython",
    "version": 3
   },
   "file_extension": ".py",
   "mimetype": "text/x-python",
   "name": "python",
   "nbconvert_exporter": "python",
   "pygments_lexer": "ipython3",
   "version": "3.9.13"
  },
  "orig_nbformat": 4,
  "vscode": {
   "interpreter": {
    "hash": "0358c39bdd647a8bed1ed632bed6fcc36e4a102b6b3475b08ffa591b497909b0"
   }
  }
 },
 "nbformat": 4,
 "nbformat_minor": 2
}
