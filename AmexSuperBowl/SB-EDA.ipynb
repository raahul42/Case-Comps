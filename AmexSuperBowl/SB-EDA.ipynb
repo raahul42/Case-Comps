{
 "cells": [
  {
   "cell_type": "markdown",
   "metadata": {},
   "source": [
    "## Import and Load Data"
   ]
  },
  {
   "cell_type": "code",
   "execution_count": 2,
   "metadata": {},
   "outputs": [],
   "source": [
    "import pandas as pd\n",
    "import seaborn as sns\n",
    "import matplotlib.pyplot as plt\n",
    "import numpy as np\n",
    "\n",
    "%matplotlib inline"
   ]
  },
  {
   "cell_type": "code",
   "execution_count": 9,
   "metadata": {},
   "outputs": [
    {
     "name": "stdout",
     "output_type": "stream",
     "text": [
      "<class 'pandas.core.frame.DataFrame'>\n",
      "RangeIndex: 458913 entries, 0 to 458912\n",
      "Columns: 188 entries, B_37 to S_5\n",
      "dtypes: category(4), float32(184)\n",
      "memory usage: 323.9 MB\n"
     ]
    }
   ],
   "source": [
    "df = pd.read_feather('train_allx_Optmzd_feather').drop('ID',axis=1)\n",
    "df.info()"
   ]
  },
  {
   "cell_type": "code",
   "execution_count": 10,
   "metadata": {},
   "outputs": [
    {
     "data": {
      "text/html": [
       "<div>\n",
       "<style scoped>\n",
       "    .dataframe tbody tr th:only-of-type {\n",
       "        vertical-align: middle;\n",
       "    }\n",
       "\n",
       "    .dataframe tbody tr th {\n",
       "        vertical-align: top;\n",
       "    }\n",
       "\n",
       "    .dataframe thead th {\n",
       "        text-align: right;\n",
       "    }\n",
       "</style>\n",
       "<table border=\"1\" class=\"dataframe\">\n",
       "  <thead>\n",
       "    <tr style=\"text-align: right;\">\n",
       "      <th></th>\n",
       "      <th>B_37</th>\n",
       "      <th>S_24</th>\n",
       "      <th>S_4</th>\n",
       "      <th>S_14</th>\n",
       "      <th>B_25</th>\n",
       "      <th>D_38</th>\n",
       "      <th>B_30</th>\n",
       "      <th>D_138</th>\n",
       "      <th>P_2</th>\n",
       "      <th>S_7</th>\n",
       "      <th>...</th>\n",
       "      <th>D_43</th>\n",
       "      <th>D_4</th>\n",
       "      <th>D_85</th>\n",
       "      <th>D_78</th>\n",
       "      <th>D_42</th>\n",
       "      <th>D_52</th>\n",
       "      <th>D_29</th>\n",
       "      <th>R_1</th>\n",
       "      <th>R_28</th>\n",
       "      <th>S_5</th>\n",
       "    </tr>\n",
       "  </thead>\n",
       "  <tbody>\n",
       "    <tr>\n",
       "      <th>0</th>\n",
       "      <td>0.006462</td>\n",
       "      <td>0.008118</td>\n",
       "      <td>0.853027</td>\n",
       "      <td>0.556641</td>\n",
       "      <td>1.003906</td>\n",
       "      <td>NaN</td>\n",
       "      <td>0.021301</td>\n",
       "      <td>0.511230</td>\n",
       "      <td>1.004883</td>\n",
       "      <td>0.081543</td>\n",
       "      <td>...</td>\n",
       "      <td>NaN</td>\n",
       "      <td>0.502441</td>\n",
       "      <td>0.002375</td>\n",
       "      <td>0.008270</td>\n",
       "      <td>0.008835</td>\n",
       "      <td>0.001913</td>\n",
       "      <td>1.007812</td>\n",
       "      <td>0.008171</td>\n",
       "      <td>0.008514</td>\n",
       "      <td>0.004307</td>\n",
       "    </tr>\n",
       "    <tr>\n",
       "      <th>1</th>\n",
       "      <td>0.007748</td>\n",
       "      <td>0.006310</td>\n",
       "      <td>0.758301</td>\n",
       "      <td>0.686035</td>\n",
       "      <td>0.001836</td>\n",
       "      <td>NaN</td>\n",
       "      <td>0.088501</td>\n",
       "      <td>0.557129</td>\n",
       "      <td>0.687988</td>\n",
       "      <td>0.353027</td>\n",
       "      <td>...</td>\n",
       "      <td>NaN</td>\n",
       "      <td>0.009544</td>\n",
       "      <td>1.002930</td>\n",
       "      <td>0.002613</td>\n",
       "      <td>0.003374</td>\n",
       "      <td>0.000530</td>\n",
       "      <td>0.006649</td>\n",
       "      <td>0.006798</td>\n",
       "      <td>0.003426</td>\n",
       "      <td>0.009224</td>\n",
       "    </tr>\n",
       "    <tr>\n",
       "      <th>2</th>\n",
       "      <td>0.005405</td>\n",
       "      <td>0.005219</td>\n",
       "      <td>0.766602</td>\n",
       "      <td>0.284668</td>\n",
       "      <td>1.002930</td>\n",
       "      <td>NaN</td>\n",
       "      <td>0.005821</td>\n",
       "      <td>0.854980</td>\n",
       "      <td>0.927734</td>\n",
       "      <td>0.059479</td>\n",
       "      <td>...</td>\n",
       "      <td>NaN</td>\n",
       "      <td>0.008736</td>\n",
       "      <td>0.008751</td>\n",
       "      <td>0.002541</td>\n",
       "      <td>0.009300</td>\n",
       "      <td>0.001654</td>\n",
       "      <td>0.000212</td>\n",
       "      <td>0.007599</td>\n",
       "      <td>0.009224</td>\n",
       "      <td>0.009636</td>\n",
       "    </tr>\n",
       "    <tr>\n",
       "      <th>3</th>\n",
       "      <td>0.004135</td>\n",
       "      <td>0.000032</td>\n",
       "      <td>0.363281</td>\n",
       "      <td>0.004623</td>\n",
       "      <td>0.533691</td>\n",
       "      <td>NaN</td>\n",
       "      <td>0.002443</td>\n",
       "      <td>0.526367</td>\n",
       "      <td>0.700684</td>\n",
       "      <td>0.334473</td>\n",
       "      <td>...</td>\n",
       "      <td>NaN</td>\n",
       "      <td>0.004646</td>\n",
       "      <td>0.007095</td>\n",
       "      <td>0.000235</td>\n",
       "      <td>0.004581</td>\n",
       "      <td>0.004738</td>\n",
       "      <td>0.002653</td>\n",
       "      <td>0.001221</td>\n",
       "      <td>0.009529</td>\n",
       "      <td>0.007523</td>\n",
       "    </tr>\n",
       "    <tr>\n",
       "      <th>4</th>\n",
       "      <td>0.002968</td>\n",
       "      <td>0.002892</td>\n",
       "      <td>0.757324</td>\n",
       "      <td>0.427734</td>\n",
       "      <td>1.001953</td>\n",
       "      <td>NaN</td>\n",
       "      <td>0.008247</td>\n",
       "      <td>0.820312</td>\n",
       "      <td>1.001953</td>\n",
       "      <td>0.144287</td>\n",
       "      <td>...</td>\n",
       "      <td>NaN</td>\n",
       "      <td>0.000344</td>\n",
       "      <td>0.005577</td>\n",
       "      <td>0.001367</td>\n",
       "      <td>0.005760</td>\n",
       "      <td>1.008789</td>\n",
       "      <td>1.003906</td>\n",
       "      <td>0.003401</td>\n",
       "      <td>0.001020</td>\n",
       "      <td>0.000535</td>\n",
       "    </tr>\n",
       "  </tbody>\n",
       "</table>\n",
       "<p>5 rows × 188 columns</p>\n",
       "</div>"
      ],
      "text/plain": [
       "       B_37      S_24       S_4      S_14      B_25  D_38      B_30     D_138  \\\n",
       "0  0.006462  0.008118  0.853027  0.556641  1.003906   NaN  0.021301  0.511230   \n",
       "1  0.007748  0.006310  0.758301  0.686035  0.001836   NaN  0.088501  0.557129   \n",
       "2  0.005405  0.005219  0.766602  0.284668  1.002930   NaN  0.005821  0.854980   \n",
       "3  0.004135  0.000032  0.363281  0.004623  0.533691   NaN  0.002443  0.526367   \n",
       "4  0.002968  0.002892  0.757324  0.427734  1.001953   NaN  0.008247  0.820312   \n",
       "\n",
       "        P_2       S_7  ...  D_43       D_4      D_85      D_78      D_42  \\\n",
       "0  1.004883  0.081543  ...   NaN  0.502441  0.002375  0.008270  0.008835   \n",
       "1  0.687988  0.353027  ...   NaN  0.009544  1.002930  0.002613  0.003374   \n",
       "2  0.927734  0.059479  ...   NaN  0.008736  0.008751  0.002541  0.009300   \n",
       "3  0.700684  0.334473  ...   NaN  0.004646  0.007095  0.000235  0.004581   \n",
       "4  1.001953  0.144287  ...   NaN  0.000344  0.005577  0.001367  0.005760   \n",
       "\n",
       "       D_52      D_29       R_1      R_28       S_5  \n",
       "0  0.001913  1.007812  0.008171  0.008514  0.004307  \n",
       "1  0.000530  0.006649  0.006798  0.003426  0.009224  \n",
       "2  0.001654  0.000212  0.007599  0.009224  0.009636  \n",
       "3  0.004738  0.002653  0.001221  0.009529  0.007523  \n",
       "4  1.008789  1.003906  0.003401  0.001020  0.000535  \n",
       "\n",
       "[5 rows x 188 columns]"
      ]
     },
     "execution_count": 10,
     "metadata": {},
     "output_type": "execute_result"
    }
   ],
   "source": [
    "df.head()"
   ]
  },
  {
   "cell_type": "markdown",
   "metadata": {},
   "source": [
    "## Dealing with missing values"
   ]
  },
  {
   "cell_type": "code",
   "execution_count": 42,
   "metadata": {},
   "outputs": [
    {
     "data": {
      "text/plain": [
       "D_22    10.535330\n",
       "D_99     6.619337\n",
       "R_5      6.261753\n",
       "D_6      4.858219\n",
       "D_56     4.858219\n",
       "P_1      4.841876\n",
       "D_4      2.790725\n",
       "dtype: float64"
      ]
     },
     "execution_count": 42,
     "metadata": {},
     "output_type": "execute_result"
    }
   ],
   "source": [
    "(df.isnull().sum().sort_values(ascending=False)/4589.13).iloc[38:45]"
   ]
  },
  {
   "cell_type": "code",
   "execution_count": 43,
   "metadata": {},
   "outputs": [],
   "source": [
    "null_cols = df.isnull().sum().sort_values(ascending=False).head(39).index"
   ]
  },
  {
   "cell_type": "code",
   "execution_count": 44,
   "metadata": {},
   "outputs": [],
   "source": [
    "df_94 = df.drop(null_cols,axis=1)"
   ]
  },
  {
   "cell_type": "code",
   "execution_count": 45,
   "metadata": {},
   "outputs": [
    {
     "name": "stdout",
     "output_type": "stream",
     "text": [
      "<class 'pandas.core.frame.DataFrame'>\n",
      "RangeIndex: 458913 entries, 0 to 458912\n",
      "Columns: 149 entries, B_37 to S_5\n",
      "dtypes: category(4), float32(145)\n",
      "memory usage: 255.6 MB\n"
     ]
    }
   ],
   "source": [
    "df_94.info()"
   ]
  },
  {
   "cell_type": "code",
   "execution_count": 46,
   "metadata": {},
   "outputs": [
    {
     "data": {
      "text/plain": [
       "D_99    6.619337\n",
       "R_5     6.261753\n",
       "D_6     4.858219\n",
       "D_56    4.858219\n",
       "P_1     4.841876\n",
       "dtype: float64"
      ]
     },
     "execution_count": 46,
     "metadata": {},
     "output_type": "execute_result"
    }
   ],
   "source": [
    "(df_94.isnull().sum().sort_values(ascending=False)/4589.13).head()"
   ]
  },
  {
   "cell_type": "code",
   "execution_count": 51,
   "metadata": {},
   "outputs": [
    {
     "data": {
      "text/plain": [
       "85.17758267906989"
      ]
     },
     "execution_count": 51,
     "metadata": {},
     "output_type": "execute_result"
    }
   ],
   "source": [
    "df_94.dropna().count()[0]/4589.13"
   ]
  },
  {
   "cell_type": "code",
   "execution_count": 52,
   "metadata": {},
   "outputs": [],
   "source": [
    "df_full = df_94.dropna()"
   ]
  },
  {
   "cell_type": "markdown",
   "metadata": {},
   "source": [
    "## Exploratory Analysis"
   ]
  },
  {
   "cell_type": "markdown",
   "metadata": {},
   "source": []
  }
 ],
 "metadata": {
  "kernelspec": {
   "display_name": "Python 3.10.6 64-bit",
   "language": "python",
   "name": "python3"
  },
  "language_info": {
   "codemirror_mode": {
    "name": "ipython",
    "version": 3
   },
   "file_extension": ".py",
   "mimetype": "text/x-python",
   "name": "python",
   "nbconvert_exporter": "python",
   "pygments_lexer": "ipython3",
   "version": "3.10.6"
  },
  "orig_nbformat": 4,
  "vscode": {
   "interpreter": {
    "hash": "aee8b7b246df8f9039afb4144a1f6fd8d2ca17a180786b69acc140d282b71a49"
   }
  }
 },
 "nbformat": 4,
 "nbformat_minor": 2
}
